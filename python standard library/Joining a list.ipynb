{
 "cells": [
  {
   "cell_type": "markdown",
   "id": "28b93bf0-8350-415c-b097-11015496bb44",
   "metadata": {},
   "source": [
    "# Joining a list\r\n",
    "Define an array of letters from a to e.\r\n",
    "Write out these letters connected by a space character.\r\n",
    "The result of your program should be the string: \"a b c d e\".\r\n",
    "\r\n",
    "Hint:\r\n",
    "Use the join method."
   ]
  },
  {
   "cell_type": "code",
   "execution_count": 5,
   "id": "f30315f4-ae42-4fd8-af30-8df7691579cc",
   "metadata": {},
   "outputs": [
    {
     "name": "stdout",
     "output_type": "stream",
     "text": [
      "a b c d e\n"
     ]
    }
   ],
   "source": [
    "letters = 'a', 'b', 'c', 'd', 'e'\n",
    "result =' '.join(letters)\n",
    "print (result)\n"
   ]
  }
 ],
 "metadata": {
  "kernelspec": {
   "display_name": "anaconda-2024.02-py310",
   "language": "python",
   "name": "conda-env-anaconda-2024.02-py310-py"
  },
  "language_info": {
   "codemirror_mode": {
    "name": "ipython",
    "version": 3
   },
   "file_extension": ".py",
   "mimetype": "text/x-python",
   "name": "python",
   "nbconvert_exporter": "python",
   "pygments_lexer": "ipython3",
   "version": "3.10.14"
  }
 },
 "nbformat": 4,
 "nbformat_minor": 5
}
