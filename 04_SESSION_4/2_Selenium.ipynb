{
 "cells": [
  {
   "cell_type": "markdown",
   "id": "knowing-portal",
   "metadata": {},
   "source": [
    "# Exercise 2 - Selenium test\n",
    "\n",
    "The aim of this exercise is to test if all the necessary libraries and drivers are installed correctly. **Before classes** make sure that everything works correctly and in case of any problems and ask your mentor for help.\n",
    "\n",
    "Download one of the drivers (and the corresponding browser if you do not have it yet):\n",
    "  - [This is where the driver for Firefox is](https://github.com/mozilla/geckodriver/releases)\n",
    "  - [This is where the driver for Chrome is](https://chromedriver.chromium.org/downloads)\n",
    "\n",
    "Extract the `geckodriver`, `geckodriver.exe`, `chromedriver` or `chromedriver.exe` file and put it in the folder **right next to this exercise**.\n",
    "\n",
    "If everything works as it should, eventually you will see the rates for five currencies read from the website of the National Bank of Poland.\n",
    "\n",
    "> During the course you're going to need Selenium version 4.*+ - if you use an older version your notebook may not open correctly. You'll find an extra comment in the first cell below.\n",
    "\n",
    "## CSS Selectors\n",
    "\n",
    "When you use Selenium, you are going to need CSS selectors: you can learn them quickly while having fun **[playing the flukeout.github.io game](https://flukeout.github.io/)**."
   ]
  },
  {
   "cell_type": "code",
   "execution_count": null,
   "id": "neutral-sailing",
   "metadata": {},
   "outputs": [],
   "source": [
    "!pip show selenium  # check installed Selenium version"
   ]
  },
  {
   "cell_type": "markdown",
   "id": "6e82f36b",
   "metadata": {},
   "source": [
    "your Selenium version should be 4.*+; If it isn't uncomment the line below and restart the notebook:"
   ]
  },
  {
   "cell_type": "code",
   "execution_count": null,
   "id": "3e7c43e4",
   "metadata": {},
   "outputs": [],
   "source": [
    "# uncomment as needed (see above)\n",
    "# !pip install --upgrade --force-reinstall selenium"
   ]
  },
  {
   "cell_type": "markdown",
   "id": "ec9e9139",
   "metadata": {},
   "source": [
    "## Importing required libraries"
   ]
  },
  {
   "cell_type": "code",
   "execution_count": null,
   "id": "naughty-produce",
   "metadata": {},
   "outputs": [],
   "source": [
    "from selenium.webdriver import Firefox, Chrome\n",
    "from selenium.webdriver.chrome.service import Service as ChromeService\n",
    "from selenium.webdriver.firefox.service import Service as FirefoxService\n",
    "from selenium.common.exceptions import InvalidArgumentException\n",
    "\n",
    "from selenium.webdriver.common.by import By\n",
    "\n",
    "import os"
   ]
  },
  {
   "cell_type": "code",
   "execution_count": null,
   "id": "416cc5e7",
   "metadata": {},
   "outputs": [],
   "source": [
    "def get_browser():\n",
    "  browser = None\n",
    "  service = None\n",
    "  if os.path.exists('./geckodriver.exe'):\n",
    "      service = FirefoxService('./geckodriver.exe')\n",
    "      browser = Firefox(service=service)\n",
    "      \n",
    "  elif os.path.exists('./geckodriver'):\n",
    "      service = FirefoxService('./geckodriver')\n",
    "      browser = Firefox(service=service)\n",
    "      \n",
    "  elif os.path.exists('./chromedriver.exe'):\n",
    "      service = ChromeService('./chromedriver.exe')\n",
    "      browser = Chrome(service=service)\n",
    "      \n",
    "  elif os.path.exists('./chromedriver'):\n",
    "      service = ChromeService('./chromedriver')\n",
    "      browser = Chrome(service=service)\n",
    "  \n",
    "  return browser\n"
   ]
  },
  {
   "cell_type": "code",
   "execution_count": null,
   "id": "d90759c0",
   "metadata": {},
   "outputs": [],
   "source": [
    "try:\n",
    "    browser = get_browser()\n",
    "except InvalidArgumentException:\n",
    "    print(\"Read the comment in the next cell\")\n",
    "\n",
    "if browser is None:\n",
    "    print('None of the listed files found!')\n",
    "    print(f'Make sure that the file is in the working directory of the notebook: \"{os.getcwd()}\"')"
   ]
  },
  {
   "cell_type": "markdown",
   "id": "9e2d7546",
   "metadata": {},
   "source": [
    "### NOTE\n",
    "\n",
    "If the previous cell has an `InvalidArgumentException` open Firefox using the additional configuration: \n",
    "```python\n",
    "from selenium.webdriver.firefox.options import Options\n",
    "binary = r'C:\\Program Files\\Mozilla Firefox\\firefox.exe' # This is the path where your Firefox should be installed; edit it if necessary\n",
    "\n",
    "options = Options() \n",
    "options.binary = binary\n",
    "\n",
    "service = FirefoxService('./geckodriver.exe')\n",
    "browser = Firefox(service=service, options=options)\n",
    "```\n",
    "--------\n",
    "the code above should replace this one:\n",
    "```python\n",
    "service = FirefoxService('./geckodriver.exe')\n",
    "browser = Firefox(service=service)\n",
    "```\n",
    "\n",
    "If you still have problems, contact your mentor.\n",
    "> If you used this code to configure your browser you need to remember about it during classes!"
   ]
  },
  {
   "cell_type": "code",
   "execution_count": null,
   "id": "d5c7990e",
   "metadata": {},
   "outputs": [],
   "source": [
    "if browser is not None:\n",
    "    browser.get('https://www.nbp.pl/')\n",
    "    table = browser.find_element(by=By.CSS_SELECTOR, value='.row.exchange__table')\n",
    "    currencies = table.find_elements(by=By.CSS_SELECTOR, value='div.exchange__table-col-1')\n",
    "    rates = table.find_elements(by=By.CSS_SELECTOR, value='div.exchange__table-col-2')\n",
    "\n",
    "    counter = 0\n",
    "    if len(currencies) == len(rates):\n",
    "        for i, item in enumerate(currencies):\n",
    "            currency = currencies[i].text\n",
    "            rate = rates[i].text\n",
    "            print(f'{currency} is now worth {rate} PLN')\n",
    "            counter += 1\n",
    "\n",
    "    browser.quit()\n",
    "    \n",
    "    if counter == 5:\n",
    "        print('Five currency rates checked - everything works!')\n",
    "    else:\n",
    "        print('ERROR!!! We expected to get five exchange rates - something went wrong!')\n",
    "else:\n",
    "    print(\"browser variable is not defined correctly. Check if running the script launches a new browser window.\")"
   ]
  }
 ],
 "metadata": {
  "kernelspec": {
   "display_name": "Python 3 (ipykernel)",
   "language": "python",
   "name": "python3"
  },
  "language_info": {
   "codemirror_mode": {
    "name": "ipython",
    "version": 3
   },
   "file_extension": ".py",
   "mimetype": "text/x-python",
   "name": "python",
   "nbconvert_exporter": "python",
   "pygments_lexer": "ipython3",
   "version": "3.9.13"
  },
  "vscode": {
   "interpreter": {
    "hash": "9c8a9c5b4e44142284dd46eedec3ab190f3c7edfdb85cabc71ac760cec5f7d1e"
   }
  }
 },
 "nbformat": 4,
 "nbformat_minor": 5
}
