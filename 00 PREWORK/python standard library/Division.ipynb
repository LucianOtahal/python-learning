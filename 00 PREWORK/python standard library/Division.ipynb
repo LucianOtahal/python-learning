{
 "cells": [
  {
   "cell_type": "markdown",
   "id": "8e7e6eaf-5035-4362-a4bb-379a03b04186",
   "metadata": {},
   "source": [
    "# Division \n",
    "\n",
    "Divide 11 by 7 and save the calculation in the result variable.\r\n",
    "Round the result to two decimal places.\r\n",
    "Display the result as:\r\n",
    "11 : 7 = <result>\r\n",
    "\r\n",
    "Hint: use the round function."
   ]
  },
  {
   "cell_type": "code",
   "execution_count": 15,
   "id": "57c9a470-3c29-47b5-a63a-867871ffbfef",
   "metadata": {},
   "outputs": [
    {
     "name": "stdout",
     "output_type": "stream",
     "text": [
      "2\n",
      "11:7 = 2\n"
     ]
    }
   ],
   "source": [
    "result = 11/7\n",
    "print (round(result))\n",
    "print(f\"11:7 = {round(result)}\") # Tady se round(result) vyhodnotí uvnitř f-stringu a výsledek (tedy 2) se vloží do textu.\n"
   ]
  },
  {
   "cell_type": "markdown",
   "id": "61be7e56-e80f-4c8c-8b64-62b07b19386f",
   "metadata": {},
   "source": [
    "# Co jsou složené závorky {} ve f-stringu?\r\n",
    "Ve formátovaném řetězci (tzv. f-string, např. f\"Výsledek je {něco}\") se složené závorky používají k vložením hodnoty nebo výrazu přímo do textu. Python uvnitř těchto závorek vyhodnotí výraz a nahradí ho jeho výsledkem.\r\n"
   ]
  }
 ],
 "metadata": {
  "kernelspec": {
   "display_name": "anaconda-2024.02-py310",
   "language": "python",
   "name": "conda-env-anaconda-2024.02-py310-py"
  },
  "language_info": {
   "codemirror_mode": {
    "name": "ipython",
    "version": 3
   },
   "file_extension": ".py",
   "mimetype": "text/x-python",
   "name": "python",
   "nbconvert_exporter": "python",
   "pygments_lexer": "ipython3",
   "version": "3.10.14"
  }
 },
 "nbformat": 4,
 "nbformat_minor": 5
}
