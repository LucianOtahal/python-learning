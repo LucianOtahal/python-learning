{
 "cells": [
  {
   "cell_type": "markdown",
   "id": "cc19d5f9-3845-42b8-b0d0-2371ca4b127e",
   "metadata": {},
   "source": [
    "# Increment and decrement\n",
    "Create a variable named counter.\n",
    "\n",
    "Put the number 145 into it.\n",
    "Print the value of the counter variable.\n",
    "Use increment to increase the value of counter variable by 1.\n",
    "Print the value of the counter variable.\n",
    "Use decrement to decrease the value of counter variable by 1.\n",
    "Print the value of the counter variable.\n",
    "Hint:\n",
    "Use the shorthand notation."
   ]
  },
  {
   "cell_type": "code",
   "execution_count": 6,
   "id": "6f1c7c28-a5a5-46d4-9289-57707acb9e0f",
   "metadata": {},
   "outputs": [
    {
     "name": "stdout",
     "output_type": "stream",
     "text": [
      "145\n",
      "146\n",
      "145\n"
     ]
    }
   ],
   "source": [
    "Counter = 145 #Create a variable named counter.\n",
    "print (Counter)  # Print the value of the counter variable.\n",
    "Counter += 1  # Use increment to increase the value of counter variable by 1.\n",
    "print (Counter) # Print the value of the counter variable.\n",
    "Counter -= 1 # Use decrement to decrease the value of counter variable by 1.\n",
    "print (Counter) \n",
    "\n",
    "\n"
   ]
  }
 ],
 "metadata": {
  "kernelspec": {
   "display_name": "anaconda-2024.02-py310",
   "language": "python",
   "name": "conda-env-anaconda-2024.02-py310-py"
  },
  "language_info": {
   "codemirror_mode": {
    "name": "ipython",
    "version": 3
   },
   "file_extension": ".py",
   "mimetype": "text/x-python",
   "name": "python",
   "nbconvert_exporter": "python",
   "pygments_lexer": "ipython3",
   "version": "3.10.14"
  }
 },
 "nbformat": 4,
 "nbformat_minor": 5
}
