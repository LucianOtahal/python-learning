{
 "cells": [
  {
   "cell_type": "code",
   "execution_count": 2,
   "id": "4a1d939b-5bc8-4120-bef1-f26bfd9e25fe",
   "metadata": {},
   "outputs": [],
   "source": [
    "my_text_file = open('file.txt')"
   ]
  },
  {
   "cell_type": "code",
   "execution_count": 3,
   "id": "470670e3-c68b-4472-8b01-be74948689eb",
   "metadata": {},
   "outputs": [],
   "source": [
    "my_text_file.close()"
   ]
  },
  {
   "cell_type": "code",
   "execution_count": 4,
   "id": "5f0b676f-441c-4679-bda8-2478556feff5",
   "metadata": {},
   "outputs": [
    {
     "name": "stdout",
     "output_type": "stream",
     "text": [
      "C:\\Users\\lucia\\Dropbox\\Aktuální\\DATOVÝ ANALYTIK\\CODERS LAB kurz\\03 PYTHON\\PRVNÍ VÍKEND\\1_2_SO_NE\\NEDEL╠îA\n"
     ]
    }
   ],
   "source": [
    "import os #- os je modul v Pythonu, který umožňuje pracovat s operačním systémem (např. soubory, složky, cesty).\n",
    "\n",
    "print(os.getcwd()) # - getcwd() znamená „get current working directory“ — tedy zjisti, ve které složce právě pracuješ.\n",
    "\n",
    "\n",
    "my_text_file = open('file.txt')\n",
    "\n",
    "# os.chdir(\"/path\")\n",
    "my_text_file.close()"
   ]
  },
  {
   "cell_type": "code",
   "execution_count": null,
   "id": "7bb790f4-4b34-4088-9618-207bb951ffb7",
   "metadata": {},
   "outputs": [],
   "source": [
    "with open('file.txt') as my_text_file:\n",
    "    # blok kódu, který se provede, když je soubor otevřený\n",
    "    # ...\n",
    "    # ...\n",
    "    # poslední řádek s odsazením – soubor je stále otevřený\n",
    " \n",
    "# blok kódu bez odsazení\n",
    "# v tomto okamžiku je soubor již uzavřený\n",
    "# a neměl by být dále zpracováván\n"
   ]
  },
  {
   "cell_type": "code",
   "execution_count": 5,
   "id": "d968e1ec-0bf0-4be5-b42f-6f20ad5b86b1",
   "metadata": {},
   "outputs": [
    {
     "name": "stdout",
     "output_type": "stream",
     "text": [
      "<class '_io.TextIOWrapper'>\n"
     ]
    }
   ],
   "source": [
    "with open('file.txt') as my_text_file:\n",
    "    print(type(my_text_file))\n",
    "    # block of code that will execute when the file is open\n",
    "    # ...\n",
    "    # ...\n",
    "    # last line with indentation - file still open"
   ]
  },
  {
   "cell_type": "code",
   "execution_count": 8,
   "id": "61afbc94-b4d3-4fa2-b7f9-532704694452",
   "metadata": {},
   "outputs": [
    {
     "name": "stdout",
     "output_type": "stream",
     "text": [
      "Line from file: Hello world!\n",
      "\n",
      "Line from file: This is Sunday session.\n",
      "\n",
      "Line from file: 6.4.2025\n",
      "\n",
      "Line from file: 19\n"
     ]
    }
   ],
   "source": [
    "with open('file.txt') as my_text_file: #- Otevři soubor jménem file.txt a dej mi ho jako proměnnou my_text_file.“\n",
    "# - Použití with je chytré — Python se automaticky postará o zavření souboru, až skončíš. Nemusíš to dělat ručně.\n",
    "\n",
    "    for radek in my_text_file:\n",
    "        print('Line from file:', radek)"
   ]
  },
  {
   "cell_type": "code",
   "execution_count": 9,
   "id": "b4cea65a-51b0-4aac-800f-06ce7c332370",
   "metadata": {},
   "outputs": [
    {
     "name": "stdout",
     "output_type": "stream",
     "text": [
      "19\n"
     ]
    }
   ],
   "source": [
    "print(radek)"
   ]
  },
  {
   "cell_type": "code",
   "execution_count": 10,
   "id": "76912096-5d0e-4242-b3ef-907bd82abfbc",
   "metadata": {},
   "outputs": [
    {
     "name": "stdout",
     "output_type": "stream",
     "text": [
      "Hello world!\n",
      "\n",
      "This is Sunday session.\n",
      "\n",
      "6.4.2025\n",
      "\n",
      "19\n",
      "\n",
      "\n",
      "\n",
      "\n"
     ]
    }
   ],
   "source": [
    "with open('file.txt') as my_text_file:\n",
    "    print(my_text_file.readline()) # readline() je funkce, ne proměnná\n",
    "#- Když napíšeš my_text_file.readline, odkazuješ na funkci samotnou, ale nic se nestane.\n",
    "#- Když napíšeš my_text_file.readline(), říkáš: „Spusť tu funkci a vrať mi výsledek.“\n",
    "\n",
    "    print(my_text_file.readline())\n",
    "    print(my_text_file.readline())\n",
    "    print(my_text_file.readline())\n",
    "    print(my_text_file.readline())\n",
    "    print(my_text_file.readline())\n",
    "    print(my_text_file.readline())\n",
    "    print(my_text_file.readline())"
   ]
  },
  {
   "cell_type": "code",
   "execution_count": 12,
   "id": "16aeb397-ad1b-444e-8643-0ffeb7a33561",
   "metadata": {},
   "outputs": [
    {
     "name": "stdout",
     "output_type": "stream",
     "text": [
      "<_io.TextIOWrapper name='Bez názvu.txt' mode='r' encoding='cp1250'>\n"
     ]
    }
   ],
   "source": [
    "with open('Bez názvu.txt', 'w') as my_text_file:\n",
    "    my_text_file.write('Line1\\n')\n",
    "    my_text_file.write('Line2\\n')\n",
    "    my_text_file.writelines(['Line3\\n', 'Line4\\n', 'Line5'])\n"
   ]
  },
  {
   "cell_type": "code",
   "execution_count": 15,
   "id": "da069638-bef9-4f30-a779-0cb519db9e2d",
   "metadata": {},
   "outputs": [
    {
     "name": "stdout",
     "output_type": "stream",
     "text": [
      "Line1\n",
      "Line2\n",
      "Line3\n",
      "Line4\n",
      "Line5\n"
     ]
    }
   ],
   "source": [
    "with open ('Bez názvu.txt') as my_text_file: \n",
    "    print (my_text_file.read())"
   ]
  },
  {
   "cell_type": "code",
   "execution_count": 16,
   "id": "1a301d95-184a-4398-86c7-0c1d5453b5a5",
   "metadata": {},
   "outputs": [],
   "source": [
    "from datetime import datetime  #- Importuje funkci datetime, která umí zjistit aktuální datum a čas.\n",
    "\n",
    "with open('novy_subor.txt', 'a') as my_text_file: #- Otevře soubor novy_subor.txt v režimu přidávání ('a' = append).\n",
    "                                                        #- Pokud soubor neexistuje, vytvoří se.\n",
    "\n",
    "    my_text_file.write(str(datetime.now()) + \"\\n\") # To str v tom řádku znamená funkci str(), která převádí nějakou hodnotu na řetězec (text).\n",
    "\n",
    "    my_text_file.write(\"Počet pritomnych: 10\\n\")\n",
    "    my_text_file.writelines(['JSON\\n', \"API\"])\n",
    "\n"
   ]
  },
  {
   "cell_type": "code",
   "execution_count": null,
   "id": "2c5dfd60-7656-4112-9a9d-e849e03913f1",
   "metadata": {},
   "outputs": [],
   "source": [
    "import locale # - locale je modul, který pracuje s jazykovým a regionálním nastavením systému.\n",
    "\n",
    "print(locale.getpreferredencoding(False)) #- vrátí výchozí kódování znaků, které tvůj počítač používá pro práci s textem (např. při čtení/zápisu souborů).\n"
   ]
  },
  {
   "cell_type": "code",
   "execution_count": null,
   "id": "95e0e5bd-1896-4d3d-aec4-880b4eb1c953",
   "metadata": {},
   "outputs": [],
   "source": [
    "Exercise 1\n",
    "Open the poem.txt file and display its content prefixing each line with the string\"line <LINE NUMBER>: \".\n",
    "\n",
    "Hint:\n",
    "\n",
    "Use a for loop to read a file line by line, apart from this create a variable to store the line number.\n",
    "\n",
    "You can insert the line number into the string using .format(...) method of f-string syntax."
   ]
  },
  {
   "cell_type": "code",
   "execution_count": 38,
   "id": "4d94bcfb-d243-470b-b5e4-147664d9a231",
   "metadata": {},
   "outputs": [
    {
     "name": "stdout",
     "output_type": "stream",
     "text": [
      "line 1:Faster than fairies, faster than witches,\n",
      "line 2:Bridges and houses, hedges and ditches;\n",
      "line 3:And charging along like troops in a battle,\n",
      "line 4:All through the meadows the horses and cattle:\n",
      "line 5:All of the sights of the hill and the plain\n",
      "line 6:Fly as thick as driving rain;\n",
      "line 7:And ever again in the wink of an eye,\n",
      "line 8:Painted stations whistle by.\n",
      "line 9:Here is a child who clambers and scrambles,\n",
      "line 10:All by himself and gathering brambles;\n",
      "line 11:Here is a tramp who stands and gazes;\n",
      "line 12:And there is the green for stringing the daisies!\n",
      "line 13:Here is a cart run away in the road\n",
      "line 14:Lumping along with man and load;\n",
      "line 15:And here is a mill and there is a river,\n",
      "line 16:Each a glimpse and gone forever!\n",
      "line 17:\n",
      "line 18:Robert Louis Stevenson - From A Childâ€™s Garden of Verses (1885)\n",
      "line 19:https://www.gutenberg.org/files/19722/19722-h/19722-h.htm#FROM_A_RAILWAY_CARRIAGE\n"
     ]
    }
   ],
   "source": [
    "with open ('poem.txt') as my_file: \n",
    "    line = 1\n",
    "    for pivo in my_file: \n",
    "         print (f\"line {line}:{pivo.strip()}\")\n",
    "         line +=1 "
   ]
  },
  {
   "cell_type": "code",
   "execution_count": null,
   "id": "7c172bc8-166f-4458-b053-442066b804ac",
   "metadata": {},
   "outputs": [],
   "source": [
    "Exercise 2\n",
    "Open the tree.txt file in the write mode and write a 12-line-high tree in it. Use the for loop to generate the tree.\n",
    "\n",
    "Expected file content:\n",
    "*\n",
    "**\n",
    "***\n",
    "****\n",
    "*****\n",
    "******\n",
    "*******\n",
    "********\n",
    "*********\n",
    "**********\n",
    "***********\n",
    "***********"
   ]
  },
  {
   "cell_type": "code",
   "execution_count": 51,
   "id": "663eddfa-8c08-4e49-bb5d-c60c9aced909",
   "metadata": {},
   "outputs": [
    {
     "name": "stdout",
     "output_type": "stream",
     "text": [
      "<built-in method readline of _io.TextIOWrapper object at 0x0000016D18E93060>\n"
     ]
    }
   ],
   "source": [
    "with open ('tree.txt', 'w') as file: #závorky, spouštím fkci, uvozovky, říkám, že je to název souboru jako text\n",
    "    \n",
    "    for i in range (1,13):\n",
    "        file.write (f\"{i* '*'}\\n\")\n",
    "\n",
    "        \n",
    "\n",
    "\n"
   ]
  },
  {
   "cell_type": "code",
   "execution_count": 57,
   "id": "7d6101e7-4d7a-4ede-838c-8e69c9903883",
   "metadata": {},
   "outputs": [
    {
     "name": "stdout",
     "output_type": "stream",
     "text": [
      "['*\\n', '**\\n', '***\\n', '****\\n', '*****\\n', '******\\n', '*******\\n', '********\\n', '*********\\n', '**********\\n', '***********\\n', '************\\n']\n"
     ]
    }
   ],
   "source": [
    "with open ('tree.txt', 'r') as file:\n",
    "    print (file.readlines ())"
   ]
  },
  {
   "cell_type": "code",
   "execution_count": 58,
   "id": "77fc1583-53f0-441c-9c63-7d331f270765",
   "metadata": {},
   "outputs": [
    {
     "name": "stdout",
     "output_type": "stream",
     "text": [
      "*\n",
      "**\n",
      "***\n",
      "****\n",
      "*****\n",
      "******\n",
      "*******\n",
      "********\n",
      "*********\n",
      "**********\n",
      "***********\n",
      "************\n"
     ]
    }
   ],
   "source": [
    " with open ('tree.txt', 'r') as file:\n",
    "     for line in file:\n",
    "        print(line.strip())\n"
   ]
  }
 ],
 "metadata": {
  "kernelspec": {
   "display_name": "Python [conda env:base] *",
   "language": "python",
   "name": "conda-base-py"
  },
  "language_info": {
   "codemirror_mode": {
    "name": "ipython",
    "version": 3
   },
   "file_extension": ".py",
   "mimetype": "text/x-python",
   "name": "python",
   "nbconvert_exporter": "python",
   "pygments_lexer": "ipython3",
   "version": "3.13.5"
  }
 },
 "nbformat": 4,
 "nbformat_minor": 5
}
