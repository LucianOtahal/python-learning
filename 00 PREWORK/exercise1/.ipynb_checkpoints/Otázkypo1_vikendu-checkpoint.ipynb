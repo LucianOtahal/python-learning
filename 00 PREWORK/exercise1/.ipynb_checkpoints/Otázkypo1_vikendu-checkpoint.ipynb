{
 "cells": [
  {
   "cell_type": "markdown",
   "id": "200bd796-dc37-45f2-b93d-25957a38397a",
   "metadata": {},
   "source": [
    "OTÁZKY PRO PRVNÍM VÍKENDU\n"
   ]
  },
  {
   "cell_type": "code",
   "execution_count": null,
   "id": "b98b6292-a230-47cf-93a9-14131172d9d3",
   "metadata": {},
   "outputs": [],
   "source": [
    "FUNKCE: \n",
    "jak je to v pythonu s funkcemi, například net_gross už je někde definovaná? "
   ]
  },
  {
   "cell_type": "code",
   "execution_count": null,
   "id": "f06ba917-3e77-449b-9570-75d07074bd8b",
   "metadata": {},
   "outputs": [],
   "source": [
    "\n",
    "Copilot říká: V Pythonu platí, že funkce jako net_gross() musí být nejprve definovaná, než ji můžeš použít. Pokud ji zavoláš dřív, než ji interpreter zná, dostaneš chybu typu NameError.\n",
    "🧠 Jak poznat, jestli už je funkce definovaná?\n",
    "- Pokud ji definuješ sám pomocí def net_gross():, pak ji můžeš použít dál v kódu. # my jsme ji ale nedefinovali....\n",
    "- Pokud pochází z nějakého modulu (např. finance, trading, pandas, apod.), musíš ji importovat.# o tom nevím...\n",
    "- Pokud pracuješ v prostředí jako Jupyter Notebook nebo nějaký framework, může být definovaná v jiné buňce nebo souboru.# spíš ne! \n",
    "✅ Příklad definice funkce:\n",
    "def net_gross(revenue, expenses):\n",
    "    return revenue - expenses\n",
    "\n",
    "print(net_gross(10000, 2500))  # Výstup: 7500\n",
    "\n",
    "\n",
    "🔍 Co když nevíš, odkud se bere?\n",
    "Zkus:\n",
    "print(net_gross.__module__)\n",
    "help(net_gross)\n",
    "\n",
    "\n",
    "Pokud to vyhodí chybu, funkce není definovaná nebo není dostupná v aktuálním kontextu.\n",
    "\n"
   ]
  },
  {
   "cell_type": "code",
   "execution_count": 1,
   "id": "34cac875-2dae-449b-a96e-25956e308162",
   "metadata": {},
   "outputs": [],
   "source": [
    "def net(gross):\n",
    "    return round(gross / 1.21, 2)"
   ]
  },
  {
   "cell_type": "code",
   "execution_count": 3,
   "id": "9f270650-1a88-464b-939c-c2efe9d09283",
   "metadata": {},
   "outputs": [
    {
     "name": "stdout",
     "output_type": "stream",
     "text": [
      "123966.94\n"
     ]
    }
   ],
   "source": [
    "print (net(150000))# vypočítá čístou částku po odečtení daně 21%, DPH"
   ]
  },
  {
   "cell_type": "code",
   "execution_count": null,
   "id": "39c8b40e-2b5a-4f0b-a8c8-ca57f04bb6ce",
   "metadata": {},
   "outputs": [],
   "source": [
    "def net_with_rate(gross, tax): # vidím, že bere dva argumenty\n",
    "    return round(gross / (1 + tax), 2) # ale nevídím rozdíl ve výpočtu, vždyť přece 1+0,21 je totéž co 1,21 ve funkci net(gross)?"
   ]
  },
  {
   "cell_type": "code",
   "execution_count": null,
   "id": "9dc21e52-cc12-46e5-942d-3e95585b5d11",
   "metadata": {},
   "outputs": [],
   "source": [
    "Matematicky 1 + 0.21 je totéž co 1.21, takže výpočet v net_with_rate(gross, tax) je ekvivalentní tomu, co dělá net(gross) — jen je to flexibilnější.\n",
    "\n",
    "🔍 Rozdíl není ve výpočtu, ale v možnosti přizpůsobení:\n",
    "1. Pevná sazba (hardcoded):\n",
    "def net(gross):\n",
    "    return round(gross / 1.21, 2)\n",
    "\n",
    "\n",
    "➡️ Funguje jen pro DPH 21 %. Pokud se sazba změní, musíš upravit funkci.\n",
    "2. Dynamická sazba (parametr):\n",
    "def net_with_rate(gross, tax):\n",
    "    return round(gross / (1 + tax), 2)\n",
    "\n",
    "\n",
    "➡️ Můžeš zadat libovolnou sazbu:\n",
    "net_with_rate(1000, 0.21)  # 826.45\n",
    "net_with_rate(1000, 0.15)  # 869.57\n",
    "\n",
    "\n",
    "\n",
    "🧠 Proč je to užitečné?\n",
    "- Pokud pracuješ s různými sazbami DPH (např. 10 %, 15 %, 21 %), nemusíš psát novou funkci pokaždé.\n",
    "- Můžeš ji použít i pro jiné typy daní nebo přirážek — třeba marže, provize, nebo poplatky.\n",
    "\n",
    "\n"
   ]
  },
  {
   "cell_type": "code",
   "execution_count": null,
   "id": "01da1459-51a1-4936-a16a-5b994acbd8cb",
   "metadata": {},
   "outputs": [],
   "source": [
    "def net_with_given_rate(gross, tax=0.21):\n",
    "    return round(gross / (1 + tax), 2)"
   ]
  },
  {
   "cell_type": "code",
   "execution_count": null,
   "id": "77f2ad45-0e31-400b-a138-4bcb75c484f0",
   "metadata": {},
   "outputs": [],
   "source": []
  }
 ],
 "metadata": {
  "kernelspec": {
   "display_name": "Python [conda env:base] *",
   "language": "python",
   "name": "conda-base-py"
  },
  "language_info": {
   "codemirror_mode": {
    "name": "ipython",
    "version": 3
   },
   "file_extension": ".py",
   "mimetype": "text/x-python",
   "name": "python",
   "nbconvert_exporter": "python",
   "pygments_lexer": "ipython3",
   "version": "3.13.5"
  }
 },
 "nbformat": 4,
 "nbformat_minor": 5
}
