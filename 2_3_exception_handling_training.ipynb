{
 "cells": [
  {
   "cell_type": "code",
   "execution_count": 1,
   "id": "e647f2c8-83f6-4365-aea5-e6fd14a69111",
   "metadata": {},
   "outputs": [
    {
     "name": "stdout",
     "output_type": "stream",
     "text": [
      "Prvek neexistuje.\n"
     ]
    }
   ],
   "source": [
    "array = [1, 2] ## Vytvoříš seznam (pole) se dvěma prvky: 1 a 2\n",
    "try:\n",
    "    print(array[5]) # Pokusíš se vytisknout prvek na indexu 5\n",
    "\n",
    "\n",
    "except Exception:  # Jakákoliv chyba! - try–except blok ti umožňuje zachytit chybu a místo toho, aby program spadl, vypíšeš vlastní zprávu.\n",
    "\n",
    "    print(\"Prvek neexistuje.\")"
   ]
  },
  {
   "cell_type": "markdown",
   "id": "b299bd14-2ea1-4002-81aa-0a67f9a10aec",
   "metadata": {},
   "source": [
    "Exercise 1\n",
    "Below there is a proverb() function that was supposed to have one proverb per second. Unfortunately it only knows seven, so most of the time it throws a KeyError.\n",
    "\n",
    "Write a proverb_safe() function that uses the proverb() function to retrieve the proverb for the current second' if that fails, is should catch the exception and instead of it return the string: \"No proverb\""
   ]
  },
  {
   "cell_type": "code",
   "execution_count": 9,
   "id": "93afc7b0-020a-4e07-a286-d1a26b76d8a6",
   "metadata": {},
   "outputs": [],
   "source": [
    "import datetime\n",
    "\n",
    "def proverb():\n",
    "    phrases = {\n",
    "        0 :'all that glitters is not gold',\n",
    "        4:'do not count your chickens before they are hatched',\n",
    "        12:'do not put all your eggs in one basket',\n",
    "        13:'early bird catches the worm',\n",
    "        35:'do not cry over spilled milk',\n",
    "        44:'two wrongs do not make a right',\n",
    "        59:'the proof of the pudding is in the eating',\n",
    "    }\n",
    "    return phrases[datetime.datetime.now().second]"
   ]
  },
  {
   "cell_type": "code",
   "execution_count": 11,
   "id": "ba4a2a48-2357-47fb-b4d3-e1d79d06308a",
   "metadata": {},
   "outputs": [],
   "source": [
    "def proverb_safe():\n",
    "    print (datetime.datetime.now().second)\n",
    "    try:\n",
    "        return (proverb())\n",
    "    except: \n",
    "        return (\"chyba!\")\n",
    "\n",
    "    \n"
   ]
  },
  {
   "cell_type": "code",
   "execution_count": 18,
   "id": "7c6afc03-49a5-4fcf-8e9a-fdc316928bb1",
   "metadata": {},
   "outputs": [
    {
     "name": "stdout",
     "output_type": "stream",
     "text": [
      "59\n"
     ]
    },
    {
     "data": {
      "text/plain": [
       "'the proof of the pudding is in the eating'"
      ]
     },
     "execution_count": 18,
     "metadata": {},
     "output_type": "execute_result"
    }
   ],
   "source": [
    "proverb_safe ()"
   ]
  },
  {
   "cell_type": "code",
   "execution_count": 6,
   "id": "6100f2c2-1bd2-4cf9-9225-123c11ba6801",
   "metadata": {},
   "outputs": [
    {
     "name": "stdout",
     "output_type": "stream",
     "text": [
      "2025-09-07 10:59:22.006004\n"
     ]
    }
   ],
   "source": [
    "print (datetime.datetime.now())"
   ]
  }
 ],
 "metadata": {
  "kernelspec": {
   "display_name": "Python [conda env:base] *",
   "language": "python",
   "name": "conda-base-py"
  },
  "language_info": {
   "codemirror_mode": {
    "name": "ipython",
    "version": 3
   },
   "file_extension": ".py",
   "mimetype": "text/x-python",
   "name": "python",
   "nbconvert_exporter": "python",
   "pygments_lexer": "ipython3",
   "version": "3.13.5"
  }
 },
 "nbformat": 4,
 "nbformat_minor": 5
}
