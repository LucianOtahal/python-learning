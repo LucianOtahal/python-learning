{
 "cells": [
  {
   "cell_type": "code",
   "execution_count": 1,
   "id": "4398139d-1377-4c3a-9b22-30f34a3a32e3",
   "metadata": {},
   "outputs": [
    {
     "name": "stdout",
     "output_type": "stream",
     "text": [
      "The man in black fled across the desert, and the gunslinger followed.\n"
     ]
    }
   ],
   "source": [
    "begin = (\"The man in black fled across the desert,\" +   # první část řetězce\n",
    "         \" and the gunslinger followed.\")              # druhá část řetězce\n",
    "# Obě části se spojí dohromady do jednoho řetězce\n",
    "print(begin)"
   ]
  },
  {
   "cell_type": "code",
   "execution_count": 2,
   "id": "c9a6cc48-4b5c-44fa-baad-21268eb6fda3",
   "metadata": {},
   "outputs": [
    {
     "name": "stdout",
     "output_type": "stream",
     "text": [
      "Harry Potter and the Prisoner of Azkaban\n"
     ]
    }
   ],
   "source": [
    "title = 'Harry Potter and the Prisoner of Azkaban'\n",
    "\n",
    "print(title) "
   ]
  },
  {
   "cell_type": "code",
   "execution_count": null,
   "id": "6f130089-e0f3-47c8-885c-5ecbcea92073",
   "metadata": {},
   "outputs": [],
   "source": [
    "OTÁZKA: TAKŽE CO JE TO BEGIN, TITLE....UVOZENÍ STRINGU? TITLE NEMĚL ZÁVORKY..."
   ]
  },
  {
   "cell_type": "markdown",
   "id": "0b7bee64-4b96-4cd9-8ada-8fb54a702c0f",
   "metadata": {},
   "source": [
    "🧪 Shrnutí:\n",
    "|  |  | \n",
    "| \"text\"'text' |  | \n",
    "| begin = (\"text1\" + \"text2\") |  | \n",
    "| title = 'text' |  | \n",
    "\n"
   ]
  },
  {
   "cell_type": "code",
   "execution_count": 4,
   "id": "7d091376-af9f-4be0-8ea5-ee623d6e3025",
   "metadata": {},
   "outputs": [
    {
     "name": "stdout",
     "output_type": "stream",
     "text": [
      "Harry Potter \n",
      " and the Prisoner of Azkaban\n"
     ]
    }
   ],
   "source": [
    "title = 'Harry Potter \\n and the Prisoner of Azkaban'  \n",
    "# \\n znamená \"nový řádek\" (line break)\n",
    "\n",
    "print(title)  # vypíše text na dva řádky"
   ]
  },
  {
   "cell_type": "code",
   "execution_count": 9,
   "id": "c367f859-5d6b-4bdf-88d5-d930d135c209",
   "metadata": {},
   "outputs": [
    {
     "name": "stdout",
     "output_type": "stream",
     "text": [
      "\n",
      "      VADER\n",
      "If only you knew the power of the Dark Side. Obi-Wan never told you what happened\n",
      "to your father.\n",
      "      LUKE\n",
      "He told me enough! He told me you killed him!\n",
      "      VADER\n",
      "No, I am your father.\n",
      "      LUKE - (shocked)\n",
      "No. No! That's not true! That's impossible!\n",
      "\n"
     ]
    }
   ],
   "source": [
    "screenplay = '''\n",
    "      VADER\n",
    "If only you knew the power of the Dark Side. Obi-Wan never told you what happened\n",
    "to your father.\n",
    "      LUKE\n",
    "He told me enough! He told me you killed him!\n",
    "      VADER\n",
    "No, I am your father.\n",
    "      LUKE - (shocked)\n",
    "No. No! That's not true! That's impossible!\n",
    "'''\n",
    "print(screenplay)"
   ]
  },
  {
   "cell_type": "code",
   "execution_count": 11,
   "id": "7226b89e-255a-4426-aa46-e7550ab015b4",
   "metadata": {},
   "outputs": [
    {
     "name": "stdout",
     "output_type": "stream",
     "text": [
      "Harry\n",
      "Azkaban\n",
      "nabakzA fo renosirP eht dna rettoP yrraH\n",
      "Harry Potter and the Prisoner of \n"
     ]
    }
   ],
   "source": [
    "book = (\"Harry Potter\" + \n",
    "        \" and the Prisoner of Azkaban\")\n",
    "\n",
    "print(book[0:5])   # 'Harry' -> vypíše znaky od indexu 0 do 4\n",
    "print(book[-7:])   # 'Azkaban' -> vypíše posledních 7 znaků\n",
    "print(book[::-1])  # vypíše řetězec pozpátku\n",
    "print(book[:-7]) #od začátku, tj. dvojteček, do mínus sedmi znaků od konce"
   ]
  },
  {
   "cell_type": "code",
   "execution_count": 17,
   "id": "6925c715-a68d-4929-8d51-2372f44aecb5",
   "metadata": {},
   "outputs": [
    {
     "name": "stdout",
     "output_type": "stream",
     "text": [
      "H\n",
      "a\n",
      "r\n",
      "r\n",
      "y\n",
      " \n",
      "P\n",
      "o\n",
      "t\n",
      "t\n",
      "e\n",
      "r\n",
      " \n",
      "a\n",
      "n\n",
      "d\n",
      " \n",
      "t\n",
      "h\n",
      "e\n",
      " \n",
      "P\n",
      "r\n",
      "i\n",
      "s\n",
      "o\n",
      "n\n",
      "e\n",
      "r\n",
      " \n",
      "o\n",
      "f\n",
      " \n",
      "A\n",
      "z\n",
      "k\n",
      "a\n",
      "b\n",
      "a\n",
      "n\n"
     ]
    }
   ],
   "source": [
    "xyz = book[:5]      # vybere prvních 5 znaků z řetězce \"Harry Potter...\"\n",
    "for pivo in book:  # projde každý znak v proměnné name\n",
    "    print(pivo)    # vypíše znak na samostatný řádek"
   ]
  },
  {
   "cell_type": "code",
   "execution_count": 18,
   "id": "18a911ac-1ac1-4398-b9bc-c1368c119a3c",
   "metadata": {},
   "outputs": [
    {
     "name": "stdout",
     "output_type": "stream",
     "text": [
      "BilboBilboBilboBilboBilboBilboBilboBilboBilboBilbo\n"
     ]
    }
   ],
   "source": [
    "print(\"Bilbo\" * 10)"
   ]
  },
  {
   "cell_type": "code",
   "execution_count": null,
   "id": "57055710-d067-47d8-bc00-d62eb8cee53b",
   "metadata": {},
   "outputs": [],
   "source": [
    "- {} = místo, kam se dosadí text\n",
    "- .format(...) = metoda, která tam ten text vloží\n",
    "Je to super způsob, jak spojovat proměnné do vět nebo zpráv.\n",
    "\n"
   ]
  },
  {
   "cell_type": "code",
   "execution_count": 19,
   "id": "3c981915-d80f-46d1-a04e-7dc69eb520d2",
   "metadata": {},
   "outputs": [
    {
     "name": "stdout",
     "output_type": "stream",
     "text": [
      "Han Solo is a smuggler.\n"
     ]
    }
   ],
   "source": [
    "name = \"Han Solo\"        # proměnná se jménem\n",
    "occupation = \"smuggler\"  # proměnná s povoláním\n",
    "\n",
    "# f-string umožňuje vložit přímo proměnné do řetězce pomocí {}\n",
    "description = f\"{name} is a {occupation}.\"\n",
    " \n",
    "print(description)  # vypíše: Han Solo is a smuggler."
   ]
  },
  {
   "cell_type": "code",
   "execution_count": null,
   "id": "203bbe62-fcb0-4adf-ac64-1831eba07053",
   "metadata": {},
   "outputs": [],
   "source": [
    "Exercise 1\n",
    "Write a create_email(first_name, last_name) function that generates an email address in the myamazingcompany.com domain. T\n",
    "he username should be created from the arguments: first letter of first name, period, last name - all in lowercase.\n",
    "\n",
    "Example:"
   ]
  },
  {
   "cell_type": "code",
   "execution_count": 31,
   "id": "b4b4fc57-cdd6-4c3d-a0af-be7c5200f7e6",
   "metadata": {},
   "outputs": [],
   "source": [
    "def create_email(first_name, last_name):\n",
    "    return f\"{first_name [0].lower()}.{last_name.lower()}@myamazingcompany.com\""
   ]
  },
  {
   "cell_type": "code",
   "execution_count": 38,
   "id": "8606a484-83ca-4e25-b4da-ceba7c8eb89f",
   "metadata": {},
   "outputs": [
    {
     "name": "stdout",
     "output_type": "stream",
     "text": [
      "l.otáhal@myamazingcompany.com\n"
     ]
    }
   ],
   "source": [
    "\n",
    "print (create_email ('Lucian', 'Otáhal'))\n"
   ]
  },
  {
   "cell_type": "code",
   "execution_count": 48,
   "id": "a92bb97d-29e7-4536-b798-0d54db298f14",
   "metadata": {},
   "outputs": [
    {
     "name": "stdout",
     "output_type": "stream",
     "text": [
      "SLÁVA! SLÁVA! SLÁVA! SLÁVA! SLÁVA! SLÁVA! SLÁVA! SLÁVA! SLÁVA! SLÁVA! SLÁVA! SLÁVA! SLÁVA! SLÁVA! SLÁVA! SLÁVA! SLÁVA! SLÁVA! SLÁVA! SLÁVA! SLÁVA! SLÁVA! SLÁVA! SLÁVA! SLÁVA! SLÁVA! SLÁVA! SLÁVA! SLÁVA! SLÁVA! SLÁVA! SLÁVA! SLÁVA! SLÁVA! SLÁVA! SLÁVA! SLÁVA! SLÁVA! SLÁVA! SLÁVA! SLÁVA! SLÁVA! SLÁVA! SLÁVA! SLÁVA! SLÁVA! SLÁVA! SLÁVA! SLÁVA! SLÁVA! SLÁVA! SLÁVA! SLÁVA! SLÁVA! SLÁVA! SLÁVA! SLÁVA! SLÁVA! SLÁVA! SLÁVA! SLÁVA! SLÁVA! SLÁVA! SLÁVA! SLÁVA! SLÁVA! SLÁVA! SLÁVA! SLÁVA! SLÁVA! SLÁVA! SLÁVA! SLÁVA! SLÁVA! SLÁVA! SLÁVA! SLÁVA! SLÁVA! SLÁVA! SLÁVA! SLÁVA! SLÁVA! SLÁVA! SLÁVA! SLÁVA! SLÁVA! SLÁVA! SLÁVA! SLÁVA! SLÁVA! SLÁVA! SLÁVA! SLÁVA! SLÁVA! SLÁVA! SLÁVA! SLÁVA! SLÁVA! SLÁVA! SLÁVA! \n"
     ]
    }
   ],
   "source": [
    "print ('SLÁVA! '* 100)"
   ]
  },
  {
   "cell_type": "code",
   "execution_count": null,
   "id": "290b8775-6d06-4058-b6a6-1d0d21581acd",
   "metadata": {},
   "outputs": [],
   "source": [
    "➡️ Kulaté závorky () jsou tam proto, že lower je funkce — konkrétně metoda, která převádí text na malá písmena.\n",
    "🧠 Rozklad:\n",
    "- first_name[0] → vezme první písmeno ze jména (např. \"L\" z \"Lucian\")\n",
    "- .lower() → zavolá funkci, která z \"L\" udělá \"l\"\n",
    "➡️ Bez těch závorek bys jen odkazoval na funkci, ale nezavolal ji.\n"
   ]
  },
  {
   "cell_type": "code",
   "execution_count": 49,
   "id": "391ab1d0-6ba4-47cc-9b97-05fd3428c673",
   "metadata": {},
   "outputs": [
    {
     "name": "stdout",
     "output_type": "stream",
     "text": [
      "Harry Potter"
     ]
    }
   ],
   "source": [
    "book = \"Harry Potter\"\n",
    "for znak in book:\n",
    "    print(znak, end=\"\")  # vypíše: Harry Potter  Tím říkáš: „Po každém znaku nevkládej nový řádek, ale jen prázdno.“"
   ]
  },
  {
   "cell_type": "code",
   "execution_count": 50,
   "id": "644ac098-32fd-4532-91f7-4d9a4ba7527c",
   "metadata": {},
   "outputs": [
    {
     "name": "stdout",
     "output_type": "stream",
     "text": [
      "H\n",
      "a\n",
      "r\n",
      "r\n",
      "y\n",
      " \n",
      "P\n",
      "o\n",
      "t\n",
      "t\n",
      "e\n",
      "r\n"
     ]
    }
   ],
   "source": [
    "book = \"Harry Potter\"\n",
    "for znak in book:\n",
    "    print(znak)"
   ]
  },
  {
   "cell_type": "code",
   "execution_count": null,
   "id": "33841ce8-1f5d-44c0-bc99-c3234a4e2016",
   "metadata": {},
   "outputs": [],
   "source": [
    "- Tady print() vypisuje každý znak zvlášť, protože book je řetězec a for smyčka ho prochází po jednotlivých znacích.\n",
    "- A protože print() standardně končí novým řádkem, každý znak se vypíše na nový řádek.\n"
   ]
  }
 ],
 "metadata": {
  "kernelspec": {
   "display_name": "Python [conda env:base] *",
   "language": "python",
   "name": "conda-base-py"
  },
  "language_info": {
   "codemirror_mode": {
    "name": "ipython",
    "version": 3
   },
   "file_extension": ".py",
   "mimetype": "text/x-python",
   "name": "python",
   "nbconvert_exporter": "python",
   "pygments_lexer": "ipython3",
   "version": "3.13.5"
  }
 },
 "nbformat": 4,
 "nbformat_minor": 5
}
