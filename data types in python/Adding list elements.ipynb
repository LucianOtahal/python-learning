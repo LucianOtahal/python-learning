{
 "cells": [
  {
   "cell_type": "markdown",
   "id": "5b8aead4-984f-4a13-830b-cb9b9d079d57",
   "metadata": {},
   "source": [
    "# Adding list elements\n",
    "Create an empty list and call it animals.\r\n",
    "\r\n",
    "Then add to it the names of at least three fairy tale animals you know. Display the list after each operation.\r\n",
    "\r\n",
    "Notice to which end of the list the new elements are added.\r\n",
    "\r\n",
    "Hint:\r\n",
    "You can use the append method."
   ]
  },
  {
   "cell_type": "code",
   "execution_count": 10,
   "id": "00f76683-44b6-4641-855f-811ab49c2366",
   "metadata": {},
   "outputs": [
    {
     "name": "stdout",
     "output_type": "stream",
     "text": [
      "['Kocour_v_botách', 'Karkulka', 'Šípková_Růženka']\n"
     ]
    }
   ],
   "source": [
    "    Animals = ['Kocour_v_botách', 'Karkulka', 'Šípková_Růženka']\n",
    "\n",
    "print (Animals)\n",
    "\n"
   ]
  },
  {
   "cell_type": "code",
   "execution_count": 11,
   "id": "9de739d1-8fa3-4e6e-9b56-ffa76ec47dff",
   "metadata": {},
   "outputs": [
    {
     "name": "stdout",
     "output_type": "stream",
     "text": [
      "['Kocour_v_botách', 'Karkulka', 'Šípková_Růženka', 'Černokněžník']\n"
     ]
    }
   ],
   "source": [
    "Animals.append ('Černokněžník')\n",
    "print (Animals)"
   ]
  }
 ],
 "metadata": {
  "kernelspec": {
   "display_name": "anaconda-2024.02-py310",
   "language": "python",
   "name": "conda-env-anaconda-2024.02-py310-py"
  },
  "language_info": {
   "codemirror_mode": {
    "name": "ipython",
    "version": 3
   },
   "file_extension": ".py",
   "mimetype": "text/x-python",
   "name": "python",
   "nbconvert_exporter": "python",
   "pygments_lexer": "ipython3",
   "version": "3.10.14"
  }
 },
 "nbformat": 4,
 "nbformat_minor": 5
}
