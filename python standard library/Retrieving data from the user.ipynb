{
 "cells": [
  {
   "cell_type": "markdown",
   "id": "8a18aa41-42ec-4600-91e9-090823432713",
   "metadata": {},
   "source": [
    "# Retrieving data from the user\r\n",
    "Write a program, that:\r\n",
    "\r\n",
    "Assigns user's first name to a variable (retrieving it with an appropriate function),\r\n",
    "Assigns user's surname to a variable (retrieving it with an appropriate function),\r\n",
    "display a message: \"Name Surname is a Python programmer!\".\r\n",
    "Example of calling the code\r\n",
    "\r\n",
    "What's your name: Guido\r\n",
    "What's your surname: van Rossum\r\n",
    "Guido van Rossum is a Python programmer!\r\n",
    "\r\n"
   ]
  },
  {
   "cell_type": "code",
   "execution_count": null,
   "id": "0d1ca3d2-d9eb-48b8-9b08-5d13e465cde4",
   "metadata": {},
   "outputs": [],
   "source": []
  },
  {
   "cell_type": "code",
   "execution_count": 1,
   "id": "a8991cae-3615-4161-9a5e-d8e735030623",
   "metadata": {},
   "outputs": [
    {
     "name": "stdin",
     "output_type": "stream",
     "text": [
      "What's your name?:  lucian\n",
      "What's your surname?:  otahal\n"
     ]
    },
    {
     "name": "stdout",
     "output_type": "stream",
     "text": [
      "lucian otahal is a Python programmer!\n"
     ]
    }
   ],
   "source": [
    "first_name = input(\"What's your name?: \")\n",
    "surname = input(\"What's your surname?: \")\n",
    "print (first_name, surname, \"is a Python programmer!\")\n"
   ]
  },
  {
   "cell_type": "code",
   "execution_count": null,
   "id": "8ebd1b29-7e6d-49b2-a4cd-c05f0971ad85",
   "metadata": {},
   "outputs": [],
   "source": []
  }
 ],
 "metadata": {
  "kernelspec": {
   "display_name": "anaconda-2024.02-py310",
   "language": "python",
   "name": "conda-env-anaconda-2024.02-py310-py"
  },
  "language_info": {
   "codemirror_mode": {
    "name": "ipython",
    "version": 3
   },
   "file_extension": ".py",
   "mimetype": "text/x-python",
   "name": "python",
   "nbconvert_exporter": "python",
   "pygments_lexer": "ipython3",
   "version": "3.10.14"
  }
 },
 "nbformat": 4,
 "nbformat_minor": 5
}
