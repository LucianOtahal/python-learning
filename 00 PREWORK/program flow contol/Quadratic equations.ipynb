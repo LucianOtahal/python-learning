{
 "cells": [
  {
   "cell_type": "markdown",
   "id": "4aaeb4e5-ee3b-4b6b-849b-6c14131351f2",
   "metadata": {},
   "source": [
    "# Quadratic equations\r\n",
    "Write a program, that will help high school students count the roots of quadratic equations. The program:\r\n",
    "\r\n",
    "is to display a message on the screen: The equation: a*x**2 + b*x + c == 0, (as a markdown cell)\r\n",
    "takes from the user, and appropriately stores the values for variables: a, b, c,\r\n",
    "calculates delta,\r\n",
    "if delta > 0, calculates the x_1 and x_2 values and displays th\n",
    "Primes of quadratic equation\r\n",
    "x_1 = <value>\r\n",
    "x_2 = <valu\n",
    "if delta = 0, calculates the x_1 and x_2 values and displays them on the screen as:\n",
    "Primes of quadratic equation\r\n",
    "x_1 = x_2 = <value>if the delta is negative, it will print the corresponding information on the screen.\r\n",
    "e>\r\n",
    "em as:"
   ]
  },
  {
   "cell_type": "code",
   "execution_count": 3,
   "id": "467ce99c-1e81-4e1f-8cb2-5e6d97793809",
   "metadata": {},
   "outputs": [
    {
     "name": "stdin",
     "output_type": "stream",
     "text": [
      "Zadej hodnotu a:  3\n",
      "Zadej hodnotu b:  4\n",
      "Zadej hodnotu c:  5\n"
     ]
    },
    {
     "name": "stdout",
     "output_type": "stream",
     "text": [
      "Rovnice nemá reálné kořeny.\n"
     ]
    }
   ],
   "source": [
    "#### print(\"Rovnice: a*x**2 + b*x + c == 0\")\n",
    "a = float(input(\"Zadej hodnotu a: \"))\n",
    "b = float(input(\"Zadej hodnotu b: \"))\n",
    "c = float(input(\"Zadej hodnotu c: \"))\n",
    "delta = b**2 - 4*a*c\n",
    "if delta > 0:\n",
    "    x1 = (-b - math.sqrt(delta)) / (2*a)\n",
    "    x2 = (-b + math.sqrt(delta)) / (2*a)\n",
    "    print(\"Kořeny kvadratické rovnice:\")\n",
    "    print(f\"x₁ = {x1}\")\n",
    "    print(f\"x₂ = {x2}\")\n",
    "elif delta == 0:\n",
    "    x = -b / (2*a)\n",
    "    print(\"Kořeny kvadratické rovnice:\")\n",
    "    print(f\"x₁ = x₂ = {x}\")\n",
    "else:\n",
    "    print(\"Rovnice nemá reálné kořeny.\")\n",
    "\n",
    "\n",
    "\n"
   ]
  },
  {
   "cell_type": "code",
   "execution_count": null,
   "id": "a0e32796-f586-4d39-a18d-92162d7b6b16",
   "metadata": {},
   "outputs": [],
   "source": []
  }
 ],
 "metadata": {
  "kernelspec": {
   "display_name": "anaconda-2024.02-py310",
   "language": "python",
   "name": "conda-env-anaconda-2024.02-py310-py"
  },
  "language_info": {
   "codemirror_mode": {
    "name": "ipython",
    "version": 3
   },
   "file_extension": ".py",
   "mimetype": "text/x-python",
   "name": "python",
   "nbconvert_exporter": "python",
   "pygments_lexer": "ipython3",
   "version": "3.10.14"
  }
 },
 "nbformat": 4,
 "nbformat_minor": 5
}
