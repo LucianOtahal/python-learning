{
 "cells": [
  {
   "cell_type": "markdown",
   "metadata": {},
   "source": [
    "# Functions / Funkce\n",
    "\n",
    "🇬🇧 A function is a separated piece of code that accepts some data, performs some action and returns some value.\n",
    "Once it is written, a function can be used any number of times.\n",
    "\n",
    "\n",
    "🇨🇿 Funkce je oddělený blok kódu, který přijímá nějaká data, vykoná určitou akci a vrátí nějakou hodnotu. \n",
    "Jakmile je napsána, může být funkce použita libovolný početkrát."
   ]
  },
  {
   "cell_type": "markdown",
   "metadata": {},
   "source": [
    "## Syntax of a function / Syntax funkce\n",
    "\n",
    "```python\n",
    "def function_name(comma, separated, arguments):\n",
    "    # function code / kód funkce\n",
    "    # indentations are important / odsazení je důležité!\n",
    "    # uses arguments like normal variables / argumenty se používají jako běžné proměnné\n",
    "    return value-which-will-be-function-result\n",
    "    # when Python comes across `return`, the function ends!\n",
    "    # když Python narazí na `return`, funkce se ukončí!\n",
    "```"
   ]
  },
  {
   "cell_type": "markdown",
   "metadata": {},
   "source": [
    "### Function example / Příklad funkce\n",
    "\n",
    "🇬🇧 The function `do_nothing()` is a minimal example of a Python function.  \n",
    "- It has no arguments.  \n",
    "- It contains only the keyword `return`, which immediately ends the function.  \n",
    "- Since no value is specified after `return`, the function implicitly returns `None`.  \n",
    "\n",
    "🇨🇿 Funkce `do_nothing()` je minimální příklad funkce v Pythonu.  \n",
    "- Nemá žádné argumenty.  \n",
    "- Obsahuje pouze klíčové slovo `return`, které funkci okamžitě ukončí.  \n",
    "- Protože po `return` není uvedena žádná hodnota, funkce vrací implicitně `None`.  \n"
   ]
  },
  {
   "cell_type": "code",
   "execution_count": 5,
   "metadata": {},
   "outputs": [],
   "source": [
    "def do_nothing():\n",
    "    return"
   ]
  },
  {
   "cell_type": "code",
   "execution_count": 6,
   "metadata": {},
   "outputs": [],
   "source": [
    "do_nothing()"
   ]
  },
  {
   "cell_type": "code",
   "execution_count": 7,
   "metadata": {
    "scrolled": true
   },
   "outputs": [
    {
     "name": "stdout",
     "output_type": "stream",
     "text": [
      "None\n"
     ]
    }
   ],
   "source": [
    "vysledek = do_nothing()\n",
    "print(vysledek)"
   ]
  },
  {
   "cell_type": "markdown",
   "metadata": {},
   "source": [
    "### Function example / Příklad funkce\n",
    "\n",
    "🇬🇧 The function `meaning_of_life()` is a simple example of a Python function.  \n",
    "- It has no arguments.  \n",
    "- It always returns the number `42`.  \n",
    "- The number 42 is a humorous reference to *The Hitchhiker’s Guide to the Galaxy*, where it is presented as the \"answer to the ultimate question of life, the universe, and everything\".  \n",
    "\n",
    "🇨🇿 Funkce `meaning_of_life()` je jednoduchý příklad funkce v Pythonu.  \n",
    "- Nemá žádné argumenty.  \n",
    "- Vždy vrací číslo `42`.  \n",
    "- Číslo 42 je humorným odkazem na knihu *Stopařův průvodce po Galaxii*, kde je uvedeno jako „odpověď na základní otázku života, vesmíru a vůbec“.  "
   ]
  },
  {
   "cell_type": "code",
   "execution_count": 10,
   "metadata": {},
   "outputs": [],
   "source": [
    "def meaning_of_life():\n",
    "    return 42"
   ]
  },
  {
   "cell_type": "code",
   "execution_count": 11,
   "metadata": {},
   "outputs": [
    {
     "data": {
      "text/plain": [
       "42"
      ]
     },
     "execution_count": 11,
     "metadata": {},
     "output_type": "execute_result"
    }
   ],
   "source": [
    "meaning_of_life()"
   ]
  },
  {
   "cell_type": "code",
   "execution_count": 12,
   "metadata": {},
   "outputs": [
    {
     "name": "stdout",
     "output_type": "stream",
     "text": [
      "Výsledek je: 42\n"
     ]
    }
   ],
   "source": [
    "print(f\"Výsledek je: {meaning_of_life()}\")"
   ]
  },
  {
   "cell_type": "markdown",
   "metadata": {},
   "source": [
    "### Function example / Příklad funkce\n",
    "\n",
    "🇬🇧 The function `net(gross)` calculates the net value from a gross amount.  \n",
    "- It takes one argument: `gross` (the gross value).  \n",
    "- It divides the gross amount by `1.21` to remove 21% VAT.  \n",
    "- The result is rounded to 2 decimal places.  \n",
    "\n",
    "🇨🇿 Funkce `net(gross)` vypočítá čistou hodnotu z hrubé částky.  \n",
    "- Přijímá jeden argument: `gross` (hrubou hodnotu).  \n",
    "- Hrubou částku vydělí `1.21`, čímž odečte 21% DPH.  \n",
    "- Výsledek je zaokrouhlen na 2 desetinná místa.  "
   ]
  },
  {
   "cell_type": "code",
   "execution_count": 20,
   "metadata": {},
   "outputs": [],
   "source": [
    "def net(gross):\n",
    "    return round(gross / 1.21, 2)"
   ]
  },
  {
   "cell_type": "code",
   "execution_count": 14,
   "metadata": {},
   "outputs": [
    {
     "name": "stdout",
     "output_type": "stream",
     "text": [
      "200.0\n",
      "200.0\n",
      "82.64\n"
     ]
    }
   ],
   "source": [
    "print(net(242)) # argument 242 je předán pozicí. Python ho chápe jako gross = 242.  \n",
    "print(net(gross=242)) # argument je předán jménem. Díky tomu je kód srozumitelnější a s více argumenty také bezpečnější.  \n",
    "print(net(100))"
   ]
  },
  {
   "cell_type": "code",
   "execution_count": 17,
   "metadata": {},
   "outputs": [
    {
     "name": "stdout",
     "output_type": "stream",
     "text": [
      "200.0\n"
     ]
    }
   ],
   "source": [
    "print(net(242))"
   ]
  },
  {
   "cell_type": "code",
   "execution_count": 25,
   "metadata": {},
   "outputs": [
    {
     "name": "stdout",
     "output_type": "stream",
     "text": [
      "182.64\n"
     ]
    }
   ],
   "source": [
    "print(net(221))"
   ]
  },
  {
   "cell_type": "markdown",
   "metadata": {},
   "source": [
    "## Function example / Příklad funkce \n",
    "\n",
    "🇬🇧 The function `net_with_rate(gross, tax)` calculates the net value from a gross amount with a given tax rate.  \n",
    "- It takes two arguments: `gross` (gross amount) and `tax` (tax rate as a decimal, e.g. 0.21 for 21%).  \n",
    "- It divides the gross value by `(1 + tax)` and rounds the result to 2 decimals.  \n",
    "\n",
    "🇨🇿 Funkce `net_with_rate(gross, tax)` vypočítá čistou hodnotu z hrubé částky s danou sazbou daně.  \n",
    "- Přijímá dva argumenty: `gross` (hrubou částku) a `tax` (sazbu daně jako desetinné číslo, např. 0.21 pro 21 %).  \n",
    "- Hrubou hodnotu vydělí `(1 + tax)` a výsledek zaokrouhlí na 2 desetinná místa.  \n"
   ]
  },
  {
   "cell_type": "code",
   "execution_count": 2,
   "metadata": {},
   "outputs": [],
   "source": [
    "def net_with_rate(gross, tax):\n",
    "    return round(gross / (1 + tax), 2)"
   ]
  },
  {
   "cell_type": "code",
   "execution_count": 3,
   "metadata": {},
   "outputs": [
    {
     "name": "stdout",
     "output_type": "stream",
     "text": [
      "200.0\n",
      "200.0\n",
      "200.0\n",
      "92.59\n"
     ]
    },
    {
     "ename": "TypeError",
     "evalue": "net_with_rate() missing 1 required positional argument: 'tax'",
     "output_type": "error",
     "traceback": [
      "\u001b[1;31m---------------------------------------------------------------------------\u001b[0m",
      "\u001b[1;31mTypeError\u001b[0m                                 Traceback (most recent call last)",
      "Cell \u001b[1;32mIn[3], line 5\u001b[0m\n\u001b[0;32m      3\u001b[0m \u001b[38;5;28mprint\u001b[39m(net_with_rate(gross\u001b[38;5;241m=\u001b[39m\u001b[38;5;241m242\u001b[39m, tax\u001b[38;5;241m=\u001b[39m\u001b[38;5;241m0.21\u001b[39m))   \u001b[38;5;66;03m# oba argumenty pojmenované  \u001b[39;00m\n\u001b[0;32m      4\u001b[0m \u001b[38;5;28mprint\u001b[39m(net_with_rate(\u001b[38;5;241m100\u001b[39m, tax\u001b[38;5;241m=\u001b[39m\u001b[38;5;241m0.08\u001b[39m))            \u001b[38;5;66;03m# jiná částka a jiná sazba daně (8 %)  \u001b[39;00m\n\u001b[1;32m----> 5\u001b[0m \u001b[38;5;28mprint\u001b[39m(net_with_rate(\u001b[38;5;241m100\u001b[39m))\n",
      "\u001b[1;31mTypeError\u001b[0m: net_with_rate() missing 1 required positional argument: 'tax'"
     ]
    }
   ],
   "source": [
    "print(net_with_rate(242, 0.21))             # argumenty předané pozičně (hrubá částka a daň)  \n",
    "print(net_with_rate(242, tax=0.21))         # první argument pozičně, druhý pojmenovaný  \n",
    "print(net_with_rate(gross=242, tax=0.21))   # oba argumenty pojmenované  \n",
    "print(net_with_rate(100, tax=0.08))            # jiná částka a jiná sazba daně (8 %)  \n",
    "print(net_with_rate(100))                      # chyba – chybí povinný argument tax  "
   ]
  },
  {
   "cell_type": "code",
   "execution_count": 32,
   "metadata": {},
   "outputs": [
    {
     "name": "stdout",
     "output_type": "stream",
     "text": [
      "92.59\n"
     ]
    }
   ],
   "source": [
    "print(net_with_rate(100, 0.08))"
   ]
  },
  {
   "cell_type": "code",
   "execution_count": null,
   "metadata": {},
   "outputs": [],
   "source": []
  },
  {
   "cell_type": "markdown",
   "metadata": {},
   "source": [
    "## Function example / Příklad funkce \n",
    "\n",
    "🇬🇧 The function `net_with_given_rate(gross, tax=0.21)` calculates the net value from a gross amount with a default tax rate of 21%.  \n",
    "- It takes two arguments: `gross` (gross amount) and `tax` (tax rate, default is `0.21`).  \n",
    "- If the `tax` argument is not provided, the function automatically uses `0.21`.  \n",
    "- It divides the gross value by `(1 + tax)` and rounds the result to 2 decimals.  \n",
    "\n",
    "🇨🇿 Funkce `net_with_given_rate(gross, tax=0.21)` vypočítá čistou hodnotu z hrubé částky s výchozí sazbou daně 21 %.  \n",
    "- Přijímá dva argumenty: `gross` (hrubou částku) a `tax` (sazbu daně, výchozí hodnota je `0.21`).  \n",
    "- Pokud argument `tax` není uveden, funkce automaticky použije `0.21`.  \n",
    "- Hrubou hodnotu vydělí `(1 + tax)` a výsledek zaokrouhlí na 2 desetinná místa.    "
   ]
  },
  {
   "cell_type": "code",
   "execution_count": 36,
   "metadata": {},
   "outputs": [],
   "source": [
    "def net_with_given_rate(gross, tax=0.21):\n",
    "    return round(gross / (1 + tax), 2)"
   ]
  },
  {
   "cell_type": "code",
   "execution_count": 39,
   "metadata": {},
   "outputs": [
    {
     "name": "stdout",
     "output_type": "stream",
     "text": [
      "200.0\n",
      "200.0\n",
      "200.0\n",
      "92.59\n",
      "82.64\n"
     ]
    }
   ],
   "source": [
    "print(net_with_given_rate(242))                 # použije výchozí sazbu 0.21  \n",
    "print(net_with_given_rate(246, tax=0.23))       # daň uvedena explicitně, stejná jako výchozí  \n",
    "print(net_with_given_rate(gross=246, tax=0.23)) # oba argumenty pojmenované  \n",
    "print(net_with_given_rate(100, tax=0.08))       # jiná sazba daně 0.08  \n",
    "print(net_with_given_rate(100))                 # znovu použije výchozí sazbu 0.21"
   ]
  },
  {
   "cell_type": "code",
   "execution_count": 43,
   "metadata": {},
   "outputs": [
    {
     "name": "stdout",
     "output_type": "stream",
     "text": [
      "200.0\n"
     ]
    }
   ],
   "source": [
    "print(net_with_given_rate(gross = 242))"
   ]
  },
  {
   "cell_type": "code",
   "execution_count": 41,
   "metadata": {},
   "outputs": [],
   "source": [
    "#nespravna syntax\n",
    "#def net_with_given_rate(tax=0.21, gross):\n",
    "#    return round(gross / (1 + tax), 2)"
   ]
  },
  {
   "cell_type": "markdown",
   "metadata": {},
   "source": [
    "## Function example / Příklad funkce  \n",
    "\n",
    "🇬🇧 The function `net(gross, tax)` calculates the net value and also prints a message depending on the tax rate.  \n",
    "- If `tax` equals `0.23`, it prints `\"We're in Poland\"`.  \n",
    "- Otherwise, it prints `\"We're somewhere else\"`.  \n",
    "- Finally, it returns the net value (rounded to 2 decimals).  \n",
    "\n",
    "🇨🇿 Funkce `net(gross, tax)` vypočítá čistou hodnotu a zároveň vypíše zprávu podle sazby daně.  \n",
    "- Pokud je `tax` rovno `0.23`, vypíše `\"We're in Poland\"`.  \n",
    "- Jinak vypíše `\"We're somewhere else\"`.  \n",
    "- Nakonec vrátí čistou hodnotu (zaokrouhlenou na 2 desetinná místa).  "
   ]
  },
  {
   "cell_type": "code",
   "execution_count": 2,
   "metadata": {},
   "outputs": [],
   "source": [
    "def net(gross, tax):\n",
    "    if tax == 0.23:\n",
    "        print(\"We're in Poland\")\n",
    "    else:\n",
    "        print(\"We're somewhere else\")\n",
    "    return round(gross / (1 + tax), 2)"
   ]
  },
  {
   "cell_type": "code",
   "execution_count": 45,
   "metadata": {},
   "outputs": [
    {
     "name": "stdout",
     "output_type": "stream",
     "text": [
      "We're in Poland\n",
      "200.0\n",
      "We're somewhere else\n",
      "200.0\n",
      "We're in Poland\n",
      "200.0\n",
      "We're somewhere else\n",
      "92.59\n",
      "We're in Poland\n",
      "81.3\n"
     ]
    }
   ],
   "source": [
    "print(net(246, 0.23))              # daň 23 %, vypíše \"We're in Poland\"  \n",
    "print(net(242, tax=0.21))          # daň 21 %, vypíše \"We're somewhere else\"  \n",
    "print(net(gross=246, tax=0.23))    # oba argumenty pojmenované, daň 23 %, vypíše \"We're in Poland\"  \n",
    "print(net(100, tax=0.08))          # daň 8 %, vypíše \"We're somewhere else\"  \n",
    "print(net(100, tax = 0.23))        # daň 23 %, vypíše \"We're in Poland\"  "
   ]
  },
  {
   "cell_type": "code",
   "execution_count": 47,
   "metadata": {},
   "outputs": [
    {
     "name": "stdout",
     "output_type": "stream",
     "text": [
      "1\n"
     ]
    }
   ],
   "source": [
    "x = 1\n",
    "print(x)"
   ]
  },
  {
   "cell_type": "code",
   "execution_count": 51,
   "metadata": {},
   "outputs": [
    {
     "name": "stdout",
     "output_type": "stream",
     "text": [
      "True\n",
      "False\n"
     ]
    }
   ],
   "source": [
    "print(1 == 1)\n",
    "print(2 == 1)"
   ]
  },
  {
   "cell_type": "code",
   "execution_count": null,
   "metadata": {},
   "outputs": [],
   "source": [
    "round(gross / (1 + tax), 2)"
   ]
  },
  {
   "cell_type": "code",
   "execution_count": 52,
   "metadata": {},
   "outputs": [
    {
     "data": {
      "text/plain": [
       "200.0"
      ]
     },
     "execution_count": 52,
     "metadata": {},
     "output_type": "execute_result"
    }
   ],
   "source": [
    "242 / (1.21)"
   ]
  },
  {
   "cell_type": "code",
   "execution_count": 53,
   "metadata": {},
   "outputs": [
    {
     "data": {
      "text/plain": [
       "242.0"
      ]
     },
     "execution_count": 53,
     "metadata": {},
     "output_type": "execute_result"
    }
   ],
   "source": [
    "200 * 0.21 + 200"
   ]
  },
  {
   "cell_type": "code",
   "execution_count": 56,
   "metadata": {},
   "outputs": [
    {
     "data": {
      "text/plain": [
       "200.0"
      ]
     },
     "execution_count": 56,
     "metadata": {},
     "output_type": "execute_result"
    }
   ],
   "source": [
    "(200 * 1.21) / 1.21"
   ]
  },
  {
   "cell_type": "markdown",
   "metadata": {},
   "source": [
    "## Different return types of functions / Různé návratové hodnoty funkcí  \n",
    "\n",
    "🇬🇧 This example shows that functions in Python can return different data types.  \n",
    "Each version of the `net_*` function returns the net value (from the gross amount) in a different structure.  \n",
    "\n",
    "- `net_as_list` – returns the result as a **list**, with values rounded to 2 and 0 decimals.  \n",
    "- `net_as_tuple` – returns the result as a **tuple**, again with two values (2 and 0 decimals).  \n",
    "- `net_as_set` – returns the result as a **set**, which is a collection of unique values.  \n",
    "- `net_as_float` – returns a single value as a **float**.  \n",
    "- `net_as_dict` – returns the result as a **dict**, with the key `\"result\"`.  \n",
    "\n",
    "Each `print(type(...))` then shows the data type of the return value.  \n",
    "\n",
    "---\n",
    "\n",
    "🇨🇿 Tento příklad ukazuje, že funkce v Pythonu mohou vracet různé datové typy.  \n",
    "Každá verze funkce `net_*` vrací čistou hodnotu (net) z hrubé částky (gross) v jiné struktuře.  \n",
    "\n",
    "- `net_as_list` – vrací výsledek jako **list** (seznam), se zaokrouhlením na 2 a 0 desetinných míst.  \n",
    "- `net_as_tuple` – vrací výsledek jako **tuple** (n-tici), opět se dvěma hodnotami (2 a 0 desetinných míst).  \n",
    "- `net_as_set` – vrací výsledek jako **set** (množinu), což je kolekce unikátních hodnot.  \n",
    "- `net_as_float` – vrací jedinou hodnotu jako **float**.  \n",
    "- `net_as_dict` – vrací výsledek jako **dict** (slovník) s klíčem `\"result\"`.  \n",
    "\n",
    "Každý `print(type(...))` pak ukazuje datový typ návratové hodnoty.  "
   ]
  },
  {
   "cell_type": "code",
   "execution_count": 3,
   "metadata": {},
   "outputs": [
    {
     "name": "stdout",
     "output_type": "stream",
     "text": [
      "<class 'list'>\n",
      "<class 'tuple'>\n",
      "<class 'set'>\n",
      "<class 'float'>\n",
      "<class 'dict'>\n"
     ]
    }
   ],
   "source": [
    "def net_as_list(gross, tax=0.23):\n",
    "    return [round(gross / (1 + tax), 2), round(gross / (1 + tax), 0)] \n",
    "print(type(net_as_list(100)))\n",
    "\n",
    "def net_as_tuple(gross, tax=0.23):\n",
    "    return round(gross / (1 + tax), 2), round(gross / (1 + tax), 0)\n",
    "print(type(net_as_tuple(100)))\n",
    "\n",
    "def net_as_set(gross, tax=0.23):\n",
    "    return {round(gross / (1 + tax), 2)}\n",
    "print(type(net_as_set(100)))\n",
    "\n",
    "def net_as_float(gross, tax=0.23):\n",
    "    return round(gross / (1 + tax), 2)\n",
    "print(type(net_as_float(100)))\n",
    "\n",
    "def net_as_dict(gross, tax=0.23):\n",
    "    return {\"result\": round(gross / (1 + tax), 2)}\n",
    "print(type(net_as_dict(100)))"
   ]
  },
  {
   "cell_type": "code",
   "execution_count": 4,
   "metadata": {},
   "outputs": [
    {
     "name": "stdout",
     "output_type": "stream",
     "text": [
      "[100.0, 100.0]\n",
      "(100.0, 100.0)\n",
      "{100.0}\n",
      "100.0\n",
      "{'result': 100.0}\n"
     ]
    }
   ],
   "source": [
    "print(net_as_list(123))\n",
    "print(net_as_tuple(123))\n",
    "print(net_as_set(123))\n",
    "print(net_as_float(123))\n",
    "print(net_as_dict(123))"
   ]
  },
  {
   "cell_type": "markdown",
   "metadata": {},
   "source": [
    "## Using a function in a loop with lists / Použití funkce ve smyčce na seznamech  \n",
    "\n",
    "🇬🇧 This example shows that a function can be used inside a loop to process each element of a list.  \n",
    "- The list `taxes = [0, 0.05, 0.08, 0.23]` contains several tax rates.  \n",
    "- With `for i in taxes:` the loop goes through each tax rate one by one.  \n",
    "- The function `net_with_rate()` is then called with the current value of `i` (the tax rate).  \n",
    "- This way we can easily calculate results for multiple inputs without repeating code.  \n",
    "\n",
    "🇨🇿 Tento příklad ukazuje, že funkci lze použít uvnitř smyčky pro zpracování každého prvku seznamu.  \n",
    "- Seznam `taxes = [0, 0.05, 0.08, 0.23]` obsahuje několik daňových sazeb.  \n",
    "- Pomocí `for i in taxes:` smyčka projde jednotlivé sazby postupně.  \n",
    "- Funkce `net_with_rate()` se pak volá s aktuální hodnotou `i` (sazbou daně).  \n",
    "- Díky tomu můžeme snadno vypočítat výsledky pro více vstupů, aniž bychom opakovali kód.  "
   ]
  },
  {
   "cell_type": "code",
   "execution_count": 4,
   "metadata": {},
   "outputs": [
    {
     "name": "stdout",
     "output_type": "stream",
     "text": [
      "Sazba: 0\n",
      "215.25\n",
      "Sazba: 0.05\n",
      "205.0\n",
      "Sazba: 0.08\n",
      "199.31\n",
      "Sazba: 0.23\n",
      "175.0\n",
      "\n",
      "druhá smyčka:\n",
      "Suma = 100, Sazba = 0, Ciste = 100.0 \n",
      "\n",
      "Suma = 100, Sazba = 0.05, Ciste = 95.24 \n",
      "\n",
      "Suma = 100, Sazba = 0.08, Ciste = 92.59 \n",
      "\n",
      "Suma = 100, Sazba = 0.23, Ciste = 81.3 \n",
      "\n"
     ]
    }
   ],
   "source": [
    "taxes = [0, 0.05, 0.08, 0.23] # mám čtyři sazby daně\n",
    "net_with_rate(215 + 0.25, taxes[3]) # mám už dříve definovanou funkci \"net_with_rate\", do které zadávám dva argumenty. \n",
    "# viz řádek 2:  def net_with_rate(gross, tax):\n",
    "  #   return round(gross / (1 + tax), 2)\n",
    "\n",
    "for i in taxes:\n",
    "    print(f\"Sazba: {i}\")\n",
    "    result = net_with_rate(215 + 0.25, i) \n",
    "    print(result)\n",
    "\n",
    "print(\"\\ndruhá smyčka:\")\n",
    "for i in taxes:\n",
    "    print(f\"Suma = 100, Sazba = {i}, Ciste = {net_with_rate(100, i)} \\n\") # nechápu, na co jsou ty smyčky.....????"
   ]
  },
  {
   "cell_type": "markdown",
   "metadata": {},
   "source": [
    "## Using functions as arguments / Použití funkcí jako argumentů  \n",
    "\n",
    "🇬🇧 In Python, you can call functions inside the arguments of another function.  \n",
    "- `max(20, 50, 100, 70)` returns the largest number from the list → `100`.  \n",
    "- `min(0.05, 0.08, 0.23)` returns the smallest number from the list → `0.05`.  \n",
    "- The function call `net_with_rate(gross=max(...), tax=min(...))` is therefore the same as `net_with_rate(gross=100, tax=0.05)`.  \n",
    "\n",
    "🇨🇿 V Pythonu lze volat funkce i uvnitř argumentů jiné funkce.  \n",
    "- `max(20, 50, 100, 70)` vrátí největší číslo ze seznamu → `100`.  \n",
    "- `min(0.05, 0.08, 0.23)` vrátí nejmenší číslo ze seznamu → `0.05`.  \n",
    "- Volání funkce `net_with_rate(gross=max(...), tax=min(...))` je tedy totéž jako `net_with_rate(gross=100, tax=0.05)`.  "
   ]
  },
  {
   "cell_type": "code",
   "execution_count": 71,
   "metadata": {},
   "outputs": [
    {
     "data": {
      "text/plain": [
       "95.24"
      ]
     },
     "execution_count": 71,
     "metadata": {},
     "output_type": "execute_result"
    }
   ],
   "source": [
    "net_with_rate(gross=max(20, 50, 100, 70), tax=min(0.05, 0.08, 0.23))"
   ]
  },
  {
   "cell_type": "code",
   "execution_count": 72,
   "metadata": {},
   "outputs": [
    {
     "data": {
      "text/plain": [
       "95.24"
      ]
     },
     "execution_count": 72,
     "metadata": {},
     "output_type": "execute_result"
    }
   ],
   "source": [
    "m1 = max(20, 50, 100, 70)\n",
    "m2 = min(0.05, 0.08, 0.23)\n",
    "net_with_rate(gross= m1, tax= m2)"
   ]
  },
  {
   "cell_type": "markdown",
   "metadata": {},
   "source": [
    "## Using random values as arguments / Použití náhodných hodnot jako argumentů  \n",
    "\n",
    "🇬🇧 The module `random` can generate random numbers, which we can use directly as function arguments.  \n",
    "- `random.uniform(0.05, 0.95)` generates a random floating-point number between 0.05 (5%) and 0.95 (95%).  \n",
    "- Each call produces a different value.  \n",
    "- In this example, the function `net_with_rate()` calculates the net value for the gross amount `200` with a randomly chosen tax rate.  \n",
    "\n",
    "🇨🇿 Modul `random` umí generovat náhodná čísla, která můžeme přímo použít jako argumenty funkce.  \n",
    "- `random.uniform(0.05, 0.95)` vygeneruje náhodné desetinné číslo mezi 0.05 (5 %) a 0.95 (95 %).  \n",
    "- Každé volání vrátí jinou hodnotu.  \n",
    "- V tomto příkladu funkce `net_with_rate()` vypočítá čistou hodnotu pro hrubou částku `200` s náhodně zvolenou sazbou daně.  "
   ]
  },
  {
   "cell_type": "code",
   "execution_count": 80,
   "metadata": {},
   "outputs": [
    {
     "name": "stdout",
     "output_type": "stream",
     "text": [
      "166.54\n",
      "189.68\n"
     ]
    }
   ],
   "source": [
    "# random tax from 5% to 95%\n",
    "import random\n",
    "# random.<nazov>(<premenné>)\n",
    "\n",
    "print(net_with_rate(200, random.uniform(0.05, 0.95)))\n",
    "print(net_with_rate(200, random.uniform(0.05, 0.95)))"
   ]
  },
  {
   "cell_type": "markdown",
   "metadata": {},
   "source": [
    "## Return value from the function / Návratová hodnota z funkce  \n",
    "\n",
    "🇬🇧 When Python encounters the `return` keyword, the function ends, and the value after the word `return` becomes the result of the function, which will be \"substituted\" in the place the function was called from.  \n",
    "\n",
    "🇨🇿 Když Python narazí na klíčové slovo `return`, funkce skončí a hodnota za slovem `return` se stane výsledkem funkce, která bude \"nahrazena\" na místě, kde byla funkce volána.  \n"
   ]
  },
  {
   "cell_type": "code",
   "execution_count": 92,
   "metadata": {},
   "outputs": [
    {
     "data": {
      "text/plain": [
       "350.0"
      ]
     },
     "execution_count": 92,
     "metadata": {},
     "output_type": "execute_result"
    }
   ],
   "source": [
    "net_with_given_rate(215.25) * 2"
   ]
  },
  {
   "cell_type": "code",
   "execution_count": 5,
   "metadata": {},
   "outputs": [
    {
     "name": "stdout",
     "output_type": "stream",
     "text": [
      "Too expensive!\n"
     ]
    }
   ],
   "source": [
    "def net_with_given_rate(gross, tax = 0.23):\n",
    "    return round(gross / (1 + tax), 2)\n",
    "\n",
    "# the result will become the value of the variable\n",
    "some_variable = net_with_given_rate(215.25)\n",
    " \n",
    "# the result will be used in the calculation and only the calculation result will be assigned to the variable\n",
    "some_other_variable = (net_with_given_rate(215.25) + 2.46) * 365\n",
    "\n",
    "# the result will be used as an argument of another function\n",
    "# order_bananas(amount=50, max_acceptable_price_net=net(215.25)) # my ju nemáme definovanú, takže nám nefunguje\n",
    " \n",
    "# the result will be used to control a conditional statement\n",
    "if 180 > net_with_given_rate(350, 1):\n",
    "    print('Too expensive!')"
   ]
  },
  {
   "cell_type": "code",
   "execution_count": 6,
   "metadata": {},
   "outputs": [
    {
     "name": "stdout",
     "output_type": "stream",
     "text": [
      "175.0\n",
      "64772.9\n"
     ]
    }
   ],
   "source": [
    "print(some_variable)\n",
    "print(some_other_variable)"
   ]
  },
  {
   "cell_type": "markdown",
   "metadata": {},
   "source": [
    "## Body of the function / Tělo funkce  \n",
    "\n",
    "🇬🇧 The previous examples were very simple, because they included only one basic calculation.  \n",
    "There are practically no restrictions on what can be put in the body of a function. Loops, conditional statements, etc. – all are welcome.  \n",
    "\n",
    "🇨🇿 Předchozí příklady byly velmi jednoduché, protože obsahovaly pouze jeden základní výpočet.  \n",
    "V těle funkce nejsou prakticky žádná omezení, co vše do něj lze vložit. Smyčky, podmíněné příkazy, atd. – vše je vítáno.  \n"
   ]
  },
  {
   "cell_type": "code",
   "execution_count": 87,
   "metadata": {},
   "outputs": [],
   "source": [
    "def compound_interest(amount, interest, periods):\n",
    "    for p in range(periods):\n",
    "        amount = amount * (1 + interest)\n",
    "    return round(amount, 2)"
   ]
  },
  {
   "cell_type": "code",
   "execution_count": 89,
   "metadata": {},
   "outputs": [
    {
     "name": "stdout",
     "output_type": "stream",
     "text": [
      "1000 EUR after 5 years on a 2% deposit yields 1104.08 EUR\n"
     ]
    }
   ],
   "source": [
    "print('1000 EUR after 5 years on a 2% deposit yields', compound_interest(1000, 0.02, 5), 'EUR')"
   ]
  },
  {
   "cell_type": "markdown",
   "metadata": {},
   "source": [
    "## Cvičení z LMS"
   ]
  },
  {
   "cell_type": "markdown",
   "metadata": {},
   "source": [
    "### Exercise 1 / Cvičení 1  \n",
    "\n",
    "🇬🇧 Write a `multiply(a, b)` function that returns the result of multiplication of two numbers passed to it.  \n",
    "\n",
    "🇨🇿 Napište funkci `multiply(a, b)`, která vrátí výsledek násobení dvou čísel, která jí budou předána.  "
   ]
  },
  {
   "cell_type": "code",
   "execution_count": 6,
   "metadata": {},
   "outputs": [],
   "source": [
    "def multiply(a, b):\n",
    "    return a * b"
   ]
  },
  {
   "cell_type": "code",
   "execution_count": 7,
   "metadata": {},
   "outputs": [],
   "source": [
    "def multiply(a, b):\n",
    "    result = a * b\n",
    "    return result"
   ]
  },
  {
   "cell_type": "code",
   "execution_count": 8,
   "metadata": {},
   "outputs": [
    {
     "name": "stdout",
     "output_type": "stream",
     "text": [
      "2 * 3 = 6 (expected result is 6)\n",
      "2.5 * 4 = 10.0 (expected result is 10.0)\n",
      "4 * 0.25 = 1.0 (expected result is 1.0)\n",
      "0.4 * 2.5 = 1.0 (expected result is 1.0)\n",
      "4 * 3 + 5 = 17 (expected result is 17)\n",
      "10 + 2 * 6 = 22 (expected result is 22)\n"
     ]
    }
   ],
   "source": [
    "print('2 * 3 =', multiply(2, 3), '(expected result is 6)')\n",
    "print('2.5 * 4 =', multiply(2.5, 4), '(expected result is 10.0)')\n",
    "print('4 * 0.25 =', multiply(4, 0.25), '(expected result is 1.0)')\n",
    "print('0.4 * 2.5 =', multiply(0.4, 2.5), '(expected result is 1.0)')\n",
    "print('4 * 3 + 5 =', multiply(4, 3) + 5, '(expected result is 17)')\n",
    "print('10 + 2 * 6 =', 10 + multiply(2, 6), '(expected result is 22)')"
   ]
  },
  {
   "cell_type": "markdown",
   "metadata": {},
   "source": [
    "### Exercise 2 / Cvičení 2  \n",
    "\n",
    "#### A  \n",
    "\n",
    "🇬🇧 Write a `power(base, exponent)` function that takes two arguments and returns the result of: argument `base` to the power of `exponent`.  \n",
    "🇨🇿 Napište funkci `power(base, exponent)`, která vezme dva argumenty a vrátí výsledek: základ umocněný na exponent.  \n",
    "\n",
    "#### B  \n",
    "\n",
    "🇬🇧 Write a `root(number, degree)` function that calculates the `degree`-th root for the `number`. Let the root degree be the number 2 by default.  \n",
    "🇨🇿 Napište funkci `root(number, degree)`, která vypočítá degree-tou odmocninu z čísla. Nechť výchozí hodnota stupně odmocniny je číslo 2.  \n",
    "\n",
    "#### Hint / Nápověda  \n",
    "\n",
    "🇬🇧 Python provides the exponentiation operator: `2 ** 4 == 16`.  \n",
    "🇨🇿 Python poskytuje operátor umocnění: `2 ** 4 == 16`.  \n",
    "\n",
    "🇬🇧 The operator of exponentiation can be used to calculate the root: `16 ** 0.25 == 2.0`.  \n",
    "🇨🇿 Operátor umocnění lze použít i pro výpočet odmocniny: `16 ** 0.25 == 2.0`.  \n",
    "\n"
   ]
  },
  {
   "cell_type": "code",
   "execution_count": 99,
   "metadata": {},
   "outputs": [],
   "source": [
    "def power(base, exponent):\n",
    "    return base ** exponent\n",
    "\n",
    "def power(base, exponent):\n",
    "    result = base ** exponent\n",
    "    return result"
   ]
  },
  {
   "cell_type": "code",
   "execution_count": 110,
   "metadata": {},
   "outputs": [],
   "source": [
    "def root(number, degree = 2):\n",
    "    return number ** (1 / degree)"
   ]
  },
  {
   "cell_type": "code",
   "execution_count": 111,
   "metadata": {},
   "outputs": [
    {
     "name": "stdout",
     "output_type": "stream",
     "text": [
      "2 ** 3 = 8 (expected result is 8)\n",
      "1.5 ** 2 = 2.25 (expected result is 2.25)\n",
      "2 ** 5 - 30 = 2 (expected result is 2)\n",
      "2nd root of 64 is 8.0 (expected result is 8.0)\n",
      "2nd root of 64 is 8.0 (expected result is 8.0)\n",
      "4th root of 2401 with 5 subtracted is 2.0 (expected result is 2)\n"
     ]
    }
   ],
   "source": [
    "print('2 ** 3 =', power(2, 3), '(expected result is 8)')\n",
    "print('1.5 ** 2 =', power(1.5, 2), '(expected result is 2.25)')\n",
    "print('2 ** 5 - 30 =', power(2, 5) - 30, '(expected result is 2)')\n",
    "print('2nd root of 64 is', root(64, 2), '(expected result is 8.0)')\n",
    "print('2nd root of 64 is', root(64, 2), '(expected result is 8.0)')\n",
    "print('4th root of 2401 with 5 subtracted is', root(2401, 4) - 5, '(expected result is 2)')"
   ]
  },
  {
   "cell_type": "markdown",
   "metadata": {},
   "source": [
    "### Exercise 3 / Cvičení 3  \n",
    "\n",
    "🇬🇧 Write a `eur_to_czk(eur)` function that takes one argument: the euro amount (type: int or float) and returns the equivalent amount in CZK.  \n",
    "Use the conversion rate €1 = 24.972 CZK.  \n",
    "\n",
    "🇨🇿 Napište funkci `eur_to_czk(eur)`, která vezme jeden argument: částku v eurech (typ: int nebo float) a vrátí ekvivalentní částku v CZK.  \n",
    "Použijte směnný kurz €1 = 24,972 CZK.  \n",
    "\n",
    "\n",
    "\n"
   ]
  },
  {
   "cell_type": "code",
   "execution_count": 119,
   "metadata": {},
   "outputs": [],
   "source": [
    "def eur_to_czk(suma):\n",
    "    exchange_rate = 24.972\n",
    "    return suma * exchange_rate"
   ]
  },
  {
   "cell_type": "code",
   "execution_count": 120,
   "metadata": {},
   "outputs": [],
   "source": [
    "def eur_to_czk(eur):\n",
    "    exchange_rate = 24.972\n",
    "    czk = eur * exchange_rate\n",
    "    return czk"
   ]
  },
  {
   "cell_type": "code",
   "execution_count": 115,
   "metadata": {},
   "outputs": [],
   "source": [
    "def eur_to_czk(eur):\n",
    "    return eur * 24.972"
   ]
  },
  {
   "cell_type": "code",
   "execution_count": 114,
   "metadata": {},
   "outputs": [
    {
     "name": "stdout",
     "output_type": "stream",
     "text": [
      "99 EUR = 2472.228 CZK (expected result is 2472.228 CZK)\n",
      "1.55 EUR = 38.7066 CZK (expected result is 38.7066 CZK)\n",
      "4 EUR - 2 CZK = 97.888 CZK (expected result is 97.888 CZK)\n"
     ]
    }
   ],
   "source": [
    "print('99 EUR =', eur_to_czk(99), 'CZK (expected result is 2472.228 CZK)')\n",
    "print('1.55 EUR =', eur_to_czk(1.55), 'CZK (expected result is 38.7066 CZK)')\n",
    "print('4 EUR - 2 CZK =', eur_to_czk(4) - 2, 'CZK (expected result is 97.888 CZK)')"
   ]
  },
  {
   "cell_type": "markdown",
   "metadata": {},
   "source": [
    "### Exercise 4 / Cvičení 4  \n",
    "\n",
    "#### A  \n",
    "\n",
    "🇬🇧 Write an `is_even(number)` function that takes a number and returns `True` if the number is even, and `False` if it is not.  \n",
    "🇨🇿 Napište funkci `is_even(number)`, která vezme číslo a vrátí `True`, pokud je číslo sudé, a `False`, pokud není.  \n",
    "\n",
    "#### B  \n",
    "\n",
    "🇬🇧 Write an `is_odd(number)` function that takes a number and returns `True` if the number is odd, and `False` otherwise. You can calculate the result (as in the `is_even` function) or use the `is_even` function in the code of the `is_odd` function.  \n",
    "🇨🇿 Napište funkci `is_odd(number)`, která vezme číslo a vrátí `True`, pokud je číslo liché, a `False` jinak. Můžete vypočítat výsledek (jako ve funkci `is_even`) nebo použít funkci `is_even` v kódu funkce `is_odd`.  \n",
    "\n",
    "#### Hint / Nápověda  \n",
    "\n",
    "🇬🇧 Python has an operator that returns the remainder of division, and a number is even when the remainder of dividing by 2 is 0.  \n",
    "🇨🇿 Python má operátor, který vrací zbytek po dělení, a číslo je sudé, když zbytek po dělení 2 je 0.  "
   ]
  },
  {
   "cell_type": "code",
   "execution_count": 125,
   "metadata": {},
   "outputs": [],
   "source": [
    "def is_even(number):\n",
    "    return number % 2 == 0"
   ]
  },
  {
   "cell_type": "code",
   "execution_count": 131,
   "metadata": {},
   "outputs": [],
   "source": [
    "def is_odd(number):\n",
    "    return number % 2 != 0"
   ]
  },
  {
   "cell_type": "code",
   "execution_count": 135,
   "metadata": {},
   "outputs": [],
   "source": [
    "def is_odd(number):\n",
    "    return not is_even(number)"
   ]
  },
  {
   "cell_type": "code",
   "execution_count": 136,
   "metadata": {},
   "outputs": [
    {
     "name": "stdout",
     "output_type": "stream",
     "text": [
      "Number 4 is even\n",
      "Number 7 is odd\n",
      "Number 9 is odd\n",
      "Number 12 is even\n"
     ]
    }
   ],
   "source": [
    "if is_even(4):\n",
    "    print('Number 4 is even')\n",
    "else:\n",
    "    print('Number 4 is... odd? Or is it?')\n",
    "\n",
    "if is_even(7):\n",
    "    print('Number 7 is... even? Or is it?')\n",
    "else:\n",
    "    print('Number 7 is odd')\n",
    "\n",
    "if is_odd(9):\n",
    "    print('Number 9 is odd')\n",
    "else:\n",
    "    print('Number 9 is... even? Or is it?')\n",
    "\n",
    "if is_odd(12):\n",
    "    print('Number 12 is... odd? Or is it?')\n",
    "else:\n",
    "    print('Number 12 is even')"
   ]
  },
  {
   "cell_type": "markdown",
   "metadata": {},
   "source": [
    "## Cvičení navyše (dobrovolně):\n",
    "\n",
    "### Cvičení 1\n",
    "Napište funkci nazvanou `is_prime`, která přijímá kladné celé číslo jako argument a vrátí hodnotu `True`, pokud je číslo prvočíslo, a `False`, pokud není."
   ]
  },
  {
   "cell_type": "code",
   "execution_count": 137,
   "metadata": {},
   "outputs": [],
   "source": [
    "def is_prime(n):\n",
    "    if n <= 1:\n",
    "        return False\n",
    "    for i in range(2, int(n**0.5) + 1):\n",
    "        if n % i == 0:\n",
    "            return False\n",
    "    return True\n"
   ]
  },
  {
   "cell_type": "code",
   "execution_count": 138,
   "metadata": {},
   "outputs": [
    {
     "name": "stdout",
     "output_type": "stream",
     "text": [
      "True\n",
      "True\n",
      "False\n",
      "True\n",
      "False\n",
      "True\n",
      "False\n",
      "False\n"
     ]
    }
   ],
   "source": [
    "print(is_prime(2))    # True, protože 2 je prvočíslo\n",
    "print(is_prime(3))    # True, protože 3 je prvočíslo\n",
    "print(is_prime(4))    # False, protože 4 není prvočíslo\n",
    "print(is_prime(17))   # True, protože 17 je prvočíslo\n",
    "print(is_prime(18))   # False, protože 18 není prvočíslo\n",
    "print(is_prime(19))   # True, protože 19 je prvočíslo\n",
    "print(is_prime(1))    # False, protože 1 není prvočíslo\n",
    "print(is_prime(25))   # False, protože 25 není prvočíslo"
   ]
  },
  {
   "cell_type": "markdown",
   "metadata": {},
   "source": [
    "### Cvičení 2 \n",
    "\n",
    "Napište funkci `find_max(a, b, c)`, která přijme tři čísla a vrátí to největší z nich.\n",
    "\n"
   ]
  },
  {
   "cell_type": "code",
   "execution_count": 139,
   "metadata": {},
   "outputs": [],
   "source": [
    "def find_max(a, b, c):\n",
    "    return max(a, b, c)"
   ]
  },
  {
   "cell_type": "code",
   "execution_count": 144,
   "metadata": {},
   "outputs": [
    {
     "name": "stdout",
     "output_type": "stream",
     "text": [
      "7\n",
      "10\n",
      "1\n",
      "-2\n",
      "0\n",
      "9\n"
     ]
    }
   ],
   "source": [
    "print(find_max(3, 7, 5))    # 7, protože 7 je největší\n",
    "print(find_max(10, 5, 8))   # 10, protože 10 je největší\n",
    "print(find_max(1, 1, 1))    # 1, protože všechny hodnoty jsou stejné\n",
    "print(find_max(-2, -5, -3)) # -2, protože -2 je největší\n",
    "print(find_max(0, 0, 0))    # 0, protože všechny hodnoty jsou stejné\n",
    "print(find_max(6, 9, 4))    # 9, protože 9 je největší"
   ]
  },
  {
   "cell_type": "markdown",
   "metadata": {},
   "source": [
    "#### Cvičení 3 \n",
    "Napište funkci `count_vowels(text)`, která přijme řetězec `text` a vrátí počet samohlásek (a, e, i, o, u) v tomto řetězci.\n",
    "\n",
    "Nápověda: Pro zjištění, zda je znak samohláska, můžete použít podmínky nebo jednoduché porovnání s řetězcem `'aeiou'`."
   ]
  },
  {
   "cell_type": "code",
   "execution_count": 8,
   "metadata": {},
   "outputs": [],
   "source": [
    "def count_vowels(text): # spočítej samohlásky v textu\n",
    "    vowels = 'aeiouAEIOU' # tady ti říkám, co jsou samohlásky\n",
    "    count = 0 # tenhle řádek nechápu?\n",
    "    for char in text: # a tento taky moc ne....kde se tu najednou bere \"char\"? \n",
    "        if char in vowels:# tady říkáme, když je char mezi samohláskami, pak....\n",
    "            count += 1 # přičti do countu jedničku\n",
    "    return count # a vrátí součet"
   ]
  },
  {
   "cell_type": "code",
   "execution_count": 143,
   "metadata": {},
   "outputs": [
    {
     "name": "stdout",
     "output_type": "stream",
     "text": [
      "2\n",
      "1\n",
      "4\n",
      "2\n",
      "0\n",
      "5\n"
     ]
    }
   ],
   "source": [
    "print(count_vowels(\"hello\"))          # 2, protože samohlásky jsou 'e' a 'o'\n",
    "print(count_vowels(\"Python\"))         # 1, protože samohláska je 'o'\n",
    "print(count_vowels(\"OpenAI\"))         # 4, protože samohlásky jsou 'O', 'e' a 'A'\n",
    "print(count_vowels(\"abcdef\"))         # 2, protože samohlásky jsou 'a' a 'e'\n",
    "print(count_vowels(\"rhythm\"))         # 0, protože žádné samohlásky\n",
    "print(count_vowels(\"aeiou\"))          # 5, protože všechny jsou samohlásky"
   ]
  }
 ],
 "metadata": {
  "kernelspec": {
   "display_name": "Python [conda env:base] *",
   "language": "python",
   "name": "conda-base-py"
  },
  "language_info": {
   "codemirror_mode": {
    "name": "ipython",
    "version": 3
   },
   "file_extension": ".py",
   "mimetype": "text/x-python",
   "name": "python",
   "nbconvert_exporter": "python",
   "pygments_lexer": "ipython3",
   "version": "3.13.5"
  }
 },
 "nbformat": 4,
 "nbformat_minor": 4
}
