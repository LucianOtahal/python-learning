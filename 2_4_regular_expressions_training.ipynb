{
 "cells": [
  {
   "cell_type": "code",
   "execution_count": 1,
   "id": "b4ada0a5-db5c-4570-8164-1faa80b7a8cd",
   "metadata": {},
   "outputs": [
    {
     "name": "stdout",
     "output_type": "stream",
     "text": [
      "Found 5 phone numbers:\n",
      "['+48 889156078', '+48 604947843', '+48 791640996', '+48 516111667', '+48 735606830']\n"
     ]
    }
   ],
   "source": [
    "import re\n",
    " \n",
    "example_text = \"\"\"Julianne Chairkeys +48 889156078\n",
    "Ethelbert Patch +48 604947843\n",
    "Adrian Peterson +48 791640996\n",
    "Paul Hutt+48 516111667\n",
    "Dorothy Waters +48 735606830\"\"\"\n",
    " \n",
    "regex = r'\\+\\d{1,3} \\d{9}'\n",
    " \n",
    "found = re.findall(regex, example_text)\n",
    "print('Found', len(found), 'phone numbers:')\n",
    "print(found)"
   ]
  },
  {
   "cell_type": "markdown",
   "id": "cc577c14-5e5d-4dcc-b99a-ad26eaccf729",
   "metadata": {},
   "source": [
    "- regex = r'\\+\\d{1,3} \\d{9}' je regulární výraz, který hledá:\n",
    "- \\+ → znak plus\n",
    "- \\d{1,3} → 1 až 3 číslice (předvolba)\n",
    "- mezera\n",
    "- \\d{9} → přesně 9 číslic (telefonní číslo)\n",
    "- re.findall(regex, example_text):\n",
    "- Prohledá celý text a najde všechny výskyty, které odpovídají vzoru.\n"
   ]
  },
  {
   "cell_type": "code",
   "execution_count": null,
   "id": "fb98b13f-a1d9-46c4-bd62-73ffbd61c40e",
   "metadata": {},
   "outputs": [],
   "source": [
    "import re\n",
    " \n",
    "print(re.match(r'\\d\\d-\\d\\d\\d', '12-345'))\n",
    "print(re.match(r'\\d\\d-\\d\\d\\d', '12345'))\n",
    "print(re.match(r'[A-Z]{2}\\d{5}', 'WA56123'))\n",
    "print(re.match(r'[A-Z]{2}\\d{5}', 'WAW4444'))\n",
    "print(re.match(r'[a-zA-Z]+ [a-zA-Z]+', 'John Connor'))\n",
    "print(re.match(r'[a-zA-Z]+ [a-zA-Z]+', '007 John Connor'))"
   ]
  },
  {
   "cell_type": "code",
   "execution_count": null,
   "id": "95423bb1-65d6-414a-aac3-8c76b6043469",
   "metadata": {},
   "outputs": [],
   "source": [
    "Shrnutí:\n",
    "- re.match() kontroluje jen začátek řetězce — pokud vzor není hned na začátku, neprojde.\n",
    "- Pokud chceš hledat vzor kdekoli v textu, použij re.search() místo re.match().\n"
   ]
  },
  {
   "cell_type": "code",
   "execution_count": null,
   "id": "b4cd0763-b995-41c5-a55d-407a1578ecbc",
   "metadata": {},
   "outputs": [],
   "source": [
    "import re\n",
    " \n",
    "print(re.search(r'\\d\\d-\\d\\d\\d', 'John Connor, 14-329 Hayvenhurst Drive, Apt. 12  Van Nuys, Los Angeles, California'))\n",
    "print(re.search(r'\\d\\d-\\d\\d\\d', 'My zip code is: 14329'))\n",
    "print(re.search(r'[A-Z]{2}\\d{5}', 'License plate: WA56123'))\n",
    "print(re.search(r'[A-Z]{2}\\d{5}', 'WAW4444'))\n",
    "print(re.search(r'[a-zA-Z]+ [a-zA-Z]+', 'John Connor'))\n",
    "print(re.search(r'[a-zA-Z]+ [a-zA-Z]+', '007 John Connor'))"
   ]
  },
  {
   "cell_type": "code",
   "execution_count": null,
   "id": "230ab4b7-8a5e-4142-8d49-9521b464529e",
   "metadata": {},
   "outputs": [],
   "source": [
    "🧠 Shrnutí:\n",
    "- re.search() je flexibilnější než re.match(), protože hledá kdekoli v řetězci\n"
   ]
  },
  {
   "cell_type": "code",
   "execution_count": null,
   "id": "bbabeb38-bede-455a-bde5-9241d5205674",
   "metadata": {},
   "outputs": [],
   "source": []
  }
 ],
 "metadata": {
  "kernelspec": {
   "display_name": "Python [conda env:base] *",
   "language": "python",
   "name": "conda-base-py"
  },
  "language_info": {
   "codemirror_mode": {
    "name": "ipython",
    "version": 3
   },
   "file_extension": ".py",
   "mimetype": "text/x-python",
   "name": "python",
   "nbconvert_exporter": "python",
   "pygments_lexer": "ipython3",
   "version": "3.13.5"
  }
 },
 "nbformat": 4,
 "nbformat_minor": 5
}
