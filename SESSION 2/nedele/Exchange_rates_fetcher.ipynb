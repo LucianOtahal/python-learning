{
 "cells": [
  {
   "cell_type": "markdown",
   "id": "57d50b33-282f-41ba-862a-44ee5e4359bf",
   "metadata": {},
   "source": [
    "Using the requests library retrieve the current exchange rates served by the \n",
    "API at http://api.nbp.pl/api/exchangerates/tables/a/, and display them in a column like this:"
   ]
  },
  {
   "cell_type": "markdown",
   "id": "22dfb424-841d-4786-a8f6-310c07787aab",
   "metadata": {},
   "source": [
    "AUD (Australian dollar): 2.8571 PLN\n",
    "USD (United States dollar): 3.8849 PLN\n"
   ]
  },
  {
   "cell_type": "code",
   "execution_count": 2,
   "id": "a043841d-6f0a-4617-8a98-e43d02c2b1c2",
   "metadata": {},
   "outputs": [
    {
     "name": "stdout",
     "output_type": "stream",
     "text": [
      "True\n",
      "[{'table': 'A', 'no': '177/A/NBP/2025', 'effectiveDate': '2025-09-12', 'rates': [{'currency': 'bat (Tajlandia)', 'code': 'THB', 'mid': 0.1145}, {'currency': 'dolar amerykański', 'code': 'USD', 'mid': 3.635}, {'currency': 'dolar australijski', 'code': 'AUD', 'mid': 2.4157}, {'currency': 'dolar Hongkongu', 'code': 'HKD', 'mid': 0.4671}, {'currency': 'dolar kanadyjski', 'code': 'CAD', 'mid': 2.6251}, {'currency': 'dolar nowozelandzki', 'code': 'NZD', 'mid': 2.1636}, {'currency': 'dolar singapurski', 'code': 'SGD', 'mid': 2.8328}, {'currency': 'euro', 'code': 'EUR', 'mid': 4.2593}, {'currency': 'forint (Węgry)', 'code': 'HUF', 'mid': 0.010877}, {'currency': 'frank szwajcarski', 'code': 'CHF', 'mid': 4.5588}, {'currency': 'funt szterling', 'code': 'GBP', 'mid': 4.9192}, {'currency': 'hrywna (Ukraina)', 'code': 'UAH', 'mid': 0.0881}, {'currency': 'jen (Japonia)', 'code': 'JPY', 'mid': 0.024575}, {'currency': 'korona czeska', 'code': 'CZK', 'mid': 0.175}, {'currency': 'korona duńska', 'code': 'DKK', 'mid': 0.5706}, {'currency': 'korona islandzka', 'code': 'ISK', 'mid': 0.029744}, {'currency': 'korona norweska', 'code': 'NOK', 'mid': 0.3669}, {'currency': 'korona szwedzka', 'code': 'SEK', 'mid': 0.3887}, {'currency': 'lej rumuński', 'code': 'RON', 'mid': 0.8401}, {'currency': 'lew (Bułgaria)', 'code': 'BGN', 'mid': 2.1778}, {'currency': 'lira turecka', 'code': 'TRY', 'mid': 0.0878}, {'currency': 'nowy izraelski szekel', 'code': 'ILS', 'mid': 1.0899}, {'currency': 'peso chilijskie', 'code': 'CLP', 'mid': 0.003825}, {'currency': 'peso filipińskie', 'code': 'PHP', 'mid': 0.0636}, {'currency': 'peso meksykańskie', 'code': 'MXN', 'mid': 0.1965}, {'currency': 'rand (Republika Południowej Afryki)', 'code': 'ZAR', 'mid': 0.2089}, {'currency': 'real (Brazylia)', 'code': 'BRL', 'mid': 0.6744}, {'currency': 'ringgit (Malezja)', 'code': 'MYR', 'mid': 0.865}, {'currency': 'rupia indonezyjska', 'code': 'IDR', 'mid': 0.00022195}, {'currency': 'rupia indyjska', 'code': 'INR', 'mid': 0.041159}, {'currency': 'won południowokoreański', 'code': 'KRW', 'mid': 0.002613}, {'currency': 'yuan renminbi (Chiny)', 'code': 'CNY', 'mid': 0.5102}, {'currency': 'SDR (MFW)', 'code': 'XDR', 'mid': 4.9917}]}]\n"
     ]
    }
   ],
   "source": [
    "import requests\n",
    "response = requests.get('https://api.nbp.pl/api/exchangerates/tables/a/')\n",
    "print(response.ok)  # True - TADY SE PTÁM, JESTLI JE DOTAZ FUNKČNÍ\n",
    "print(response.json()) "
   ]
  },
  {
   "cell_type": "code",
   "execution_count": 14,
   "id": "2efea48c-77a2-432a-a343-8f9a7771cf59",
   "metadata": {},
   "outputs": [
    {
     "name": "stdout",
     "output_type": "stream",
     "text": [
      "THB (bat (Tajlandia)) : 0.1145\n",
      "USD (dolar amerykański) : 3.635\n",
      "AUD (dolar australijski) : 2.4157\n",
      "HKD (dolar Hongkongu) : 0.4671\n",
      "CAD (dolar kanadyjski) : 2.6251\n",
      "NZD (dolar nowozelandzki) : 2.1636\n",
      "SGD (dolar singapurski) : 2.8328\n",
      "EUR (euro) : 4.2593\n",
      "HUF (forint (Węgry)) : 0.010877\n",
      "CHF (frank szwajcarski) : 4.5588\n",
      "GBP (funt szterling) : 4.9192\n",
      "UAH (hrywna (Ukraina)) : 0.0881\n",
      "JPY (jen (Japonia)) : 0.024575\n",
      "CZK (korona czeska) : 0.175\n",
      "DKK (korona duńska) : 0.5706\n",
      "ISK (korona islandzka) : 0.029744\n",
      "NOK (korona norweska) : 0.3669\n",
      "SEK (korona szwedzka) : 0.3887\n",
      "RON (lej rumuński) : 0.8401\n",
      "BGN (lew (Bułgaria)) : 2.1778\n",
      "TRY (lira turecka) : 0.0878\n",
      "ILS (nowy izraelski szekel) : 1.0899\n",
      "CLP (peso chilijskie) : 0.003825\n",
      "PHP (peso filipińskie) : 0.0636\n",
      "MXN (peso meksykańskie) : 0.1965\n",
      "ZAR (rand (Republika Południowej Afryki)) : 0.2089\n",
      "BRL (real (Brazylia)) : 0.6744\n",
      "MYR (ringgit (Malezja)) : 0.865\n",
      "IDR (rupia indonezyjska) : 0.00022195\n",
      "INR (rupia indyjska) : 0.041159\n",
      "KRW (won południowokoreański) : 0.002613\n",
      "CNY (yuan renminbi (Chiny)) : 0.5102\n",
      "XDR (SDR (MFW)) : 4.9917\n"
     ]
    }
   ],
   "source": [
    "import json\n",
    "import requests\n",
    "\n",
    "response = requests.get('http://api.nbp.pl/api/exchangerates/tables/a/')\n",
    "data = response.json()\n",
    "\n",
    "\n",
    "\n",
    "#ZKOUŠÍM\n",
    "\n",
    "# print(data_as_dict)\n",
    "# print (f\"(\"code\" (\"currency\") : (\"mid\")\")\n",
    "\n",
    "#potřebujeme cyklus, smyčku, procházet jeden řádek po druhém....# \n",
    "# nco co vlastně napojím ten cyklus? co by se mi hodilo, aby cyklus procházel? jak se dostanu do struktury? \n",
    "# každá měna je samostatným prvkem seznamu a je def jako slovník\n",
    "# cyklus mi dokáže číst seznamy\n",
    "\n",
    "rates = data [0][\"rates\"]\n",
    "for rate in rates: \n",
    "    code = rate['code']\n",
    "    currency = rate ['currency']\n",
    "    mid = rate [\"mid\"]\n",
    "    print (f\"{code} ({currency}) : {mid}\")"
   ]
  },
  {
   "cell_type": "code",
   "execution_count": 12,
   "id": "9d9b5592-146d-4725-8199-a601a7da8e7f",
   "metadata": {},
   "outputs": [
    {
     "name": "stdout",
     "output_type": "stream",
     "text": [
      "THB (bat (Tajlandia)): 0.1145 PLN\n",
      "USD (dolar amerykański): 3.635 PLN\n",
      "AUD (dolar australijski): 2.4157 PLN\n",
      "HKD (dolar Hongkongu): 0.4671 PLN\n",
      "CAD (dolar kanadyjski): 2.6251 PLN\n",
      "NZD (dolar nowozelandzki): 2.1636 PLN\n",
      "SGD (dolar singapurski): 2.8328 PLN\n",
      "EUR (euro): 4.2593 PLN\n",
      "HUF (forint (Węgry)): 0.010877 PLN\n",
      "CHF (frank szwajcarski): 4.5588 PLN\n",
      "GBP (funt szterling): 4.9192 PLN\n",
      "UAH (hrywna (Ukraina)): 0.0881 PLN\n",
      "JPY (jen (Japonia)): 0.024575 PLN\n",
      "CZK (korona czeska): 0.175 PLN\n",
      "DKK (korona duńska): 0.5706 PLN\n",
      "ISK (korona islandzka): 0.029744 PLN\n",
      "NOK (korona norweska): 0.3669 PLN\n",
      "SEK (korona szwedzka): 0.3887 PLN\n",
      "RON (lej rumuński): 0.8401 PLN\n",
      "BGN (lew (Bułgaria)): 2.1778 PLN\n",
      "TRY (lira turecka): 0.0878 PLN\n",
      "ILS (nowy izraelski szekel): 1.0899 PLN\n",
      "CLP (peso chilijskie): 0.003825 PLN\n",
      "PHP (peso filipińskie): 0.0636 PLN\n",
      "MXN (peso meksykańskie): 0.1965 PLN\n",
      "ZAR (rand (Republika Południowej Afryki)): 0.2089 PLN\n",
      "BRL (real (Brazylia)): 0.6744 PLN\n",
      "MYR (ringgit (Malezja)): 0.865 PLN\n",
      "IDR (rupia indonezyjska): 0.00022195 PLN\n",
      "INR (rupia indyjska): 0.041159 PLN\n",
      "KRW (won południowokoreański): 0.002613 PLN\n",
      "CNY (yuan renminbi (Chiny)): 0.5102 PLN\n",
      "XDR (SDR (MFW)): 4.9917 PLN\n"
     ]
    }
   ],
   "source": [
    "import json\n",
    "import requests\n",
    "\n",
    "response = requests.get('http://api.nbp.pl/api/exchangerates/tables/a/')\n",
    "data = response.json()\n",
    "\n",
    "rates = data[0][\"rates\"]\n",
    "\n",
    "# projde jednotlivé měny a vypíše kód\n",
    "for rate in rates:\n",
    "    code = rate[\"code\"]\n",
    "    currency = rate[\"currency\"]\n",
    "    mid = rate[\"mid\"]\n",
    "    print(f\"{code} ({currency}): {mid} PLN\")"
   ]
  }
 ],
 "metadata": {
  "kernelspec": {
   "display_name": "Python [conda env:base] *",
   "language": "python",
   "name": "conda-base-py"
  },
  "language_info": {
   "codemirror_mode": {
    "name": "ipython",
    "version": 3
   },
   "file_extension": ".py",
   "mimetype": "text/x-python",
   "name": "python",
   "nbconvert_exporter": "python",
   "pygments_lexer": "ipython3",
   "version": "3.13.5"
  }
 },
 "nbformat": 4,
 "nbformat_minor": 5
}
