{
 "cells": [
  {
   "cell_type": "markdown",
   "id": "bc1fa7ad-5bfc-477a-b734-362e6e3ee543",
   "metadata": {},
   "source": [
    "User age\r\n",
    "Write a program, that:\r\n",
    "\r\n",
    "retrieves the name of the user to the name variable,\r\n",
    "retrieves birthday year of the user to the year variable,\r\n",
    "converts the user's year of birth into a number,\r\n",
    "calculates the user's current age and write it to the variable age\r\n",
    "displays a message on the console with the user's name and current age, formatted as:"
   ]
  },
  {
   "cell_type": "code",
   "execution_count": 17,
   "id": "8b7cbf64-b315-47f2-9531-73e5e921aef9",
   "metadata": {},
   "outputs": [
    {
     "name": "stdin",
     "output_type": "stream",
     "text": [
      "What's your name? lucian\n",
      "what year were you born?:  1980\n"
     ]
    },
    {
     "name": "stdout",
     "output_type": "stream",
     "text": [
      " User lucian is 44 years old\n"
     ]
    }
   ],
   "source": [
    "name = input(\"What's your name?\") \n",
    "year = int(input(\"what year were you born?: \")) #- year musí být číslo\n",
    "# input() vrací text (string), takže je potřeba ho převést na číslo pomocí int().\n",
    "\n",
    "age = 2024-year\n",
    "print (f\" User {name} is {age} years old\")"
   ]
  },
  {
   "cell_type": "code",
   "execution_count": null,
   "id": "2c0014dd-c44c-4478-afe8-5195eb683fdf",
   "metadata": {},
   "outputs": [],
   "source": []
  }
 ],
 "metadata": {
  "kernelspec": {
   "display_name": "anaconda-2024.02-py310",
   "language": "python",
   "name": "conda-env-anaconda-2024.02-py310-py"
  },
  "language_info": {
   "codemirror_mode": {
    "name": "ipython",
    "version": 3
   },
   "file_extension": ".py",
   "mimetype": "text/x-python",
   "name": "python",
   "nbconvert_exporter": "python",
   "pygments_lexer": "ipython3",
   "version": "3.10.14"
  }
 },
 "nbformat": 4,
 "nbformat_minor": 5
}
