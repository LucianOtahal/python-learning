{
 "cells": [
  {
   "cell_type": "markdown",
   "id": "8bafa653-c6c0-41aa-bb31-81b3da0ba8fa",
   "metadata": {},
   "source": [
    "# Comparing variables\r\n",
    "Create two variables storing any numbers.\r\n",
    "Check if the first number is greater than the second using the appropriate operator.\r\n",
    "Save the comparison result in the result variable.\r\n",
    "Print the variable."
   ]
  },
  {
   "cell_type": "code",
   "execution_count": 3,
   "id": "92ddcd82-ed18-4ce2-be3b-3e0c24baaf25",
   "metadata": {},
   "outputs": [
    {
     "name": "stdout",
     "output_type": "stream",
     "text": [
      "False\n",
      "False\n"
     ]
    }
   ],
   "source": [
    "A = 100\n",
    "B= 200\n",
    "print (A>B)\n",
    "result = (A>B) # Save the comparison result in the result variable.\n",
    "print (result) # Print the variable."
   ]
  }
 ],
 "metadata": {
  "kernelspec": {
   "display_name": "anaconda-2024.02-py310",
   "language": "python",
   "name": "conda-env-anaconda-2024.02-py310-py"
  },
  "language_info": {
   "codemirror_mode": {
    "name": "ipython",
    "version": 3
   },
   "file_extension": ".py",
   "mimetype": "text/x-python",
   "name": "python",
   "nbconvert_exporter": "python",
   "pygments_lexer": "ipython3",
   "version": "3.10.14"
  }
 },
 "nbformat": 4,
 "nbformat_minor": 5
}
