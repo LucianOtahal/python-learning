{
 "cells": [
  {
   "cell_type": "markdown",
   "id": "c625eb52-ad84-4b4f-a9bd-db22e2657778",
   "metadata": {},
   "source": [
    "# Sum of numbers\n",
    "Write a program, that:\n",
    "\n",
    "calculates the sum of all numbers from 0 to n, where n is any natural number.\n",
    "Solve the task in two ways:\n",
    "\n",
    "Using a loop.\n",
    "Using Python's built-in range and sum functions."
   ]
  },
  {
   "cell_type": "code",
   "execution_count": 4,
   "id": "7d02c7e5-6fbb-4ec6-bf45-d578913d00da",
   "metadata": {},
   "outputs": [
    {
     "name": "stdin",
     "output_type": "stream",
     "text": [
      "Put a number here:  6\n"
     ]
    },
    {
     "name": "stdout",
     "output_type": "stream",
     "text": [
      "The sum from 0 to 6 is: 0\n",
      "The sum from 0 to 6 is: 1\n",
      "The sum from 0 to 6 is: 3\n",
      "The sum from 0 to 6 is: 6\n",
      "The sum from 0 to 6 is: 10\n",
      "The sum from 0 to 6 is: 15\n",
      "The sum from 0 to 6 is: 21\n"
     ]
    }
   ],
   "source": [
    "n=int(input(\"Put a number here: \"))\n",
    "total = 0\n",
    "\n",
    "for i in range(n+1):\n",
    "    total+=i\n",
    "    print(f\"The sum from 0 to {n} is: {total}\")\n",
    "    \n",
    "\n"
   ]
  },
  {
   "cell_type": "markdown",
   "id": "de22df2b-c5f6-4b8d-a0eb-a66921893216",
   "metadata": {},
   "source": [
    "# 🧠 Co ten výstup znamená?\n",
    "Když zadáš 6, cyklus projde čísla 0, 1, 2, 3, 4, 5, 6.\n",
    "A v každém kroku se aktuální číslo přičte k proměnné total \n",
    "— a ty si necháváš výsledek vypsat hned po přičtení.\n",
    "Ve skutečnosti by bylo přesnější říct:\n"
   ]
  },
  {
   "cell_type": "code",
   "execution_count": 7,
   "id": "09725753-dd78-4af2-9eaf-1f114036cf54",
   "metadata": {},
   "outputs": [
    {
     "name": "stdin",
     "output_type": "stream",
     "text": [
      "Put a number here:  6\n"
     ]
    },
    {
     "name": "stdout",
     "output_type": "stream",
     "text": [
      "After adding 0, total is: 0\n",
      "After adding 1, total is: 1\n",
      "After adding 2, total is: 3\n",
      "After adding 3, total is: 6\n",
      "After adding 4, total is: 10\n",
      "After adding 5, total is: 15\n",
      "After adding 6, total is: 21\n"
     ]
    }
   ],
   "source": [
    "n=int(input(\"Put a number here: \"))\n",
    "total = 0\n",
    "\n",
    "for i in range(n+1):\n",
    "    total+=i\n",
    "    print(f\"After adding {i}, total is: {total}\")\n"
   ]
  },
  {
   "cell_type": "code",
   "execution_count": null,
   "id": "c95c3e10-1723-4f80-b6f1-410205322252",
   "metadata": {},
   "outputs": [],
   "source": [
    "Using Python's built-in range and sum functions."
   ]
  },
  {
   "cell_type": "code",
   "execution_count": null,
   "id": "46c56dd9-30ba-4428-86d2-eb9d2027cbe2",
   "metadata": {},
   "outputs": [],
   "source": [
    "Co dělají tyto funkce?\n",
    "- range(n + 1) vytvoří sekvenci čísel od 0 do n včetně\n",
    "- sum(...) spočítá součet všech čísel v té sekvenci\n"
   ]
  },
  {
   "cell_type": "code",
   "execution_count": null,
   "id": "00071a85-ead7-4af1-9f39-66bcec32b2e3",
   "metadata": {},
   "outputs": [],
   "source": [
    "🔍 Jak to funguje na příkladu:\n",
    "Pokud uživatel zadá n = 6, pak:\n",
    "- range(7) vytvoří: [0, 1, 2, 3, 4, 5, 6]\n",
    "- sum(...) spočítá: 0 + 1 + 2 + 3 + 4 + 5 + 6 = 21\n",
    "- Výstup bude:\n"
   ]
  },
  {
   "cell_type": "code",
   "execution_count": 8,
   "id": "f506b6c6-8f18-4115-a5fd-6f8acb317c9c",
   "metadata": {},
   "outputs": [
    {
     "name": "stdin",
     "output_type": "stream",
     "text": [
      "Put a number here:  6\n"
     ]
    },
    {
     "name": "stdout",
     "output_type": "stream",
     "text": [
      "The sum from 0 to 6 is: 21\n"
     ]
    }
   ],
   "source": [
    "n = int(input(\"Put a number here: \"))\n",
    "total = sum(range(n + 1))\n",
    "print(f\"The sum from 0 to {n} is: {total}\")"
   ]
  },
  {
   "cell_type": "code",
   "execution_count": null,
   "id": "eca2b1c5-96e3-412a-947f-ae914ee7cacc",
   "metadata": {},
   "outputs": [],
   "source": []
  }
 ],
 "metadata": {
  "kernelspec": {
   "display_name": "anaconda-2024.02-py310",
   "language": "python",
   "name": "conda-env-anaconda-2024.02-py310-py"
  },
  "language_info": {
   "codemirror_mode": {
    "name": "ipython",
    "version": 3
   },
   "file_extension": ".py",
   "mimetype": "text/x-python",
   "name": "python",
   "nbconvert_exporter": "python",
   "pygments_lexer": "ipython3",
   "version": "3.10.14"
  }
 },
 "nbformat": 4,
 "nbformat_minor": 5
}
