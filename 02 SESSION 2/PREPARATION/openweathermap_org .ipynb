{
 "cells": [
  {
   "cell_type": "code",
   "execution_count": 1,
   "id": "c57d3ddd-8a6e-4362-bec6-b29b3118b1f6",
   "metadata": {},
   "outputs": [
    {
     "name": "stdout",
     "output_type": "stream",
     "text": [
      "Weather in London: Clouds\n"
     ]
    }
   ],
   "source": [
    "import requests\n",
    "\n",
    "# Edit here!\n",
    "APIKEY = '0e82e83a8d4246c250f647467e549bf6'\n",
    "\n",
    "response = requests.get(f'https://api.openweathermap.org/data/2.5/weather?q=London&appid={APIKEY}')\n",
    "\n",
    "if response.status_code == 401:\n",
    "    print('Incorrect or inactive key: key activation takes between 10 minutes and 2 hours!')\n",
    "elif response.status_code == 200:\n",
    "    print('Weather in London:', response.json()['weather'][0]['main'])\n",
    "else:\n",
    "    print('We are not ready to handle this response code!')\n"
   ]
  }
 ],
 "metadata": {
  "kernelspec": {
   "display_name": "Python [conda env:base] *",
   "language": "python",
   "name": "conda-base-py"
  },
  "language_info": {
   "codemirror_mode": {
    "name": "ipython",
    "version": 3
   },
   "file_extension": ".py",
   "mimetype": "text/x-python",
   "name": "python",
   "nbconvert_exporter": "python",
   "pygments_lexer": "ipython3",
   "version": "3.13.5"
  }
 },
 "nbformat": 4,
 "nbformat_minor": 5
}
