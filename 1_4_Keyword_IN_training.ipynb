{
 "cells": [
  {
   "cell_type": "code",
   "execution_count": 1,
   "id": "dd4cb607-deeb-4cd5-941f-fdfcbedb7ee1",
   "metadata": {},
   "outputs": [
    {
     "name": "stdout",
     "output_type": "stream",
     "text": [
      "kočka\n",
      "pes\n",
      "myš\n"
     ]
    }
   ],
   "source": [
    "animals = [\"kočka\", \"pes\", \"myš\"] #tohle je teda seznam\n",
    "\n",
    "for animal in animals:      # pro každý prvek v seznamu animals\n",
    "    print(animal) "
   ]
  },
  {
   "cell_type": "code",
   "execution_count": 3,
   "id": "e493b00c-5437-413e-9dc4-fca0a301dd6d",
   "metadata": {},
   "outputs": [
    {
     "name": "stdout",
     "output_type": "stream",
     "text": [
      "name cat\n",
      "breed moggy\n",
      "owner Baba Yaga\n"
     ]
    }
   ],
   "source": [
    "animal = { #tohle je slovník animal\n",
    "    \"name\": \"cat\",       #name je klíč, cat je hodnota\n",
    "    \"breed\": \"moggy\",   \n",
    "    \"owner\": \"Baba Yaga\" \n",
    "}\n",
    "\n",
    "# Smyčka for prochází všechny klíče ve slovníku\n",
    "for zvire in animal:\n",
    "     print(zvire, animal[zvire])  # Pomocí klíče vypíšeme klíč i jeho hodnotu"
   ]
  },
  {
   "cell_type": "code",
   "execution_count": 4,
   "id": "99647627-a939-4a4f-a301-2c417134a46b",
   "metadata": {},
   "outputs": [
    {
     "name": "stdout",
     "output_type": "stream",
     "text": [
      "name cat\n",
      "breed moggy\n",
      "owner Baba Yaga\n"
     ]
    }
   ],
   "source": [
    "for i in animal: \n",
    "    print (i, animal[i])"
   ]
  },
  {
   "cell_type": "code",
   "execution_count": 5,
   "id": "b0718141-5152-4b80-8003-4d8ede84b3c8",
   "metadata": {},
   "outputs": [
    {
     "name": "stdout",
     "output_type": "stream",
     "text": [
      "True\n",
      "False\n"
     ]
    }
   ],
   "source": [
    "animals = [\"cat\", \"dog\", \"mouse\"] \n",
    "print(\"dog\" in animals)  # True\n",
    "print(\"chicken\" in animals)  # False"
   ]
  },
  {
   "cell_type": "code",
   "execution_count": 6,
   "id": "27af793d-f3ba-4dae-bbf2-30e407bcb9bf",
   "metadata": {},
   "outputs": [
    {
     "name": "stdout",
     "output_type": "stream",
     "text": [
      "True\n",
      "False\n",
      "False\n",
      "True\n",
      "True\n",
      "True\n"
     ]
    }
   ],
   "source": [
    "phrase = \"The quick brown fox jumps over lazy llama.\" \n",
    "print(\"fox\" in phrase) # True -> \"fox\" je obsažen v řetězci \n",
    "print(\"dog\" in phrase) # False -> \"dog\" není obsažen v řetězci # \n",
    "print(\"Fox\" in phrase) # -> rozlišuje se velikost písmen # \n",
    "print(\"Fox\".lower() in phrase) # -> \"fox\" po převodu na malá písmena je obsažen # \n",
    "print(\"The\".lower() in phrase.lower()) # -> obě strany převedeny na malá písmena # \n",
    "print(\"The\".upper() in phrase.upper()) # -> obě strany převedeny na velká písmena"
   ]
  },
  {
   "cell_type": "code",
   "execution_count": 7,
   "id": "2af7da46-bc1d-456c-9427-e46484e55223",
   "metadata": {},
   "outputs": [
    {
     "name": "stdout",
     "output_type": "stream",
     "text": [
      "True\n",
      "False\n",
      "True\n",
      "False\n"
     ]
    }
   ],
   "source": [
    "animals = [\"cat\", \"dog\", \"mouse\"]\n",
    "print(\"elephant\" not in animals)  # True -> \"elephant\" není v seznamu\n",
    "print(\"dog\" not in animals)       # False -> \"dog\" je v seznamu\n",
    "\n",
    "phrase = \"The quick brown fox jumps over lazy llama.\"\n",
    "print(\"wolf\" not in phrase)       # True -> \"wolf\" není v řetězci\n",
    "print(\"fox\" not in phrase)        # False -> \"fox\" je v řetězci\n"
   ]
  },
  {
   "cell_type": "markdown",
   "id": "3ed362f5-fb71-48ef-bb6a-177e1932cf6d",
   "metadata": {},
   "source": [
    "Exercise 1\n",
    "Write a wordfinder(list_of_words, word) function that as arguments takes a list of strings and one string to find in that list.\n",
    "\n",
    "If the word string is in the list_of_words, add \"Found\" to the end of the list.\n",
    "\n",
    "Example:"
   ]
  },
  {
   "cell_type": "code",
   "execution_count": 10,
   "id": "ca461ffc-9f9d-4495-9b6c-579f77df4a8f",
   "metadata": {},
   "outputs": [],
   "source": [
    "def wordfinder (list_of_words,word): #definuji funkci wordfinder, která přijímá seznam slov a slovo\n",
    "    if word in list_of_words: # jestliže je slovo v seznamu slov\n",
    "        list_of_words.append (\"Found\") # potom doplň na konec seznamu slov \"Found\"\n",
    "     return list_of_words # a vrať seznam slov. "
   ]
  },
  {
   "cell_type": "code",
   "execution_count": 11,
   "id": "98def2c0-0fca-4a6e-84d2-bd88cb9ca622",
   "metadata": {},
   "outputs": [
    {
     "name": "stdout",
     "output_type": "stream",
     "text": [
      "words BEFORE: ['Twinkle', 'twinkle', 'little', 'star']\n",
      "words AFTER: ['Twinkle', 'twinkle', 'little', 'star', 'Found']\n"
     ]
    }
   ],
   "source": [
    "words = ['Twinkle', 'twinkle', 'little', 'star'] #definuji seznam slov\n",
    "print('words BEFORE:', words) # chci vytisknout \"Words BEFORE:\" a seznam slov\n",
    "wordfinder(words, 'twinkle') # pomocí funkce wordfinder zjišťuji, zda je slovo twinkle v seznamu slov\n",
    "print('words AFTER:', words) # chci vytisknout \"words AFTER:\" a znovu seznam slov se zjištěním, zda tam slovo \"twinkle\" je. \n"
   ]
  }
 ],
 "metadata": {
  "kernelspec": {
   "display_name": "Python [conda env:base] *",
   "language": "python",
   "name": "conda-base-py"
  },
  "language_info": {
   "codemirror_mode": {
    "name": "ipython",
    "version": 3
   },
   "file_extension": ".py",
   "mimetype": "text/x-python",
   "name": "python",
   "nbconvert_exporter": "python",
   "pygments_lexer": "ipython3",
   "version": "3.13.5"
  }
 },
 "nbformat": 4,
 "nbformat_minor": 5
}
