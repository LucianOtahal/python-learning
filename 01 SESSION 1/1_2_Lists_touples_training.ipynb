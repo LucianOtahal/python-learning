{
 "cells": [
  {
   "cell_type": "code",
   "execution_count": 1,
   "id": "6aac9ed4-60ad-4844-90be-d03e9bd0d206",
   "metadata": {},
   "outputs": [
    {
     "name": "stdout",
     "output_type": "stream",
     "text": [
      "<class 'list'>\n",
      "0\n",
      "<class 'list'>\n",
      "0\n"
     ]
    }
   ],
   "source": [
    "bbt = list()            # vytvoření prázdného seznamu pomocí konstruktoru list()\n",
    "print(type(bbt))        # vypíše typ objektu -> <class 'list'>\n",
    "print(len(bbt))         # délka seznamu je 0 (je prázdný)\n",
    "\n",
    "bbt = []                # vytvoření prázdného seznamu pomocí literálu [] \n",
    "print(type(bbt))        # opět <class 'list'>\n",
    "print(len(bbt))         # délka seznamu je 0 (je prázdný)\n"
   ]
  },
  {
   "cell_type": "markdown",
   "id": "b2ef2e08-3d18-44b1-9568-74fccc4c1146",
   "metadata": {},
   "source": [
    "OTÁZKA: Nechápu rozdíl mezi konstruktorem ()  a literálem []"
   ]
  },
  {
   "cell_type": "code",
   "execution_count": 2,
   "id": "925fe24c-752d-4bb0-8ce4-2493ba4a920b",
   "metadata": {},
   "outputs": [
    {
     "name": "stdout",
     "output_type": "stream",
     "text": [
      "Leonard\n",
      "Raj\n",
      "Amy\n",
      "Raj\n"
     ]
    }
   ],
   "source": [
    "bbt =  [\"Leonard\", \"Sheldon\",\n",
    "        \"Penny\", \"Howard\", \"Raj\",\n",
    "        \"Bernardette\", \"Amy\"]\n",
    "print(bbt[0])   # první prvek seznamu -> \"Leonard\"\n",
    "print(bbt[4])   # pátý prvek seznamu (index 4) -> \"Raj\"\n",
    "print(bbt[-1])  # poslední prvek seznamu -> \"Amy\"\n",
    "print(bbt[-3])  # třetí prvek od konce -> \"Raj\""
   ]
  },
  {
   "cell_type": "code",
   "execution_count": 3,
   "id": "fdd7c62f-beea-4d0b-a165-c89c64209b5a",
   "metadata": {},
   "outputs": [
    {
     "name": "stdout",
     "output_type": "stream",
     "text": [
      "Leonard\n",
      "Raj\n",
      "Amy\n",
      "Raj\n"
     ]
    }
   ],
   "source": [
    "tvt =  [\"Leonard\", \"Sheldon\",\n",
    "        \"Penny\", \"Howard\", \"Raj\",\n",
    "        \"Bernardette\", \"Amy\"]\n",
    "print(tvt[0])   # první prvek seznamu -> \"Leonard\"\n",
    "print(tvt[4])   # pátý prvek seznamu (index 4) -> \"Raj\"\n",
    "print(tvt[-1])  # poslední prvek seznamu -> \"Amy\"\n",
    "print(tvt[-3])  # třetí prvek od konce -> \"Raj\""
   ]
  },
  {
   "cell_type": "code",
   "execution_count": 4,
   "id": "51e62dd3-a1f3-4a61-bedb-f83a1717c5e5",
   "metadata": {},
   "outputs": [
    {
     "name": "stdout",
     "output_type": "stream",
     "text": [
      "Prvek číslo 0 : Leonard\n",
      "Prvek číslo 1 : Sheldon\n",
      "Prvek číslo 2 : Penny\n",
      "Prvek číslo 3 : Howard\n",
      "Prvek číslo 4 : Raj\n",
      "Prvek číslo 5 : Bernardette\n",
      "Prvek číslo 6 : Amy\n"
     ]
    }
   ],
   "source": [
    "for i in range(0, len(bbt)):\n",
    "    print(\"Prvek číslo\", i, \":\", bbt[i]) # vytiskne číslo prvku a jeho hodnotu"
   ]
  },
  {
   "cell_type": "code",
   "execution_count": 5,
   "id": "de2d16bb-7f38-4e0c-8bde-0c7be10bec0c",
   "metadata": {},
   "outputs": [
    {
     "name": "stdout",
     "output_type": "stream",
     "text": [
      "Prvek číslo -1 : Amy\n",
      "Prvek číslo -2 : Bernardette\n",
      "Prvek číslo -3 : Raj\n",
      "Prvek číslo -4 : Howard\n",
      "Prvek číslo -5 : Penny\n",
      "Prvek číslo -6 : Sheldon\n",
      "Prvek číslo -7 : Leonard\n"
     ]
    }
   ],
   "source": [
    "for i in range(-1, -len(bbt)-1,-1):\n",
    "    print(\"Prvek číslo\", i, \":\", bbt[i])"
   ]
  },
  {
   "cell_type": "code",
   "execution_count": null,
   "id": "f6824588-d02e-4b75-a9cf-1ca310ffd3d0",
   "metadata": {},
   "outputs": [],
   "source": [
    "OTÁZKA: co je tady ty dvě poslední -1, -1? "
   ]
  },
  {
   "cell_type": "code",
   "execution_count": null,
   "id": "818af4e5-f14a-4c3b-94fb-ef5664966ec4",
   "metadata": {},
   "outputs": [],
   "source": [
    "✅ Shrnutí:\n",
    "- První -1 = začni od konce\n",
    "- Druhý -1 = jdi dozadu\n",
    "- -len(bbt)-1 = zajistí, že smyčka zahrne i první p\n"
   ]
  },
  {
   "cell_type": "code",
   "execution_count": 6,
   "id": "46c6e7e2-e4ce-443a-89b7-db8320777b88",
   "metadata": {},
   "outputs": [
    {
     "name": "stdout",
     "output_type": "stream",
     "text": [
      "Prvek číslo -7 : Leonard\n",
      "Prvek číslo -6 : Sheldon\n",
      "Prvek číslo -5 : Penny\n",
      "Prvek číslo -4 : Howard\n",
      "Prvek číslo -3 : Raj\n",
      "Prvek číslo -2 : Bernardette\n",
      "Prvek číslo -1 : Amy\n"
     ]
    }
   ],
   "source": [
    "for i in range(-len(bbt), 0, 1):\n",
    "    print(\"Prvek číslo\", i, \":\", bbt[i]) # vytiskne číslo prvku a jeho hodnotu"
   ]
  },
  {
   "cell_type": "code",
   "execution_count": 7,
   "id": "2985a249-8d99-47d7-856b-b0ebed730fb8",
   "metadata": {},
   "outputs": [
    {
     "data": {
      "text/plain": [
       "{4, 5}"
      ]
     },
     "execution_count": 7,
     "metadata": {},
     "output_type": "execute_result"
    }
   ],
   "source": [
    "(4,5)\n",
    "[4,5]\n",
    "{4,5} #proč se ve výstupu ukáže jen toto? "
   ]
  },
  {
   "cell_type": "code",
   "execution_count": 8,
   "id": "dae1a145-fcf6-4e6f-a00c-611f752a43a3",
   "metadata": {},
   "outputs": [
    {
     "data": {
      "text/plain": [
       "'ring'"
      ]
     },
     "execution_count": 8,
     "metadata": {},
     "output_type": "execute_result"
    }
   ],
   "source": [
    "\"string\"[2:] # chápu, že jsme jakože přišli o dvě písmena, ale není mi jasné, proč? \n",
    "# ok to je slice, výřez, přišli jsme v řetězci o 0 - s a 1-t."
   ]
  },
  {
   "cell_type": "code",
   "execution_count": 9,
   "id": "6a914d7a-66c7-4ea9-bbf9-fcf78d56b911",
   "metadata": {},
   "outputs": [
    {
     "name": "stdout",
     "output_type": "stream",
     "text": [
      "['Alice', 23, True]\n"
     ]
    }
   ],
   "source": [
    "mix_types =  [\"Alice\",  23, True]\n",
    "print(mix_types)"
   ]
  },
  {
   "cell_type": "code",
   "execution_count": 10,
   "id": "2e9bd956-5377-4da7-86b8-94941e540316",
   "metadata": {},
   "outputs": [
    {
     "name": "stdout",
     "output_type": "stream",
     "text": [
      "Alice\n",
      "23\n",
      "True\n"
     ]
    }
   ],
   "source": [
    "print(mix_types[0])  # prints Alice\"\n",
    "print(mix_types[1])  # prints 23\n",
    "print(mix_types[2])  # prints True"
   ]
  },
  {
   "cell_type": "code",
   "execution_count": 11,
   "id": "4da16b57-f5f6-4145-8918-63f92117433f",
   "metadata": {},
   "outputs": [
    {
     "name": "stdout",
     "output_type": "stream",
     "text": [
      "['Kočka', 'Pes', 'Morče']\n",
      "['Kočka', 'Žralok', 'Morče']\n",
      "['Kočka', 'Pes', 'Morče']\n"
     ]
    },
    {
     "ename": "IndexError",
     "evalue": "list assignment index out of range",
     "output_type": "error",
     "traceback": [
      "\u001b[1;31m---------------------------------------------------------------------------\u001b[0m",
      "\u001b[1;31mIndexError\u001b[0m                                Traceback (most recent call last)",
      "Cell \u001b[1;32mIn[11], line 11\u001b[0m\n\u001b[0;32m      8\u001b[0m \u001b[38;5;28mprint\u001b[39m(zvirata)               \n\u001b[0;32m     10\u001b[0m \u001b[38;5;66;03m# zvirata[4] = \"Ryba\"        # chyba – index 4 neexistuje, seznam má pouze 3 prvky  \u001b[39;00m\n\u001b[1;32m---> 11\u001b[0m zvirata[\u001b[38;5;241m3\u001b[39m] \u001b[38;5;241m=\u001b[39m \u001b[38;5;124m\"\u001b[39m\u001b[38;5;124mRyba\u001b[39m\u001b[38;5;124m\"\u001b[39m\n",
      "\u001b[1;31mIndexError\u001b[0m: list assignment index out of range"
     ]
    }
   ],
   "source": [
    "zvirata = [\"Kočka\", \"Pes\", \"Morče\"]  \n",
    "print(zvirata)               \n",
    "\n",
    "zvirata[1] = \"Žralok\"        # změna druhého prvku (index 1)  \n",
    "print(zvirata)               \n",
    "\n",
    "zvirata[-2] = \"Pes\"          # změna pomocí záporného indexu (druhý prvek od konce)  \n",
    "print(zvirata)               \n",
    "\n",
    "# zvirata[4] = \"Ryba\"        # chyba – index 4 neexistuje, seznam má pouze 3 prvky  \n",
    "zvirata[3] = \"Ryba\"          # také chyba – nelze přepsat neexistující prvek  "
   ]
  },
  {
   "cell_type": "code",
   "execution_count": 12,
   "id": "1ac66afd-c550-4ffc-9d75-aa5cf13c8b21",
   "metadata": {},
   "outputs": [
    {
     "name": "stdout",
     "output_type": "stream",
     "text": [
      "['Kočka', 'Pes', 'Morče']\n",
      "['Kočka', 'Pes', 'Morče', 'Žralok']\n",
      "['Kočka', 'Ryba', 'Pes', 'Morče', 'Žralok']\n",
      "['Kočka', 'Ryba', 'Pes', 'Morče', 'Žralok', 'Pták']\n",
      "['Kočka', 'Ryba', 'Pes', 'Morče', 'Žralok', 'Pták', 'Pták']\n"
     ]
    }
   ],
   "source": [
    "zvirata = [\"Kočka\", \"Pes\", \"Morče\"]  # tak tady je list v hranatých závorkách - ANO TAKTO SE VYTVÁŘÍ SEZNAM\n",
    "print(zvirata)  # tady dáváme kulaté ZDE JE TO VOLÁNÍ FUNKCE\n",
    "\n",
    "zvirata.append(\"Žralok\")     # přidá prvek na konec seznamu  #opět kulaté\n",
    "print(zvirata)  \n",
    "\n",
    "zvirata.insert(1, \"Ryba\")    # vloží prvek na index 1 (posune ostatní prvky doprava)  \n",
    "print(zvirata)  \n",
    "\n",
    "zvirata.insert(5, \"Pták\")    # vloží prvek na index 5 (aktuální konec seznamu)  \n",
    "print(zvirata)  \n",
    "\n",
    "zvirata.insert(8, \"Pták\")    # vloží prvek na index 8, Python doplní až na konec  \n",
    "print(zvirata)  \n",
    "\n"
   ]
  },
  {
   "cell_type": "markdown",
   "id": "27b00893-ea2a-41a9-b5df-4f1c4c540f85",
   "metadata": {},
   "source": [
    "OTÁZKA: na co nám je, že se to zobrazí v těch hranatých závorkách? Jaký má takový výstup použití? \n",
    "Za mě bych chtěl mít text bez závorek a uvozovek...????,\n",
    "cOPILOT: Tohle je reprezentace seznamu – Python ti ukazuje, že zvirata je list (seznam), \n",
    "a že jeho prvky jsou řetězce (texty), proto jsou v uvozovkách.\n",
    "    Je to užitečné hlavně pro debugování (kontrolu, co se v proměnné vlastně nachází). \n",
    "Ale chápu – když chceš čistý výstup pro uživatele, tohle není úplně ono.\n",
    "\n"
   ]
  },
  {
   "cell_type": "code",
   "execution_count": 13,
   "id": "40cef9cd-d725-4e3e-9815-aea7d54bf035",
   "metadata": {},
   "outputs": [
    {
     "data": {
      "text/plain": [
       "['Kočka', 'Pes', 'Morče', 'Žralok', 'Ryba']"
      ]
     },
     "execution_count": 13,
     "metadata": {},
     "output_type": "execute_result"
    }
   ],
   "source": [
    "zvirata2 = [\"Kočka\", \"Pes\", \"Morče\"] \n",
    "zvirata2.extend([\"Žralok\", \"Ryba\"])\n",
    "zvirata2"
   ]
  },
  {
   "cell_type": "code",
   "execution_count": 14,
   "id": "4adb3321-9e64-44b7-a5e2-4e10c83e3fa7",
   "metadata": {},
   "outputs": [
    {
     "name": "stdout",
     "output_type": "stream",
     "text": [
      "['Kočka', 'Pes', 'Morče']\n",
      "Pes\n",
      "['Kočka', 'Morče']\n"
     ]
    }
   ],
   "source": [
    "zvirata = [\"Kočka\", \"Pes\", \"Morče\"]  \n",
    "print(zvirata)  \n",
    "\n",
    "print(zvirata.pop(1))   # odstraní a vrátí prvek na indexu 1 -> 'Pes'  \n",
    "print(zvirata)  "
   ]
  },
  {
   "cell_type": "code",
   "execution_count": 15,
   "id": "529102a0-e4cd-4eda-aef4-4d9231285a13",
   "metadata": {},
   "outputs": [
    {
     "name": "stdout",
     "output_type": "stream",
     "text": [
      "['Kočka', 'Pes', 'Morče', 'Kočka']\n",
      "['Pes', 'Morče', 'Kočka']\n",
      "['Pes', 'Morče']\n"
     ]
    }
   ],
   "source": [
    "zvirata = [\"Kočka\", \"Pes\", \"Morče\", \"Kočka\"]  \n",
    "print(zvirata)  \n",
    "\n",
    "zvirata.remove(\"Kočka\")   # odstraní první výskyt hodnoty \"Kočka\"  \n",
    "print(zvirata)  \n",
    "\n",
    "zvirata.remove(\"Kočka\")   # odstraní další výskyt hodnoty \"Kočka\"  \n",
    "print(zvirata)"
   ]
  },
  {
   "cell_type": "code",
   "execution_count": 16,
   "id": "618e021c-3e17-41d5-bf58-c9dc9d5ed18d",
   "metadata": {},
   "outputs": [
    {
     "name": "stdout",
     "output_type": "stream",
     "text": [
      "čtverec\n",
      "obdélník\n",
      "trojúhelník\n",
      "kruh\n",
      "čtverec\n",
      "obdélník\n",
      "trojúhelník\n",
      "kruh\n"
     ]
    }
   ],
   "source": [
    "shapes = [\"čtverec\",\n",
    "            \"obdélník\",\n",
    "            \"trojúhelník\",\n",
    "            \"kruh\"]\n",
    "\n",
    "for shape in shapes:         # pro každý prvek v seznamu shapes\n",
    "    print(shape)             # vytiskne jeho hodnotu\n",
    "\n",
    "for i in shapes:             # proměnná i postupně obsahuje každý prvek\n",
    "    print(i)                 # výpis hodnoty prvku"
   ]
  },
  {
   "cell_type": "code",
   "execution_count": 17,
   "id": "edf6032f-b5ff-46f2-b920-37a8efbdf647",
   "metadata": {},
   "outputs": [
    {
     "name": "stdout",
     "output_type": "stream",
     "text": [
      "trojúhelník\n",
      "kruh\n"
     ]
    }
   ],
   "source": [
    "shapes = [\"čtverec\",\n",
    "            \"obdélník\",\n",
    "            \"trojúhelník\",\n",
    "            \"kruh\"]\n",
    "\n",
    "for shape in shapes[2:]:     # prochází seznam od indexu 2 do konce\n",
    "    print(shape)             # vytiskne 'trojúhelník' a 'kruh'\n"
   ]
  },
  {
   "cell_type": "code",
   "execution_count": 18,
   "id": "ecc30cee-7d8a-4f2c-ab09-fac7d192a0e5",
   "metadata": {},
   "outputs": [
    {
     "name": "stdout",
     "output_type": "stream",
     "text": [
      "čtverec\n",
      "trojúhelník\n"
     ]
    }
   ],
   "source": [
    "shapes = [\"čtverec\",\n",
    "            \"obdélník\",\n",
    "            \"trojúhelník\",\n",
    "            \"kruh\"]\n",
    "\n",
    "for shape in shapes[:-1:2]:   # prochází seznam od začátku do předposledního prvku s krokem 2\n",
    "    print(shape)              # vytiskne 'čtverec' a 'trojúhelník'"
   ]
  },
  {
   "cell_type": "code",
   "execution_count": 19,
   "id": "441509c7-d008-4c0a-916f-1d1265ba7fc0",
   "metadata": {},
   "outputs": [
    {
     "name": "stdout",
     "output_type": "stream",
     "text": [
      "kruh\n",
      "trojúhelník\n",
      "obdélník\n",
      "čtverec\n"
     ]
    }
   ],
   "source": [
    "shapes = [\"čtverec\",\n",
    "            \"obdélník\",\n",
    "            \"trojúhelník\",\n",
    "            \"kruh\"]\n",
    "\n",
    "for shape in shapes[::-1]:   # prochází seznam pozpátku\n",
    "    print(shape)             # vytiskne 'kruh', 'trojúhelník', 'obdélník', 'čtverec'"
   ]
  },
  {
   "cell_type": "code",
   "execution_count": 20,
   "id": "f452ef48-5333-4eb9-a6f6-fa344f47bcfa",
   "metadata": {},
   "outputs": [
    {
     "name": "stdout",
     "output_type": "stream",
     "text": [
      "[0, 2, 4, 6, 8, 10, 12, 14, 16, 18, 20]\n"
     ]
    }
   ],
   "source": [
    "my_list = []\n",
    "for i in range(0, 11):  # 11, not 10!\n",
    "    my_list.append(i * 2) # DOPLN mi seznam o násobky dvojkou a násob čísla v seznamu od 0 do 10\n",
    "print(my_list)"
   ]
  },
  {
   "cell_type": "code",
   "execution_count": 21,
   "id": "963ed3d1-5821-47b7-9a23-da240d870b94",
   "metadata": {},
   "outputs": [
    {
     "data": {
      "text/plain": [
       "[0, 1, 2, 3, 4, 5, 6, 7, 8, 9, 10]"
      ]
     },
     "execution_count": 21,
     "metadata": {},
     "output_type": "execute_result"
    }
   ],
   "source": [
    "list(range(0, 11))"
   ]
  },
  {
   "cell_type": "code",
   "execution_count": 22,
   "id": "99df7b00-8d16-4180-968b-463b82e9bee6",
   "metadata": {},
   "outputs": [
    {
     "name": "stdout",
     "output_type": "stream",
     "text": [
      "[0, 2, 4, 6, 8, 10, 12, 14, 16, 18, 20]\n"
     ]
    }
   ],
   "source": [
    "my_list = [2 * i for i in range(0, 11)]   # vytvoří seznam sudých čísel od 0 do 20\n",
    "print(my_list)                            # [0, 2, 4, 6, 8, 10, 12, 14, 16, 18, 20]"
   ]
  },
  {
   "cell_type": "code",
   "execution_count": 25,
   "id": "0578c746-15d7-4efc-992e-65b8e50a90dc",
   "metadata": {},
   "outputs": [
    {
     "name": "stdout",
     "output_type": "stream",
     "text": [
      "[0, 2, 4, 6, 8, 10, 12, 14, 16, 18, 20]\n"
     ]
    }
   ],
   "source": [
    "my_list = [2 * i for i in range(0, 11)]  \n",
    "\n",
    "# 2 * i – výsledek každé iterace smyčky  \n",
    "# for... – smyčka, která iteruje přes kolekci (range(0, 11))  \n",
    "print (my_list)\n"
   ]
  },
  {
   "cell_type": "code",
   "execution_count": 26,
   "id": "ee6f494b-9370-4ee1-a8bf-4b453307bd61",
   "metadata": {},
   "outputs": [
    {
     "data": {
      "text/plain": [
       "[0, 3, 6, 9, 12, 15]"
      ]
     },
     "execution_count": 26,
     "metadata": {},
     "output_type": "execute_result"
    }
   ],
   "source": [
    "[i for i in range(0, 18) if i % 3 == 0] # máme rozsah čísel od 0 do 17, což je proměnná \"i\" a z tohoto rozsahu vyber\n",
    "# taková i, která jsou dělitelná 3 se zbytkem nula. "
   ]
  },
  {
   "cell_type": "code",
   "execution_count": 27,
   "id": "4f2212b3-8060-45ff-8f67-b140de35c8b7",
   "metadata": {},
   "outputs": [
    {
     "name": "stdout",
     "output_type": "stream",
     "text": [
      "<class 'tuple'>\n",
      "<class 'list'>\n"
     ]
    }
   ],
   "source": [
    "my_numbers = (1, 2, 3, 4, 5, 6, 7, 8, 9) # Tuple\n",
    "print(type(my_numbers))\n",
    "my_numbers = [1, 2, 3, 4, 5, 6, 7, 8, 9] # Listporpo\n",
    "print(type(my_numbers))"
   ]
  },
  {
   "cell_type": "code",
   "execution_count": 28,
   "id": "d1a6e76c-2b0e-461a-976a-9fd6bf22226f",
   "metadata": {},
   "outputs": [
    {
     "name": "stdout",
     "output_type": "stream",
     "text": [
      "Obdélník\n"
     ]
    },
    {
     "ename": "TypeError",
     "evalue": "'tuple' object does not support item assignment",
     "output_type": "error",
     "traceback": [
      "\u001b[1;31m---------------------------------------------------------------------------\u001b[0m",
      "\u001b[1;31mTypeError\u001b[0m                                 Traceback (most recent call last)",
      "Cell \u001b[1;32mIn[28], line 4\u001b[0m\n\u001b[0;32m      1\u001b[0m shapes \u001b[38;5;241m=\u001b[39m (\u001b[38;5;124m\"\u001b[39m\u001b[38;5;124mČtverec\u001b[39m\u001b[38;5;124m\"\u001b[39m, \u001b[38;5;124m\"\u001b[39m\u001b[38;5;124mObdélník\u001b[39m\u001b[38;5;124m\"\u001b[39m, \u001b[38;5;124m\"\u001b[39m\u001b[38;5;124mKruh\u001b[39m\u001b[38;5;124m\"\u001b[39m, \u001b[38;5;124m\"\u001b[39m\u001b[38;5;124mTrojúhelník\u001b[39m\u001b[38;5;124m\"\u001b[39m)  \n\u001b[0;32m      2\u001b[0m \u001b[38;5;28mprint\u001b[39m(shapes[\u001b[38;5;241m1\u001b[39m])              \u001b[38;5;66;03m# 'Obdélník'  \u001b[39;00m\n\u001b[1;32m----> 4\u001b[0m shapes[\u001b[38;5;241m1\u001b[39m] \u001b[38;5;241m=\u001b[39m \u001b[38;5;124m\"\u001b[39m\u001b[38;5;124mBeztvará hmota\u001b[39m\u001b[38;5;124m\"\u001b[39m\n",
      "\u001b[1;31mTypeError\u001b[0m: 'tuple' object does not support item assignment"
     ]
    }
   ],
   "source": [
    "shapes = (\"Čtverec\", \"Obdélník\", \"Kruh\", \"Trojúhelník\")  \n",
    "print(shapes[1])              # 'Obdélník'  \n",
    "\n",
    "shapes[1] = \"Beztvará hmota\"  # chyba – n-tice jsou neměnné a nelze měnit jejich prvky  "
   ]
  },
  {
   "cell_type": "code",
   "execution_count": 29,
   "id": "e6f009bf-061c-4c4a-ba6d-8d6f059d58eb",
   "metadata": {},
   "outputs": [
    {
     "name": "stdout",
     "output_type": "stream",
     "text": [
      "['Square', 'Rectangle', 'Circle', 'Triangle']\n"
     ]
    }
   ],
   "source": [
    "shapes_tuple = (\"Square\", \"Rectangle\", \"Circle\", \"Triangle\")\n",
    "shapes_list = list(shapes_tuple) # změním původní ntici na seznam\n",
    "print(shapes_list)"
   ]
  },
  {
   "cell_type": "code",
   "execution_count": 30,
   "id": "6352b2fb-ba5f-4a35-8b0a-5df9db688309",
   "metadata": {},
   "outputs": [
    {
     "name": "stdout",
     "output_type": "stream",
     "text": [
      "('Square', 'Rectangle', 'Circle', 'Triangle')\n"
     ]
    }
   ],
   "source": [
    "shapes_list = [\"Square\", \"Rectangle\", \"Circle\", \"Triangle\"]\n",
    "shapes_tuple = tuple(shapes_list)\n",
    "print(shapes_tuple)"
   ]
  },
  {
   "cell_type": "code",
   "execution_count": 31,
   "id": "5e5b66d3-1e90-4bc0-800c-053b92bd5348",
   "metadata": {},
   "outputs": [
    {
     "name": "stdout",
     "output_type": "stream",
     "text": [
      "<class 'tuple'>\n"
     ]
    }
   ],
   "source": [
    "print (type(shapes_tuple))"
   ]
  },
  {
   "cell_type": "code",
   "execution_count": 32,
   "id": "afa83065-e144-4146-862c-8fc594003c4c",
   "metadata": {},
   "outputs": [
    {
     "name": "stdout",
     "output_type": "stream",
     "text": [
      "<generator object <genexpr> at 0x00000257CB666CF0>\n",
      "(0, 3, 6, 9, 12, 15)\n",
      "[0, 3, 6, 9, 12, 15]\n",
      "[0, 3, 6, 9, 12, 15]\n"
     ]
    }
   ],
   "source": [
    "print((i for i in range(0, 18) if i % 3 == 0))  \n",
    "# generátorový výraz -> vypíše objekt generátoru, např. <generator object ...>  # na co to je? \n",
    "\n",
    "print(tuple(i for i in range(0, 18) if i % 3 == 0))  \n",
    "# vytvoří n-tici z čísel dělitelných 3 -> (0, 3, 6, 9, 12, 15)  \n",
    "\n",
    "print([i for i in range(0, 18) if i % 3 == 0])  \n",
    "# list comprehension -> seznam čísel dělitelných 3 -> [0, 3, 6, 9, 12, 15]  \n",
    "\n",
    "print(list(i for i in range(0, 18) if i % 3 == 0))  \n",
    "# totéž co výše, ale použití list() na generátor -> [0, 3, 6, 9, 12, 15]  "
   ]
  },
  {
   "cell_type": "markdown",
   "id": "a6a05876-bbd5-4be2-a269-d2403819323d",
   "metadata": {},
   "source": [
    " Write a create_list(a, b, c) function that takes three arguments \n",
    "of any type and then returns a list whose elements are the values of the arguments in the order of: a, b, c, b, a."
   ]
  },
  {
   "cell_type": "code",
   "execution_count": 41,
   "id": "081c8622-08a4-4d08-bc24-f0548fdf3efa",
   "metadata": {},
   "outputs": [
    {
     "data": {
      "text/plain": [
       "[1, 2, 3, 2, 1]"
      ]
     },
     "execution_count": 41,
     "metadata": {},
     "output_type": "execute_result"
    }
   ],
   "source": [
    "def create_list (a,b,c): # vytvořili jsme funkci create_list, která bude obsahovat 3 proměnné\n",
    "    return [a,b,c,b,a] # a bude vracet pět proměnných, abcba\n",
    "create_list(1,2,3)            \n"
   ]
  },
  {
   "cell_type": "code",
   "execution_count": null,
   "id": "d4ad233f-fe88-4faf-bd7a-a55c98123eba",
   "metadata": {},
   "outputs": [],
   "source": [
    "OTÁZKA: NA CO JE TATO FUNKCE? "
   ]
  },
  {
   "cell_type": "code",
   "execution_count": null,
   "id": "585e869c-bd88-41fb-8d7a-432caaba2513",
   "metadata": {},
   "outputs": [],
   "source": [
    "COPILOT: Tedy symetrický seznam, který se čte stejně zleva i zprava — jako zrcadlo.\n",
    "🔍 K čemu to může být?\n",
    "1. Vytváření palindromické struktury\n",
    "- Hodí se, když chceš vytvořit symetrický vzor — třeba pro vizuální efekty, testování nebo porovnávání.\n",
    "- Příklad: [1, 2, 3, 2, 1] je palindrom — čte se stejně z obou stran.\n"
   ]
  },
  {
   "cell_type": "code",
   "execution_count": 66,
   "id": "4dcb058e-0a8c-4645-b259-14b768fc682c",
   "metadata": {},
   "outputs": [
    {
     "name": "stdout",
     "output_type": "stream",
     "text": [
      "[1, 2, 3, 2, 1]\n",
      "<class 'function'>\n"
     ]
    }
   ],
   "source": [
    "def create_list(a, b, c): # vytvořili jsme funkci create_list, která bude obsahovat 3 proměnné\n",
    "    result = list() # výsledkem je seznam\n",
    "    result.append(a) # teď do seznamu přidáváme na konec a\n",
    "    result.append(b)\n",
    "    result.append(c)\n",
    "    result.append(b)\n",
    "    result.append(a)\n",
    "    return result\n",
    "print (create_list (1,2,3))\n",
    "print (type(create_list))"
   ]
  },
  {
   "cell_type": "code",
   "execution_count": null,
   "id": "1d55a5df-3140-4337-94e6-02183cdb9dd0",
   "metadata": {},
   "outputs": [],
   "source": []
  },
  {
   "cell_type": "code",
   "execution_count": 57,
   "id": "51b86c09-c5dd-4b62-9018-0cccffdc9d7f",
   "metadata": {},
   "outputs": [
    {
     "name": "stdout",
     "output_type": "stream",
     "text": [
      "<class 'list'>\n"
     ]
    }
   ],
   "source": [
    "print (list)"
   ]
  },
  {
   "cell_type": "code",
   "execution_count": 67,
   "id": "c029ce67-dee0-4d60-9b85-009a32f86511",
   "metadata": {},
   "outputs": [
    {
     "data": {
      "text/plain": [
       "'nananananananananananananananana Batman!'"
      ]
     },
     "execution_count": 67,
     "metadata": {},
     "output_type": "execute_result"
    }
   ],
   "source": [
    "\"na\" * 16 + \" Batman!\" #to měl být vtipný příklad, to mi to ale trvalo, než jsem to pochopil, hahaha\n"
   ]
  },
  {
   "cell_type": "code",
   "execution_count": 68,
   "id": "97995578-d83b-4862-ab68-96ee844af57c",
   "metadata": {},
   "outputs": [
    {
     "ename": "NameError",
     "evalue": "name 'histogram' is not defined",
     "output_type": "error",
     "traceback": [
      "\u001b[1;31m---------------------------------------------------------------------------\u001b[0m",
      "\u001b[1;31mNameError\u001b[0m                                 Traceback (most recent call last)",
      "Cell \u001b[1;32mIn[68], line 1\u001b[0m\n\u001b[1;32m----> 1\u001b[0m histogram([\u001b[38;5;241m3\u001b[39m, \u001b[38;5;241m9\u001b[39m, \u001b[38;5;241m1\u001b[39m, \u001b[38;5;241m5\u001b[39m])\n",
      "\u001b[1;31mNameError\u001b[0m: name 'histogram' is not defined"
     ]
    }
   ],
   "source": [
    "histogram([3, 9, 1, 5])\n"
   ]
  },
  {
   "cell_type": "code",
   "execution_count": 69,
   "id": "7c0d3b93-9e33-47b3-8c7d-0200e31e3900",
   "metadata": {},
   "outputs": [
    {
     "data": {
      "text/plain": [
       "'##########'"
      ]
     },
     "execution_count": 69,
     "metadata": {},
     "output_type": "execute_result"
    }
   ],
   "source": [
    "\"#\" * 10"
   ]
  },
  {
   "cell_type": "code",
   "execution_count": 71,
   "id": "f5e1035b-6e8e-4f0b-b3de-0577fb5cef36",
   "metadata": {},
   "outputs": [],
   "source": [
    "def histogram (list_of_integers): \n",
    "    for i in list_of_integers: \n",
    "        print ('#' *i)"
   ]
  },
  {
   "cell_type": "code",
   "execution_count": 72,
   "id": "33865ac9-4642-4d91-9cf3-25d9bacc6b06",
   "metadata": {},
   "outputs": [
    {
     "data": {
      "text/plain": [
       "'##########'"
      ]
     },
     "execution_count": 72,
     "metadata": {},
     "output_type": "execute_result"
    }
   ],
   "source": [
    "\"#\" * 10"
   ]
  },
  {
   "cell_type": "code",
   "execution_count": 74,
   "id": "85b57632-f05b-4ebc-8722-a09e2c6b8dfe",
   "metadata": {},
   "outputs": [
    {
     "name": "stdout",
     "output_type": "stream",
     "text": [
      "#\n",
      "##\n",
      "###\n",
      "#################################\n"
     ]
    }
   ],
   "source": [
    "histogram ([1,2,3,33])"
   ]
  },
  {
   "cell_type": "code",
   "execution_count": null,
   "id": "1e26b52a-105a-40fe-b4c3-dbd22adbf915",
   "metadata": {},
   "outputs": [],
   "source": [
    "def find_short_words(list_of_words):\n",
    "    result = [] # - Vytvoří se prázdný seznam result\n",
    "    for word in list_of_words:  #- - Pro každé slovo v seznamu:\n",
    "        if len(word) < 5: #  Zkontroluje se, jestli má méně než 5 znaků\n",
    "            result.append(word) # Pokud ano, přidá se do result\n",
    "    return result  #  Funkce vrátí seznam krátkých slov"
   ]
  },
  {
   "cell_type": "code",
   "execution_count": null,
   "id": "665f1437-72d7-4dac-8fe6-27017f13061e",
   "metadata": {},
   "outputs": [],
   "source": [
    "✅ Shrnutí:\n",
    "- word je lokální proměnná vytvořená uvnitř cyklu for\n",
    "- Python ji nepotřebuje předem definovat\n",
    "- Je to běžná praxe — stejně jako třeba i v for i in range(...)\n",
    "\n",
    "\n",
    "Takže:\n",
    "- word vzniká automaticky jako proměnná v rámci cyklu.\n",
    "- Nemusíš ji předem definovat — Python ji vytvoří, jakmile do ní něco přiřadíš.\n"
   ]
  },
  {
   "cell_type": "code",
   "execution_count": 55,
   "id": "30008dea-13e9-4db5-83f6-7b2156f60c54",
   "metadata": {},
   "outputs": [
    {
     "name": "stdout",
     "output_type": "stream",
     "text": [
      "Passed!\n",
      "Passed!\n"
     ]
    }
   ],
   "source": [
    "if create_list(7, 8, 9) == list(range(7, 10)) + [8] + [7]: # proč se tu píše list(range(7,10), když je to to samé co \n",
    "    # 7,8,9? \n",
    "    print('Passed!')\n",
    "else:\n",
    "    print('For arguments 7, 8, 9 expected the function to return the list: [7, 8, 9, 8, 7]')\n",
    "    print('Your function returned:', create_list(7, 8, 9))\n",
    "\n",
    "\n",
    "if create_list('Huey', 'Dewey', 'Louie') =.Louie.Dewey.= 'Huey.DeweyHuey'.split('.'):\n",
    "    print('Passed!')\n",
    "else:\n",
    "    print(\n",
    "        \"'For arguments 'Huey', 'Dewey', 'Louie' expected the function to return the list: \" \n",
    "        \"['Huey', 'Dewey', 'Louie', 'Dewey', 'Huey']\"\n",
    "    )\n",
    "    print(\"Your function returned:\", create_list('Huey', 'Dewey', 'Louie'))"
   ]
  },
  {
   "cell_type": "markdown",
   "id": "e6fb0287-5226-4d41-b9a1-3c60fb65d714",
   "metadata": {},
   "source": [
    "✅ Shrnutí:\n",
    "Ten kód říká:\n",
    "„Pokud výstup funkce create_list(7, 8, 9) je stejný jako [7, 8, 9, 8, 7], vypiš 'Prošlo!'“\n"
   ]
  },
  {
   "cell_type": "markdown",
   "id": "3cd75425-1aa6-4073-b252-f46b72322412",
   "metadata": {},
   "source": [
    "Exercise 2\n",
    "Write a histogram(list_of_integers) function,that loops through each digit in a list \n",
    "and displays the number of # characters equal to the digit – on a new line for each digit.\n",
    "\n",
    "Hint:\n",
    "To generate repeatable text you can just multiply it by an int type number:"
   ]
  }
 ],
 "metadata": {
  "kernelspec": {
   "display_name": "Python [conda env:base] *",
   "language": "python",
   "name": "conda-base-py"
  },
  "language_info": {
   "codemirror_mode": {
    "name": "ipython",
    "version": 3
   },
   "file_extension": ".py",
   "mimetype": "text/x-python",
   "name": "python",
   "nbconvert_exporter": "python",
   "pygments_lexer": "ipython3",
   "version": "3.13.5"
  }
 },
 "nbformat": 4,
 "nbformat_minor": 5
}
