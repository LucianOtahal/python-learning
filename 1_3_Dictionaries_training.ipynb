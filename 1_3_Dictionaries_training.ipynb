{
 "cells": [
  {
   "cell_type": "code",
   "execution_count": 1,
   "id": "c7016cc0-a44c-4c2d-8155-77a576992587",
   "metadata": {},
   "outputs": [],
   "source": [
    "apartments = { # jdeme definovat slovník\n",
    "  \"street\": \"Bletchley Road\", # street je klíč, bletcheley road hodnota\n",
    "  \"number_of_rooms\": 10, # number_of_rooms je klíč, hodnotou je 10\n",
    "  \"square_meter\": 100,\n",
    "  \"room_area\": [10,5,3,2,10,\n",
    "          5,5,30,20,10]\n",
    "}"
   ]
  },
  {
   "cell_type": "code",
   "execution_count": 2,
   "id": "7ca3d24f-357e-48bf-98f9-45dafce820af",
   "metadata": {},
   "outputs": [],
   "source": [
    "book = { # jdeme definovat slovník \"book\"\n",
    "  \"title\": \"Iliad\", # klíč je title, Iliad je hodnota\n",
    "  \"no_of_pages\": 200,\n",
    "  \"characters\": [\"Odysseus\",\n",
    "        \"Patroclus\",\n",
    "        \"Ajax\",\n",
    "        \"Hector\"]\n",
    "}"
   ]
  },
  {
   "cell_type": "code",
   "execution_count": 3,
   "id": "423d0025-4801-44e6-ab89-99d49406f1a8",
   "metadata": {},
   "outputs": [
    {
     "data": {
      "text/plain": [
       "dict_keys(['title', 'no_of_pages', 'characters'])"
      ]
     },
     "execution_count": 3,
     "metadata": {},
     "output_type": "execute_result"
    }
   ],
   "source": [
    "book.keys() # chci vypsat klíče ze slovníku \"book\""
   ]
  },
  {
   "cell_type": "code",
   "execution_count": 4,
   "id": "9b89566a-b990-4afa-a72c-acb82a989431",
   "metadata": {},
   "outputs": [],
   "source": [
    "dict1 = {} #definuju slovník pomocí literáru\n",
    "dict1 = dict () # definuju slovník pomocí konstruktoru dict ()\n"
   ]
  },
  {
   "cell_type": "code",
   "execution_count": 6,
   "id": "8fdbbd93-556c-4ce5-8753-6bc0e5588a65",
   "metadata": {},
   "outputs": [
    {
     "name": "stdout",
     "output_type": "stream",
     "text": [
      "{}\n",
      "<class 'dict'>\n",
      "{'Název': 'Data Scientist'}\n"
     ]
    }
   ],
   "source": [
    "kurz = dict()  # jdu definovat slovník s názvem 'kurz'\n",
    "print(kurz)                           # prázdný slovník -> {}  \n",
    "print(type(kurz))  \n",
    "kurz[\"Název\"] = \"Data Scientist\"      # přidávám do slovníku \"Kurz\" nový klíč a to je \"Název\", který má hodnotu \"data scientist\"\n",
    "print(kurz)  "
   ]
  },
  {
   "cell_type": "code",
   "execution_count": null,
   "id": "fb34f36e-c45a-4071-ac35-f1863b91d265",
   "metadata": {},
   "outputs": [],
   "source": [
    "OTÁZKA: proč je ten klíč v hranatých závorkách?\n",
    "copilot: \n",
    "V Pythonu se ke slovníku (dict) přistupuje pomocí hranatých závorek, protože tím říkáš:\n",
    "„Chci pracovat s konkrétním klíčem v tomhle slovníku.“\n"
   ]
  },
  {
   "cell_type": "code",
   "execution_count": 7,
   "id": "077f3be4-2dd9-4b85-bffb-7d5e32cb970b",
   "metadata": {},
   "outputs": [
    {
     "name": "stdout",
     "output_type": "stream",
     "text": [
      "{'Název': 'Data Scientist'}\n"
     ]
    }
   ],
   "source": [
    "print (kurz)"
   ]
  },
  {
   "cell_type": "code",
   "execution_count": 9,
   "id": "60157165-6144-47c0-96a9-7a592c5bdef8",
   "metadata": {},
   "outputs": [
    {
     "name": "stdout",
     "output_type": "stream",
     "text": [
      "{'Název': 'Data Scientist', 'Začátek kurzu': '9.9.2024'}\n",
      "2\n"
     ]
    }
   ],
   "source": [
    "kurz[\"Začátek kurzu\"] = \"9.9.2024\"    # přidání další položky  takže dalšího klíče\n",
    "print(kurz)   \n",
    "print(len(kurz)) # dvě položky ve slovníku, takže zatím tady mám dva klíče, název a začátek...."
   ]
  },
  {
   "cell_type": "code",
   "execution_count": 10,
   "id": "40c8919b-d209-4cb1-9980-24158497d794",
   "metadata": {},
   "outputs": [
    {
     "name": "stdout",
     "output_type": "stream",
     "text": [
      "{'Název': 'Data Scientist', 'Začátek kurzu': '9.9.2024', 'Počet účastníků': 9}\n"
     ]
    }
   ],
   "source": [
    "kurz[\"Počet účastníků\"] = 9           # přidání číselné hodnoty  TAKŽE BEZ UVOZOVEK\n",
    "print(kurz)  "
   ]
  },
  {
   "cell_type": "code",
   "execution_count": 11,
   "id": "2f9cc9da-46dd-4fd5-affe-9ae96fb659a1",
   "metadata": {},
   "outputs": [
    {
     "name": "stdout",
     "output_type": "stream",
     "text": [
      "{'Název': 'Data Scientist', 'Začátek kurzu': '9.9.2024', 'Počet účastníků': 9, 'Použitý software': ['Excel', 'Python', 'SQL']}\n"
     ]
    }
   ],
   "source": [
    "kurz[\"Použitý software\"] = [\"Excel\", \"Python\", \"SQL\"]  # PŘIDÁNÍ SEZNAMU JE TAKY V HRANATÝCH ZÁVORKÁCH....\n",
    "print(kurz)  "
   ]
  },
  {
   "cell_type": "code",
   "execution_count": null,
   "id": "5b170e13-104e-4046-8d7d-b1ae34f4e2cc",
   "metadata": {},
   "outputs": [],
   "source": [
    "kurz[\"Excel\", \"Python\"] = 9  \n",
    "print(kurz)  "
   ]
  },
  {
   "cell_type": "code",
   "execution_count": null,
   "id": "dc305fda-d051-45c7-9437-7bbd3a72c61a",
   "metadata": {},
   "outputs": [],
   "source": [
    "OTÁZKA: CO MI ŘÍKÁ TENTO KOD, PROČ DÁVÁM KLÍČI \"EXCEL, PYTHON\" HODNOTU ČÍSLO?????\n",
    "- Klíč (\"Excel\", \"Python\") je n-tice (tuple) — tedy dvojice hodnot.\n",
    "- Python umožňuje používat n-tice jako klíče ve slovníku, pokud jsou neměnitelné (což tuple je).\n",
    "- Hodnota 9 je přiřazena k tomuto klíči.\n"
   ]
  },
  {
   "cell_type": "code",
   "execution_count": null,
   "id": "ef362127-f37d-4c16-986b-53afc699244c",
   "metadata": {},
   "outputs": [],
   "source": [
    "Getting data from the dictionary / Získání dat ze slovníku¶"
   ]
  },
  {
   "cell_type": "code",
   "execution_count": 15,
   "id": "6fed9758-928d-4f90-8784-6c57dbb00f0d",
   "metadata": {},
   "outputs": [
    {
     "name": "stdout",
     "output_type": "stream",
     "text": [
      "{'Název': 'Data Scientist', 'Začátek kurzu': '9.9.2024', 'Počet účastníků': 9, 'Použitý software': ['Excel', 'Python', 'SQL']}\n"
     ]
    },
    {
     "ename": "TypeError",
     "evalue": "'dict' object is not callable",
     "output_type": "error",
     "traceback": [
      "\u001b[1;31m---------------------------------------------------------------------------\u001b[0m",
      "\u001b[1;31mTypeError\u001b[0m                                 Traceback (most recent call last)",
      "Cell \u001b[1;32mIn[15], line 2\u001b[0m\n\u001b[0;32m      1\u001b[0m \u001b[38;5;28mprint\u001b[39m (kurz)\n\u001b[1;32m----> 2\u001b[0m \u001b[38;5;28mprint\u001b[39m (kurz(\u001b[38;5;124m'\u001b[39m\u001b[38;5;124mNázev\u001b[39m\u001b[38;5;124m'\u001b[39m))\n",
      "\u001b[1;31mTypeError\u001b[0m: 'dict' object is not callable"
     ]
    }
   ],
   "source": [
    "print (kurz)\n",
    "print (kurz('Název'))"
   ]
  },
  {
   "cell_type": "code",
   "execution_count": null,
   "id": "1286c797-e67d-4d77-8f0a-43b485293e7c",
   "metadata": {},
   "outputs": [],
   "source": [
    "➡️ Tohle způsobí chybu typu TypeError, protože:\n",
    "- kurz je slovník, ne funkce.\n",
    "- Závorky () se používají pro volání funkcí, ne pro přístup ke klíčům.\n"
   ]
  },
  {
   "cell_type": "code",
   "execution_count": 16,
   "id": "f5fba28e-7774-45ea-854f-33502aa6337d",
   "metadata": {},
   "outputs": [
    {
     "name": "stdout",
     "output_type": "stream",
     "text": [
      "Data Scientist\n"
     ]
    }
   ],
   "source": [
    "print (kurz [\"Název\"])"
   ]
  },
  {
   "cell_type": "markdown",
   "id": "aa059f07-9886-406c-aae6-296c43b32c50",
   "metadata": {},
   "source": [
    "HURÁ HURÁ HURÁ"
   ]
  },
  {
   "cell_type": "code",
   "execution_count": null,
   "id": "fab6560b-571e-45e0-9ceb-4053088eff11",
   "metadata": {},
   "outputs": [],
   "source": [
    "Adding data to an existing dictionary / Přidání dat do existujícího slovníku¶"
   ]
  },
  {
   "cell_type": "code",
   "execution_count": 19,
   "id": "1709efd4-cef4-4206-90c6-80d00bb2a4bf",
   "metadata": {},
   "outputs": [
    {
     "ename": "NameError",
     "evalue": "name 'true' is not defined",
     "output_type": "error",
     "traceback": [
      "\u001b[1;31m---------------------------------------------------------------------------\u001b[0m",
      "\u001b[1;31mNameError\u001b[0m                                 Traceback (most recent call last)",
      "Cell \u001b[1;32mIn[19], line 1\u001b[0m\n\u001b[1;32m----> 1\u001b[0m kurz [\u001b[38;5;124m\"\u001b[39m\u001b[38;5;124mJe to zábava\u001b[39m\u001b[38;5;124m\"\u001b[39m] \u001b[38;5;241m=\u001b[39m true\n\u001b[0;32m      2\u001b[0m \u001b[38;5;28mprint\u001b[39m (kurz)\n",
      "\u001b[1;31mNameError\u001b[0m: name 'true' is not defined"
     ]
    }
   ],
   "source": [
    "kurz [\"Je to zábava\"] = true\n",
    "print (kurz)"
   ]
  },
  {
   "cell_type": "code",
   "execution_count": null,
   "id": "70dd199d-ba1e-4e36-95ff-144f493d971f",
   "metadata": {},
   "outputs": [],
   "source": [
    "✅ Správný zápis:\n",
    "V Pythonu se logické hodnoty píší s velkým písmenem:\n"
   ]
  },
  {
   "cell_type": "code",
   "execution_count": 20,
   "id": "d26a35eb-902c-40d1-ac74-b6b82bb1449a",
   "metadata": {},
   "outputs": [
    {
     "name": "stdout",
     "output_type": "stream",
     "text": [
      "{'Název': 'Data Scientist', 'Začátek kurzu': '9.9.2024', 'Počet účastníků': 9, 'Použitý software': ['Excel', 'Python', 'SQL'], 'Je to zábava': True}\n"
     ]
    }
   ],
   "source": [
    "kurz [\"Je to zábava\"] = True\n",
    "print (kurz)"
   ]
  },
  {
   "cell_type": "code",
   "execution_count": null,
   "id": "364b8931-a64a-423c-a3fd-2d7741c41288",
   "metadata": {},
   "outputs": [],
   "source": [
    "Data modification / Úprava dat"
   ]
  },
  {
   "cell_type": "code",
   "execution_count": 22,
   "id": "1bb979f2-c826-4c8d-bd03-6da40a0c8176",
   "metadata": {},
   "outputs": [
    {
     "name": "stdout",
     "output_type": "stream",
     "text": [
      "False\n"
     ]
    }
   ],
   "source": [
    "kurz [\"Je to zábava\"] = False     # změna hodnoty existující položky  \n",
    "print(kurz[\"Je to zábava\"])  "
   ]
  },
  {
   "cell_type": "code",
   "execution_count": 23,
   "id": "1c7c96d8-5163-4bdd-93a6-b210a3027025",
   "metadata": {},
   "outputs": [
    {
     "name": "stdout",
     "output_type": "stream",
     "text": [
      "{'Název': 'Data Scientist', 'Začátek kurzu': '9.9.2024', 'Počet účastníků': 9, 'Použitý software': ['Excel', 'Python', 'SQL'], 'Je to zábava': False}\n"
     ]
    }
   ],
   "source": [
    "print (kurz)"
   ]
  },
  {
   "cell_type": "code",
   "execution_count": null,
   "id": "d4b88d1e-5450-401b-bdd7-c7147d198c2e",
   "metadata": {},
   "outputs": [],
   "source": [
    "Deleting data / Mazání dat ze slovníku"
   ]
  },
  {
   "cell_type": "code",
   "execution_count": 24,
   "id": "eb6fe044-80ba-4d02-ba0a-189129bd2fd5",
   "metadata": {},
   "outputs": [
    {
     "name": "stdout",
     "output_type": "stream",
     "text": [
      "{'Název': 'Data Scientist', 'Začátek kurzu': '9.9.2024', 'Počet účastníků': 9, 'Použitý software': ['Excel', 'Python', 'SQL'], 'Je to zábava': None}\n"
     ]
    }
   ],
   "source": [
    "kurz [\"Je to zábava\"] = None   # nastaví hodnotu na None (položka stále existuje, ale bez hodnoty)  \n",
    "print(kurz) "
   ]
  },
  {
   "cell_type": "code",
   "execution_count": 25,
   "id": "0a8d6948-ada9-4ccd-b62d-9006f676fc79",
   "metadata": {},
   "outputs": [
    {
     "name": "stdout",
     "output_type": "stream",
     "text": [
      "{'Název': 'Data Scientist', 'Začátek kurzu': '9.9.2024', 'Počet účastníků': 9, 'Použitý software': ['Excel', 'Python', 'SQL'], 'Je to zábava': None}\n",
      "{'title': 'Iliad', 'no_of_pages': 200, 'characters': ['Odysseus', 'Patroclus', 'Ajax', 'Hector']}\n"
     ]
    }
   ],
   "source": [
    "print(kurz)                  # slovník obsahuje klíč \"fun_to_read\"  \n",
    "del kurz[\"Je to zábava\"]      # smaže položku se zadaným klíčem  \n",
    "print(book) "
   ]
  },
  {
   "cell_type": "code",
   "execution_count": null,
   "id": "68a7a845-3e94-47a5-8a25-b89b452d2625",
   "metadata": {},
   "outputs": [],
   "source": [
    "Iterating over dictionaries / Iterace přes slovníky¶"
   ]
  },
  {
   "cell_type": "code",
   "execution_count": 26,
   "id": "c6e0729a-4fc6-4583-8c94-3f650984e47c",
   "metadata": {},
   "outputs": [
    {
     "name": "stdout",
     "output_type": "stream",
     "text": [
      "Název\n",
      "Začátek kurzu\n",
      "Počet účastníků\n",
      "Použitý software\n"
     ]
    }
   ],
   "source": [
    "for value in kurz:              # prochází všechny klíče slovníku\n",
    "    print(value) "
   ]
  },
  {
   "cell_type": "code",
   "execution_count": null,
   "id": "5af051ce-e137-4818-829c-ebfb23fbf1b2",
   "metadata": {},
   "outputs": [],
   "source": [
    "OTÁZKA: PROČ JE TO TADY NAJEDNOU BEZ VŠECH ZÁVOREK A UVOZOVEK? PROTOŽE TO JSOU HODNOTY? \n",
    "- COPILOT: \n",
    "Když napíšeš for value in book:, Python automaticky chápe, že chceš projít všechny klíče.\n",
    "- value je proměnná, která postupně obsahuje:\n",
    "- \"název\"\n",
    "......\n"
   ]
  },
  {
   "cell_type": "code",
   "execution_count": 29,
   "id": "6ca9328a-0c5a-48eb-84d8-361abc0edb95",
   "metadata": {},
   "outputs": [
    {
     "name": "stdout",
     "output_type": "stream",
     "text": [
      "Název: Data Scientist\n",
      "Začátek kurzu: 9.9.2024\n",
      "Počet účastníků: 9\n",
      "Použitý software: ['Excel', 'Python', 'SQL']\n"
     ]
    }
   ],
   "source": [
    "for key in kurz:                               # prochází všechny klíče slovníku\n",
    "    print(key, kurz [key], sep=\": \")      # vytiskne klíč a jeho hodnotu oddělené dvojtečkou"
   ]
  },
  {
   "cell_type": "code",
   "execution_count": 30,
   "id": "8822bb24-4449-4b1f-9346-5da49120172f",
   "metadata": {},
   "outputs": [
    {
     "name": "stdout",
     "output_type": "stream",
     "text": [
      "Název\n",
      "\n",
      "Data Scientist\n",
      "\n",
      "Název: Data Scientist\n",
      "Začátek kurzu\n",
      "\n",
      "9.9.2024\n",
      "\n",
      "Začátek kurzu: 9.9.2024\n",
      "Počet účastníků\n",
      "\n",
      "9\n",
      "\n",
      "Počet účastníků: 9\n",
      "Použitý software\n",
      "\n",
      "['Excel', 'Python', 'SQL']\n",
      "\n",
      "Použitý software: ['Excel', 'Python', 'SQL']\n"
     ]
    }
   ],
   "source": [
    "for key in kurz:                 \n",
    "    print(key)                        # vypíše klíč  \n",
    "    print()                           # prázdný řádek  \n",
    "    print(kurz[key])                  # vypíše hodnotu pro daný klíč  \n",
    "    print()                           # prázdný řádek  \n",
    "    print(key, kurz[key], sep=\": \")   # vypíše klíč a hodnotu vedle sebe  "
   ]
  },
  {
   "cell_type": "code",
   "execution_count": 31,
   "id": "f2d2ee39-b7f6-43dd-afff-1c5830e10cbc",
   "metadata": {},
   "outputs": [
    {
     "name": "stdout",
     "output_type": "stream",
     "text": [
      "Název\n",
      "Data Scientist\n",
      "Název Data Scientist\n",
      "Začátek kurzu\n",
      "9.9.2024\n",
      "Začátek kurzu 9.9.2024\n",
      "Počet účastníků\n",
      "9\n",
      "Počet účastníků 9\n",
      "Použitý software\n",
      "['Excel', 'Python', 'SQL']\n",
      "Použitý software ['Excel', 'Python', 'SQL']\n"
     ]
    }
   ],
   "source": [
    "for key, value in kurz.items():     \n",
    "        print(key)                       # vypíše klíč  \n",
    "        print(value)                     # vypíše hodnotu  \n",
    "        print(key, value, sep=\" \")       # vypíše klíč a hodnotu vedle sebe oddělené mezerou  \n",
    "\n"
   ]
  },
  {
   "cell_type": "markdown",
   "id": "b43a6140-8a9d-4a67-870f-daf550bf5307",
   "metadata": {},
   "source": [
    "Exercise 1\n",
    "Write a user_data(first_name, last_name) that takes a name and surname as an argument and returns a dictionary based on the given keys and values:\n",
    "\n",
    "\"first_name\" - as in the argument,\n",
    "\"last_name\" - as in the argument,\n",
    "\"full_name\" - composed of both arguments separated with space,\n",
    "\"initials\" - first letters of both arguments followed by dots; both parts separated with space."
   ]
  },
  {
   "cell_type": "code",
   "execution_count": null,
   "id": "0a6f4881-208f-408f-8397-10066ca2f8bf",
   "metadata": {},
   "outputs": [],
   "source": [
    "user_data('Jane', 'Kowalski')\n"
   ]
  },
  {
   "cell_type": "code",
   "execution_count": null,
   "id": "29811e80-9a2a-451c-b7fb-5fc33da6c8a8",
   "metadata": {},
   "outputs": [],
   "source": [
    "{\"first_name\": \"Jane\", \"last_name\": \"Kowalski\", \"full_name\": \"Jane Kowalski\", \"initials\": \"J. K.\"}\n"
   ]
  },
  {
   "cell_type": "code",
   "execution_count": 39,
   "id": "99b0fd7b-b1cc-4b26-93b7-ba4c906089ff",
   "metadata": {},
   "outputs": [
    {
     "name": "stdout",
     "output_type": "stream",
     "text": [
      "<class 'dict'>\n",
      "['first_name', 'last_name']\n"
     ]
    }
   ],
   "source": [
    "user_data = dict ()\n",
    "print (dict)\n",
    "user_data = ['first_name', 'last_name']\n",
    "print (user_data)"
   ]
  },
  {
   "cell_type": "code",
   "execution_count": 51,
   "id": "099dab2d-aefb-4be9-b175-437dd0da3002",
   "metadata": {},
   "outputs": [
    {
     "name": "stdout",
     "output_type": "stream",
     "text": [
      "{'first_name': 'Lucian', 'last_name': 'Otáhal', 'full_name': 'Lucian Otáhal', 'initials': 'L... O...'}\n"
     ]
    }
   ],
   "source": [
    "def user_data (first_name, last_name): \n",
    "    return {'first_name' : first_name, \n",
    "            'last_name' : last_name, \n",
    "            'full_name': first_name + ' ' + last_name, \n",
    "            'initials' : first_name [0] + '...' + ' ' +  last_name [0] + '...'}\n",
    "print (user_data('Lucian', 'Otáhal'))\n",
    "    \n"
   ]
  }
 ],
 "metadata": {
  "kernelspec": {
   "display_name": "Python [conda env:base] *",
   "language": "python",
   "name": "conda-base-py"
  },
  "language_info": {
   "codemirror_mode": {
    "name": "ipython",
    "version": 3
   },
   "file_extension": ".py",
   "mimetype": "text/x-python",
   "name": "python",
   "nbconvert_exporter": "python",
   "pygments_lexer": "ipython3",
   "version": "3.13.5"
  }
 },
 "nbformat": 4,
 "nbformat_minor": 5
}
