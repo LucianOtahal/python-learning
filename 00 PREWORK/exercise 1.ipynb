{
 "cells": [
  {
   "cell_type": "markdown",
   "metadata": {},
   "source": [
    "## Exercise 1\n",
    "\n",
    "The exercise consist in installing the `openpyxl` library, and than taking some information from the prepared worksheet. Part of the code is already written and only needs to be completed."
   ]
  },
  {
   "cell_type": "code",
   "execution_count": null,
   "metadata": {},
   "outputs": [],
   "source": [
    "# put the command here that installs the openpyxl library"
   ]
  },
  {
   "cell_type": "code",
   "execution_count": 11,
   "metadata": {},
   "outputs": [
    {
     "name": "stdout",
     "output_type": "stream",
     "text": [
      "Requirement already satisfied: openpyxl in c:\\users\\lucia\\anaconda3\\lib\\site-packages (3.1.5)\n",
      "Requirement already satisfied: et-xmlfile in c:\\users\\lucia\\anaconda3\\lib\\site-packages (from openpyxl) (1.1.0)\n",
      "Note: you may need to restart the kernel to use updated packages.\n"
     ]
    }
   ],
   "source": [
    "%pip install openpyxl\n",
    "\n",
    "\n"
   ]
  },
  {
   "cell_type": "code",
   "execution_count": null,
   "metadata": {},
   "outputs": [],
   "source": [
    "from openpyxl import load_workbook # To je nástroj, který ti umožní otevřít existující Excel soubor.\n",
    "\n",
    "demo = load_workbook(filename='demo.xlsx', read_only=True) #➡️ Otevírá soubor demo.xlsx v režimu pro čtení (read-only).# \n",
    "# Výsledek se uloží do proměnné demo, která teď představuje celý Excel soubor.\n",
    "\n",
    "sheet = demo['Sheet1'] # ➡️ Získává konkrétní list (Sheet1) z otevřeného Excel souboru demo."
   ]
  },
  {
   "cell_type": "code",
   "execution_count": 16,
   "metadata": {},
   "outputs": [],
   "source": [
    "# here, to the \"cells\" list, add the strings: A1, B4, C2, A2, B3, C1, A3\n",
    "cells = [\"A1\", \"B4\", \"C2\", \"A2\", \"B3\", \"C1\", \"A3\"]"
   ]
  },
  {
   "cell_type": "code",
   "execution_count": 17,
   "metadata": {},
   "outputs": [
    {
     "name": "stdout",
     "output_type": "stream",
     "text": [
      "Become\n",
      "an expert in\n",
      "analysis\n",
      "data\n",
      "by\n",
      "learning\n",
      "Python!\n"
     ]
    }
   ],
   "source": [
    "for cell in cells: # ➡️ Prochází každý řetězec v seznamu cells.\n",
    "    print(sheet[cell].value) # ➡️ Pro každý řetězec (např. \"A1\") získává hodnotu z příslušné buňky na listu sheet a tiskne ji."
   ]
  },
  {
   "cell_type": "code",
   "execution_count": null,
   "metadata": {},
   "outputs": [],
   "source": []
  },
  {
   "cell_type": "code",
   "execution_count": null,
   "metadata": {},
   "outputs": [],
   "source": []
  }
 ],
 "metadata": {
  "kernelspec": {
   "display_name": "base",
   "language": "python",
   "name": "python3"
  },
  "language_info": {
   "codemirror_mode": {
    "name": "ipython",
    "version": 3
   },
   "file_extension": ".py",
   "mimetype": "text/x-python",
   "name": "python",
   "nbconvert_exporter": "python",
   "pygments_lexer": "ipython3",
   "version": "3.13.5"
  }
 },
 "nbformat": 4,
 "nbformat_minor": 4
}
