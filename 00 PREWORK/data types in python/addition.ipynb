{
 "cells": [
  {
   "cell_type": "markdown",
   "id": "bcbaded9-2d78-49a2-9db4-abad9856aea1",
   "metadata": {},
   "source": [
    "# Create the following variables:\r\n",
    "\r\n",
    "add1 with integer value,\r\n",
    "add2 with floating point value,\r\n",
    "sum_value which will be the sum of add1andadd2`\r\n",
    "Hint:\r\n",
    "Do not use sum as the name of a variable because it is a reserved keyword in Python.\r\n",
    "\r\n",
    "Display each variable along with its type."
   ]
  },
  {
   "cell_type": "code",
   "execution_count": 32,
   "id": "0ed1a358-b3f0-405f-b8a4-dd22b2fbc435",
   "metadata": {},
   "outputs": [
    {
     "name": "stdout",
     "output_type": "stream",
     "text": [
      "variable add1: 100 of the <class 'int'> type\n",
      "variable add2: 50.9 of the <class 'float'> type\n",
      "variable together: 150.9 of the <class 'float'> type\n"
     ]
    }
   ],
   "source": [
    "add1 = 100\n",
    "add2 = 50.9\n",
    "together = (add1 + add2)\n",
    "print (\"variable add1:\", add1, \"of the\", type(add1), \"type\")\n",
    "print (\"variable add2:\", add2, \"of the\", type(add2), \"type\")\n",
    "print (\"variable together:\", together, \"of the\", type(together),\"type\")"
   ]
  },
  {
   "cell_type": "code",
   "execution_count": null,
   "id": "19194880-18b6-4d8e-aa57-302ee826fb7f",
   "metadata": {},
   "outputs": [],
   "source": []
  }
 ],
 "metadata": {
  "kernelspec": {
   "display_name": "anaconda-2024.02-py310",
   "language": "python",
   "name": "conda-env-anaconda-2024.02-py310-py"
  },
  "language_info": {
   "codemirror_mode": {
    "name": "ipython",
    "version": 3
   },
   "file_extension": ".py",
   "mimetype": "text/x-python",
   "name": "python",
   "nbconvert_exporter": "python",
   "pygments_lexer": "ipython3",
   "version": "3.10.14"
  }
 },
 "nbformat": 4,
 "nbformat_minor": 5
}
