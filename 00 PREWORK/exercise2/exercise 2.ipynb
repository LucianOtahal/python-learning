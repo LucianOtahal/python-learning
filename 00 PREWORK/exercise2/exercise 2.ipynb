{
 "cells": [
  {
   "cell_type": "markdown",
   "metadata": {},
   "source": [
    "## Exercise 2\n",
    "\n",
    "Below is the code, which contains some information about the fuel consumption of different engines. Your task is to calculate how much fuel **on average** gasoline engines use, and how much diesel engines do. Display the results using the `print` function."
   ]
  },
  {
   "cell_type": "code",
   "execution_count": 2,
   "metadata": {},
   "outputs": [],
   "source": [
    "fuel_consumption = {  # in liter/100km\n",
    "  'Citroen': {\n",
    "    'Berlingo': {\n",
    "      'petrol_engine': 8.25,\n",
    "      'diesel_engine': 5.75,\n",
    "    },\n",
    "    'C3': {\n",
    "      'petrol_engine': 7.0,\n",
    "      'diesel_engine': 5.0,\n",
    "    },\n",
    "  },\n",
    "}"
   ]
  },
  {
   "cell_type": "code",
   "execution_count": 5,
   "metadata": {},
   "outputs": [
    {
     "name": "stdout",
     "output_type": "stream",
     "text": [
      "The petrol engine Citroen Berlingo burns 8.25 liters/100km\n",
      "The diesel engine Citroen Berlingo burns 5.75 liters/100km\n",
      "The petrol engine Citroen C3 burns 7.0 liters/100km\n",
      "The diesel engine Citroen C3 burns 5.0 liters/100km\n"
     ]
    }
   ],
   "source": [
    "print('The petrol engine Citroen Berlingo burns', fuel_consumption['Citroen']['Berlingo']['petrol_engine'], 'liters/100km')\n",
    "\n",
    "# here calculate and print the average consumption for each type of the engine\n",
    "print(\"The diesel engine Citroen Berlingo burns\", fuel_consumption['Citroen']['Berlingo']['diesel_engine'], \"liters/100km\")\n",
    "print(\"The petrol engine Citroen C3 burns\", fuel_consumption['Citroen']['C3']['petrol_engine'], \"liters/100km\")\n",
    "print(\"The diesel engine Citroen C3 burns\", fuel_consumption['Citroen']['C3']['diesel_engine'], \"liters/100km\")"
   ]
  }
 ],
 "metadata": {
  "kernelspec": {
   "display_name": "base",
   "language": "python",
   "name": "python3"
  },
  "language_info": {
   "codemirror_mode": {
    "name": "ipython",
    "version": 3
   },
   "file_extension": ".py",
   "mimetype": "text/x-python",
   "name": "python",
   "nbconvert_exporter": "python",
   "pygments_lexer": "ipython3",
   "version": "3.13.5"
  }
 },
 "nbformat": 4,
 "nbformat_minor": 4
}
