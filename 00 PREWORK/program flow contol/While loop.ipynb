{
 "cells": [
  {
   "cell_type": "markdown",
   "id": "61c16388-b4f1-4ad6-ae33-3a64a3d96601",
   "metadata": {},
   "source": [
    "# While loop\r\n",
    "Using a while loop, write a program that displays the folling message 10 times:"
   ]
  },
  {
   "cell_type": "code",
   "execution_count": 1,
   "id": "70417c5a-40f8-4ff1-8ce6-107c82bfca08",
   "metadata": {},
   "outputs": [
    {
     "ename": "SyntaxError",
     "evalue": "invalid decimal literal (2449653601.py, line 1)",
     "output_type": "error",
     "traceback": [
      "\u001b[0;36m  Cell \u001b[0;32mIn[1], line 1\u001b[0;36m\u001b[0m\n\u001b[0;31m    print= (\"I'm a Pyth0n pr0gramm3r!!\") for 10times\u001b[0m\n\u001b[0m                                              ^\u001b[0m\n\u001b[0;31mSyntaxError\u001b[0m\u001b[0;31m:\u001b[0m invalid decimal literal\n"
     ]
    }
   ],
   "source": [
    "print= (\"I'm a Pyth0n pr0gramm3r!!\") for 10times\n"
   ]
  },
  {
   "cell_type": "code",
   "execution_count": 2,
   "id": "03164aa7-8565-41de-957d-681fd8cfb1bb",
   "metadata": {},
   "outputs": [
    {
     "name": "stdout",
     "output_type": "stream",
     "text": [
      "I'm a Pyth0n pr0gramm3r!!\n",
      "I'm a Pyth0n pr0gramm3r!!\n",
      "I'm a Pyth0n pr0gramm3r!!\n",
      "I'm a Pyth0n pr0gramm3r!!\n",
      "I'm a Pyth0n pr0gramm3r!!\n",
      "I'm a Pyth0n pr0gramm3r!!\n",
      "I'm a Pyth0n pr0gramm3r!!\n",
      "I'm a Pyth0n pr0gramm3r!!\n",
      "I'm a Pyth0n pr0gramm3r!!\n",
      "I'm a Pyth0n pr0gramm3r!!\n"
     ]
    }
   ],
   "source": [
    "for i in range(10):\n",
    "    print(\"I'm a Pyth0n pr0gramm3r!!\")"
   ]
  },
  {
   "cell_type": "code",
   "execution_count": null,
   "id": "50c2b6ea-a8e0-4294-a10d-b0dda7967da2",
   "metadata": {},
   "outputs": [],
   "source": []
  }
 ],
 "metadata": {
  "kernelspec": {
   "display_name": "anaconda-2024.02-py310",
   "language": "python",
   "name": "conda-env-anaconda-2024.02-py310-py"
  },
  "language_info": {
   "codemirror_mode": {
    "name": "ipython",
    "version": 3
   },
   "file_extension": ".py",
   "mimetype": "text/x-python",
   "name": "python",
   "nbconvert_exporter": "python",
   "pygments_lexer": "ipython3",
   "version": "3.10.14"
  }
 },
 "nbformat": 4,
 "nbformat_minor": 5
}
