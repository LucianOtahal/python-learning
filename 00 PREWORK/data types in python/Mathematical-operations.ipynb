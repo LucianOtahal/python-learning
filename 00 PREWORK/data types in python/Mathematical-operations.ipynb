{
 "cells": [
  {
   "cell_type": "markdown",
   "id": "619653bb-c314-4377-8e82-c70d0b13c5fa",
   "metadata": {},
   "source": [
    "# Mathematical operations\r\n",
    "Create the following variables:\r\n",
    "\r\n",
    "a with a value of 10,\r\n",
    "b with a value of 15.\r\n",
    "sum_value with the total value of a and b variables,\r\n",
    "quotus with the quotient value of b and a variables,\r\n",
    "int_part with the integer part of the value of the quotus variable,\r\n",
    "Display the values of all variables and their types.\r\n",
    "\r\n"
   ]
  },
  {
   "cell_type": "code",
   "execution_count": 12,
   "id": "999527f9-9271-4d44-9087-1d25a24e389f",
   "metadata": {},
   "outputs": [
    {
     "name": "stdout",
     "output_type": "stream",
     "text": [
      "variable a 10 of the <class 'int'> type\n",
      "variable b 15 of the <class 'int'> type\n",
      "variable quotus 1.5 of the <class 'float'> type\n",
      "variable int_part 1 of the <class 'int'> type\n"
     ]
    }
   ],
   "source": [
    "a = 10\n",
    "b = 15\n",
    "sum_value= (a+b)\n",
    "quotus = (b/a)\n",
    "int_part= int(quotus)\n",
    "print (\"variable a\", a, \"of the\", type (a), \"type\")\n",
    "print (\"variable b\", b, \"of the\", type (b), \"type\")\n",
    "print (\"variable quotus\", quotus, \"of the\", type(quotus), \"type\")\n",
    "print (\"variable int_part\", int_part, \"of the\", type (int_part), \"type\")\n"
   ]
  }
 ],
 "metadata": {
  "kernelspec": {
   "display_name": "anaconda-2024.02-py310",
   "language": "python",
   "name": "conda-env-anaconda-2024.02-py310-py"
  },
  "language_info": {
   "codemirror_mode": {
    "name": "ipython",
    "version": 3
   },
   "file_extension": ".py",
   "mimetype": "text/x-python",
   "name": "python",
   "nbconvert_exporter": "python",
   "pygments_lexer": "ipython3",
   "version": "3.10.14"
  }
 },
 "nbformat": 4,
 "nbformat_minor": 5
}
