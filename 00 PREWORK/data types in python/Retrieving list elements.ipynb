{
 "cells": [
  {
   "cell_type": "markdown",
   "id": "8a879dfa-fa34-458f-ae81-ab3f73dc25ec",
   "metadata": {},
   "source": [
    "# Retrieving list elements\r\n",
    "With the list:\r\n",
    "\r\n",
    "words = ['is', 'wrong', 'dough', 'correspondence', 'Python', 'snake', 'tolerate', 'conflict',\r\n",
    "'chase', 'begin', 'fun','confidence', 'beat']\r\n",
    "\r\n",
    "Do the following:\r\n",
    "\r\n",
    "display the fifth array element,\r\n",
    "display the first array element,\r\n",
    "display the third array element from the end,\r\n",
    "Hint:\r\n",
    "You can also use reverse indexing to retrieve items counting from the end of the list."
   ]
  },
  {
   "cell_type": "code",
   "execution_count": 4,
   "id": "bb04bbe4-a5a2-4700-8a94-d7a20390cb4e",
   "metadata": {},
   "outputs": [
    {
     "name": "stdout",
     "output_type": "stream",
     "text": [
      "Python\n",
      "is\n",
      "fun\n"
     ]
    }
   ],
   "source": [
    "words = ['is', 'wrong', 'dough', 'correspondence', 'Python', 'snake', 'tolerate', 'conflict',\n",
    "'chase', 'begin', 'fun','confidence', 'beat']\n",
    "print (words[4])\n",
    "print (words[0])\n",
    "print (words [-3])"
   ]
  }
 ],
 "metadata": {
  "kernelspec": {
   "display_name": "anaconda-2024.02-py310",
   "language": "python",
   "name": "conda-env-anaconda-2024.02-py310-py"
  },
  "language_info": {
   "codemirror_mode": {
    "name": "ipython",
    "version": 3
   },
   "file_extension": ".py",
   "mimetype": "text/x-python",
   "name": "python",
   "nbconvert_exporter": "python",
   "pygments_lexer": "ipython3",
   "version": "3.10.14"
  }
 },
 "nbformat": 4,
 "nbformat_minor": 5
}
