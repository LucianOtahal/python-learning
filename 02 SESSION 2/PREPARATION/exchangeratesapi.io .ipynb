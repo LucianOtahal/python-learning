{
 "cells": [
  {
   "cell_type": "code",
   "execution_count": 18,
   "id": "3d83fad4-dc98-4819-a9bd-e3601254ed4b",
   "metadata": {},
   "outputs": [
    {
     "name": "stdout",
     "output_type": "stream",
     "text": [
      "EURAUD rate is currently 1.778557\n"
     ]
    }
   ],
   "source": [
    "import requests # o víkendu\n",
    "\n",
    "# Edit here!\n",
    "APIKEY = '922dc6e343bd8a6c1a19da703bb8a65a'\n",
    "\n",
    "response = requests.get(f'https://api.openweathermap.org/data/2.5/weather?q=London&appid={APIKEY}')\n",
    "\n",
    "response = requests.get(f'http://api.exchangeratesapi.io/latest?access_key={APIKEY}')\n",
    "\n",
    "if response.json()['success']:\n",
    "    print('EURAUD rate is currently', response.json()['rates']['AUD'])\n",
    "else:\n",
    "    print('Error:', response.json()['error']['info'])\n",
    "    \n"
   ]
  },
  {
   "cell_type": "code",
   "execution_count": 11,
   "id": "0ec72c79-0482-4962-9188-59b69fef3895",
   "metadata": {},
   "outputs": [
    {
     "name": "stdout",
     "output_type": "stream",
     "text": [
      "EURAUD rate is currently 1.767441\n"
     ]
    }
   ],
   "source": [
    "import requests # dneska\n",
    "\n",
    "# Edit here!\n",
    "APIKEY = '922dc6e343bd8a6c1a19da703bb8a65a'\n",
    "\n",
    "\n",
    "response = requests.get(f'http://api.exchangeratesapi.io/latest?access_key={APIKEY}')\n",
    "\n",
    "if response.json()['success']:\n",
    "    print('EURAUD rate is currently', response.json()['rates']['AUD']) # kde je parametr: EUR? \n",
    "else:\n",
    "    print('Error:', response.json()['error']['info'])"
   ]
  },
  {
   "cell_type": "code",
   "execution_count": 6,
   "id": "ea68c2af-fcdd-4ea1-ac4a-273af095fc2d",
   "metadata": {
    "jupyter": {
     "source_hidden": true
    }
   },
   "outputs": [
    {
     "ename": "KeyError",
     "evalue": "'NOKCZK'",
     "output_type": "error",
     "traceback": [
      "\u001b[1;31m---------------------------------------------------------------------------\u001b[0m",
      "\u001b[1;31mKeyError\u001b[0m                                  Traceback (most recent call last)",
      "Cell \u001b[1;32mIn[6], line 9\u001b[0m\n\u001b[0;32m      6\u001b[0m response \u001b[38;5;241m=\u001b[39m requests\u001b[38;5;241m.\u001b[39mget(\u001b[38;5;124mf\u001b[39m\u001b[38;5;124m'\u001b[39m\u001b[38;5;124mhttp://api.exchangeratesapi.io/latest?access_key=\u001b[39m\u001b[38;5;132;01m{\u001b[39;00mAPIKEY\u001b[38;5;132;01m}\u001b[39;00m\u001b[38;5;124m'\u001b[39m)\n\u001b[0;32m      8\u001b[0m \u001b[38;5;28;01mif\u001b[39;00m response\u001b[38;5;241m.\u001b[39mjson()[\u001b[38;5;124m'\u001b[39m\u001b[38;5;124msuccess\u001b[39m\u001b[38;5;124m'\u001b[39m]:\n\u001b[1;32m----> 9\u001b[0m     \u001b[38;5;28mprint\u001b[39m(\u001b[38;5;124m'\u001b[39m\u001b[38;5;124mNOKCZK rate is currently\u001b[39m\u001b[38;5;124m'\u001b[39m, response\u001b[38;5;241m.\u001b[39mjson()[\u001b[38;5;124m'\u001b[39m\u001b[38;5;124mrates\u001b[39m\u001b[38;5;124m'\u001b[39m][\u001b[38;5;124m'\u001b[39m\u001b[38;5;124mNOKCZK\u001b[39m\u001b[38;5;124m'\u001b[39m])\n\u001b[0;32m     10\u001b[0m \u001b[38;5;28;01melse\u001b[39;00m:\n\u001b[0;32m     11\u001b[0m     \u001b[38;5;28mprint\u001b[39m(\u001b[38;5;124m'\u001b[39m\u001b[38;5;124mError:\u001b[39m\u001b[38;5;124m'\u001b[39m, response\u001b[38;5;241m.\u001b[39mjson()[\u001b[38;5;124m'\u001b[39m\u001b[38;5;124merror\u001b[39m\u001b[38;5;124m'\u001b[39m][\u001b[38;5;124m'\u001b[39m\u001b[38;5;124minfo\u001b[39m\u001b[38;5;124m'\u001b[39m])\n",
      "\u001b[1;31mKeyError\u001b[0m: 'NOKCZK'"
     ]
    }
   ],
   "source": [
    "import requests\n",
    "\n",
    "# Edit here!\n",
    "APIKEY = '922dc6e343bd8a6c1a19da703bb8a65a'\n",
    "\n",
    "response = requests.get(f'http://api.exchangeratesapi.io/latest?access_key={APIKEY}')\n",
    "\n",
    "if response.json()['success']:\n",
    "    print('NOKCZK rate is currently', response.json()['rates']['NOKCZK'])\n",
    "else:\n",
    "    print('Error:', response.json()['error']['info'])\n",
    "    \n"
   ]
  },
  {
   "cell_type": "code",
   "execution_count": 7,
   "id": "357711cb-9303-454a-9908-fbfc63e3ad7f",
   "metadata": {},
   "outputs": [
    {
     "name": "stdout",
     "output_type": "stream",
     "text": [
      "EURUSD rate is currently 1.171941\n"
     ]
    }
   ],
   "source": [
    "import requests\n",
    "\n",
    "# Edit here!\n",
    "APIKEY = '922dc6e343bd8a6c1a19da703bb8a65a'\n",
    "\n",
    "\n",
    "\n",
    "response = requests.get(f'http://api.exchangeratesapi.io/latest?access_key={APIKEY}')\n",
    "\n",
    "if response.json()['success']:\n",
    "    print('EURUSD rate is currently', response.json()['rates']['USD'])\n",
    "else:\n",
    "    print('Error:', response.json()['error']['info'])"
   ]
  },
  {
   "cell_type": "code",
   "execution_count": 17,
   "id": "e8e43999-a387-4a7f-9492-1a6f2ad70719",
   "metadata": {
    "scrolled": true
   },
   "outputs": [
    {
     "ename": "KeyError",
     "evalue": "'info'",
     "output_type": "error",
     "traceback": [
      "\u001b[1;31m---------------------------------------------------------------------------\u001b[0m",
      "\u001b[1;31mKeyError\u001b[0m                                  Traceback (most recent call last)",
      "Cell \u001b[1;32mIn[17], line 17\u001b[0m\n\u001b[0;32m     15\u001b[0m     \u001b[38;5;28mprint\u001b[39m(\u001b[38;5;124m\"\u001b[39m\u001b[38;5;124mUSD/CZK rate is currently\u001b[39m\u001b[38;5;124m\"\u001b[39m, data[\u001b[38;5;124m\"\u001b[39m\u001b[38;5;124mrates\u001b[39m\u001b[38;5;124m\"\u001b[39m][\u001b[38;5;124m\"\u001b[39m\u001b[38;5;124mCZK\u001b[39m\u001b[38;5;124m\"\u001b[39m])\n\u001b[0;32m     16\u001b[0m \u001b[38;5;28;01melse\u001b[39;00m:\n\u001b[1;32m---> 17\u001b[0m     \u001b[38;5;28mprint\u001b[39m(\u001b[38;5;124m'\u001b[39m\u001b[38;5;124mError:\u001b[39m\u001b[38;5;124m'\u001b[39m, response\u001b[38;5;241m.\u001b[39mjson()[\u001b[38;5;124m'\u001b[39m\u001b[38;5;124merror\u001b[39m\u001b[38;5;124m'\u001b[39m][\u001b[38;5;124m'\u001b[39m\u001b[38;5;124minfo\u001b[39m\u001b[38;5;124m'\u001b[39m])\n",
      "\u001b[1;31mKeyError\u001b[0m: 'info'"
     ]
    }
   ],
   "source": [
    "import requests\n",
    "APIKEY = '922dc6e343bd8a6c1a19da703bb8a65a'  # můj APIkey, který na EURAUD funguje...\n",
    "\n",
    "url = \"https://api.exchangerate.host/latest\"\n",
    "params = {\n",
    "     \"access_key\": APIKEY, # toto mi poradil Copilot tam dát....\n",
    "\n",
    "    \"base\": \"USD\",      # základní měna\n",
    "    \"symbols\": \"CZK\"    # cílová měna\n",
    "}\n",
    "response = requests.get(url, params=params)\n",
    "\n",
    "data = response.json()\n",
    "if data[\"success\"]:\n",
    "    print(\"USD/CZK rate is currently\", data[\"rates\"][\"CZK\"])\n",
    "else: # else jsem zkopíroval ze zadání z LMS\n",
    "    print('Error:', response.json()['error']['info'])"
   ]
  },
  {
   "cell_type": "code",
   "execution_count": 1,
   "id": "b9a19562-e6ef-45ca-b1ee-923eb09b807b",
   "metadata": {
    "jupyter": {
     "source_hidden": true
    },
    "scrolled": true
   },
   "outputs": [
    {
     "ename": "KeyError",
     "evalue": "'rates'",
     "output_type": "error",
     "traceback": [
      "\u001b[1;31m---------------------------------------------------------------------------\u001b[0m",
      "\u001b[1;31mKeyError\u001b[0m                                  Traceback (most recent call last)",
      "Cell \u001b[1;32mIn[1], line 9\u001b[0m\n\u001b[0;32m      7\u001b[0m response \u001b[38;5;241m=\u001b[39m requests\u001b[38;5;241m.\u001b[39mget(url, params\u001b[38;5;241m=\u001b[39mparams)\n\u001b[0;32m      8\u001b[0m data \u001b[38;5;241m=\u001b[39m response\u001b[38;5;241m.\u001b[39mjson()\n\u001b[1;32m----> 9\u001b[0m \u001b[38;5;28mprint\u001b[39m(\u001b[38;5;124m\"\u001b[39m\u001b[38;5;124mUSD/CZK rate is currently\u001b[39m\u001b[38;5;124m\"\u001b[39m, data[\u001b[38;5;124m\"\u001b[39m\u001b[38;5;124mrates\u001b[39m\u001b[38;5;124m\"\u001b[39m][\u001b[38;5;124m\"\u001b[39m\u001b[38;5;124mCZK\u001b[39m\u001b[38;5;124m\"\u001b[39m])\n",
      "\u001b[1;31mKeyError\u001b[0m: 'rates'"
     ]
    }
   ],
   "source": [
    "import requests\n",
    "url = \"https://api.exchangerate.host/latest\"\n",
    "params = {\n",
    "    \"base\": \"USD\",      # základní měna\n",
    "    \"symbols\": \"CZK\"    # cílová měna\n",
    "}\n",
    "response = requests.get(url, params=params)\n",
    "data = response.json()\n",
    "print(\"USD/CZK rate is currently\", data[\"rates\"][\"CZK\"])"
   ]
  },
  {
   "cell_type": "markdown",
   "id": "9f7aa1b7-e4e4-4c3f-8604-2de3730e48d8",
   "metadata": {},
   "source": [
    "Monika Dvořáčková\n",
    "  Yesterday at 7:37 PM\n",
    "  Tady jsi smíchal dvě verze, buď:"
   ]
  },
  {
   "cell_type": "code",
   "execution_count": 10,
   "id": "ac420022-ba9f-4c16-9c27-ea4e0e336d33",
   "metadata": {},
   "outputs": [
    {
     "ename": "KeyError",
     "evalue": "'rates'",
     "output_type": "error",
     "traceback": [
      "\u001b[1;31m---------------------------------------------------------------------------\u001b[0m",
      "\u001b[1;31mKeyError\u001b[0m                                  Traceback (most recent call last)",
      "Cell \u001b[1;32mIn[10], line 10\u001b[0m\n\u001b[0;32m      8\u001b[0m response \u001b[38;5;241m=\u001b[39m requests\u001b[38;5;241m.\u001b[39mget(url, params\u001b[38;5;241m=\u001b[39mparams)\n\u001b[0;32m      9\u001b[0m data \u001b[38;5;241m=\u001b[39m response\u001b[38;5;241m.\u001b[39mjson()\n\u001b[1;32m---> 10\u001b[0m \u001b[38;5;28mprint\u001b[39m(\u001b[38;5;124m\"\u001b[39m\u001b[38;5;124mUSD/CZK rate is currently\u001b[39m\u001b[38;5;124m\"\u001b[39m, data[\u001b[38;5;124m\"\u001b[39m\u001b[38;5;124mrates\u001b[39m\u001b[38;5;124m\"\u001b[39m][\u001b[38;5;124m\"\u001b[39m\u001b[38;5;124mCZK\u001b[39m\u001b[38;5;124m\"\u001b[39m])\n",
      "\u001b[1;31mKeyError\u001b[0m: 'rates'"
     ]
    }
   ],
   "source": [
    "import requests\n",
    "\n",
    "url = \"https://api.exchangerate.host/latest\"\n",
    "params = {\n",
    "    \"base\": \"USD\",      # základní měna\n",
    "    \"symbols\": \"CZK\"    # cílová měna\n",
    "}\n",
    "response = requests.get(url, params=params)\n",
    "data = response.json()\n",
    "print(\"USD/CZK rate is currently\", data[\"rates\"][\"CZK\"])"
   ]
  },
  {
   "cell_type": "markdown",
   "id": "4e321b04-56e1-48be-954e-bf5f96a6afbe",
   "metadata": {},
   "source": [
    "\n",
    "Monika Dvořáčková\n",
    "  Yesterday at 7:37 PM\n",
    "\n",
    "Nebo:"
   ]
  },
  {
   "cell_type": "code",
   "execution_count": 9,
   "id": "d2bb4101-6a28-462b-b0d2-fd95963e1872",
   "metadata": {},
   "outputs": [
    {
     "ename": "KeyError",
     "evalue": "'info'",
     "output_type": "error",
     "traceback": [
      "\u001b[1;31m---------------------------------------------------------------------------\u001b[0m",
      "\u001b[1;31mKeyError\u001b[0m                                  Traceback (most recent call last)",
      "Cell \u001b[1;32mIn[9], line 14\u001b[0m\n\u001b[0;32m     12\u001b[0m     \u001b[38;5;28mprint\u001b[39m(\u001b[38;5;124m\"\u001b[39m\u001b[38;5;124mUSD/CZK rate is currently\u001b[39m\u001b[38;5;124m\"\u001b[39m, data[\u001b[38;5;124m\"\u001b[39m\u001b[38;5;124mrates\u001b[39m\u001b[38;5;124m\"\u001b[39m][\u001b[38;5;124m\"\u001b[39m\u001b[38;5;124mCZK\u001b[39m\u001b[38;5;124m\"\u001b[39m])\n\u001b[0;32m     13\u001b[0m \u001b[38;5;28;01melse\u001b[39;00m:\n\u001b[1;32m---> 14\u001b[0m     \u001b[38;5;28mprint\u001b[39m(\u001b[38;5;124m\"\u001b[39m\u001b[38;5;124mError:\u001b[39m\u001b[38;5;124m\"\u001b[39m, data[\u001b[38;5;124m\"\u001b[39m\u001b[38;5;124merror\u001b[39m\u001b[38;5;124m\"\u001b[39m][\u001b[38;5;124m\"\u001b[39m\u001b[38;5;124minfo\u001b[39m\u001b[38;5;124m\"\u001b[39m])\n",
      "\u001b[1;31mKeyError\u001b[0m: 'info'"
     ]
    }
   ],
   "source": [
    "import requests\n",
    "APIKEY = \"922dc6e343bd8a6c1a19da703bb8a65a\"\n",
    "url = \"https://api.exchangeratesapi.io/v1/latest\"\n",
    "params = {\n",
    "    \"access_key\": APIKEY,\n",
    "    \"base\": \"USD\",\n",
    "    \"symbols\": \"CZK\"\n",
    "}\n",
    "response = requests.get(url, params=params)\n",
    "data = response.json()\n",
    "if data.get(\"success\", False):\n",
    "    print(\"USD/CZK rate is currently\", data[\"rates\"][\"CZK\"])\n",
    "else:\n",
    "    print(\"Error:\", data[\"error\"][\"info\"])"
   ]
  }
 ],
 "metadata": {
  "kernelspec": {
   "display_name": "Python [conda env:base] *",
   "language": "python",
   "name": "conda-base-py"
  },
  "language_info": {
   "codemirror_mode": {
    "name": "ipython",
    "version": 3
   },
   "file_extension": ".py",
   "mimetype": "text/x-python",
   "name": "python",
   "nbconvert_exporter": "python",
   "pygments_lexer": "ipython3",
   "version": "3.13.5"
  }
 },
 "nbformat": 4,
 "nbformat_minor": 5
}
