{
 "cells": [
  {
   "cell_type": "markdown",
   "id": "4b752247-f0df-4fdc-9ddc-36f57badeba0",
   "metadata": {},
   "source": [
    "# Modulo division\r\n",
    "Create two variables and assign any numbers to them.\r\n",
    "Calculate the remainder of the division (modulo) of these numbers and assign the result to the variable modulo_result.\r\n",
    "Display the modulo_result variable.\r\n",
    "Hint:\r\n",
    "If you don't fully understand the operation of the modulo operator, practice it with other numbers."
   ]
  },
  {
   "cell_type": "code",
   "execution_count": 3,
   "id": "4cd900db-bf78-4475-814d-809387cdf1e0",
   "metadata": {},
   "outputs": [
    {
     "name": "stdout",
     "output_type": "stream",
     "text": [
      "1\n"
     ]
    }
   ],
   "source": [
    "A = 10\n",
    "B = 3\n",
    "modulo_result = A % B\n",
    "print (modulo_result)\n"
   ]
  }
 ],
 "metadata": {
  "kernelspec": {
   "display_name": "anaconda-2024.02-py310",
   "language": "python",
   "name": "conda-env-anaconda-2024.02-py310-py"
  },
  "language_info": {
   "codemirror_mode": {
    "name": "ipython",
    "version": 3
   },
   "file_extension": ".py",
   "mimetype": "text/x-python",
   "name": "python",
   "nbconvert_exporter": "python",
   "pygments_lexer": "ipython3",
   "version": "3.10.14"
  }
 },
 "nbformat": 4,
 "nbformat_minor": 5
}
