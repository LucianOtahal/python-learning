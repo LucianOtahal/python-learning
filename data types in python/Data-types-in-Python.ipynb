{
 "cells": [
  {
   "cell_type": "markdown",
   "id": "b0162f28-4df0-4d8d-8eef-b31c8de6b748",
   "metadata": {},
   "source": [
    "# Create 5 variables and put the following data into them:\r\n",
    "\r\n",
    "an integer,\r\n",
    "a floating point number,\r\n",
    "a string (text)\r\n",
    "a multi-line string,\r\n",
    "a Boolean value.\r\n",
    "Add an appropriate comment to each variable , stating what type of data it stores.\r\n",
    "\r\n",
    "Display each variable using the print function, in the form of:\r\n",
    "\r\n",
    "variable <variable> of the <type> type.\r\n",
    "\r\n",
    "Hint:\r\n",
    "thetype() function is used eto get the typ"
   ]
  },
  {
   "cell_type": "code",
   "execution_count": 39,
   "id": "fb363727-8994-4193-a982-4102fdd4fbd0",
   "metadata": {},
   "outputs": [
    {
     "name": "stdout",
     "output_type": "stream",
     "text": [
      "variable 44 of the <class 'int'> type.\n"
     ]
    }
   ],
   "source": [
    "věk = 44 #  ukádá věk jako celé číslo\n",
    "print(\"variable\", věk, \"of the\", type(věk), \"type.\")"
   ]
  },
  {
   "cell_type": "code",
   "execution_count": 42,
   "id": "6d9a2caf-5ac1-41ed-9616-611c1719db09",
   "metadata": {},
   "outputs": [
    {
     "name": "stdout",
     "output_type": "stream",
     "text": [
      "variable 10.1 of the <class 'float'> type.\n"
     ]
    }
   ],
   "source": [
    "teplota  = 10.1 # uloží teplotu jako desetinné číslo\n",
    "print (\"variable\", teplota, \"of the\", type (teplota), \"type.\")"
   ]
  },
  {
   "cell_type": "code",
   "execution_count": 44,
   "id": "7a43201f-30ee-46c2-91d8-c243186b0214",
   "metadata": {},
   "outputs": [
    {
     "name": "stdout",
     "output_type": "stream",
     "text": [
      "variable učení of the <class 'str'> type\n"
     ]
    }
   ],
   "source": [
    "věta = (\"učení\") \n",
    "print (\"variable\", věta, \"of the\", type (věta), \"type\")\n",
    "# uloží proměnnou \"věta\" jako tex čili str"
   ]
  },
  {
   "cell_type": "code",
   "execution_count": 45,
   "id": "2fee33c2-5511-49c6-9258-b10d08886278",
   "metadata": {},
   "outputs": [
    {
     "name": "stdout",
     "output_type": "stream",
     "text": [
      "variable Python je zábava, ale některé \n",
      "věci úplně ještě nechápu. \n",
      "Doufám, že se to zlepší, když budu každý den cvičit. of the <class 'str'> type\n"
     ]
    }
   ],
   "source": [
    "odstavec = (\"\"\"Python je zábava, ale některé \n",
    "věci úplně ještě nechápu. \n",
    "Doufám, že se to zlepší, když budu každý den cvičit.\"\"\")\n",
    "print (\"variable\", odstavec, \"of the\", type (odstavec), \"type\")\n",
    "# uloží proměnnou \"odstavec\" jako multiline string str"
   ]
  },
  {
   "cell_type": "code",
   "execution_count": null,
   "id": "8629eb09-6978-4c6b-98cf-1a013cd91307",
   "metadata": {},
   "outputs": [],
   "source": []
  },
  {
   "cell_type": "code",
   "execution_count": null,
   "id": "dbea414b-87ff-4e0b-9bdf-f343c3bd09ce",
   "metadata": {},
   "outputs": [],
   "source": []
  }
 ],
 "metadata": {
  "kernelspec": {
   "display_name": "anaconda-2024.02-py310",
   "language": "python",
   "name": "conda-env-anaconda-2024.02-py310-py"
  },
  "language_info": {
   "codemirror_mode": {
    "name": "ipython",
    "version": 3
   },
   "file_extension": ".py",
   "mimetype": "text/x-python",
   "name": "python",
   "nbconvert_exporter": "python",
   "pygments_lexer": "ipython3",
   "version": "3.10.14"
  }
 },
 "nbformat": 4,
 "nbformat_minor": 5
}
