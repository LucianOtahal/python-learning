{
 "cells": [
  {
   "cell_type": "markdown",
   "id": "734e3c3b-f4bd-4a62-a60a-18bc3bbbdd9d",
   "metadata": {},
   "source": [
    "# Age difference\r\n",
    "Create a variable called father and assign the value of 1974 to it.\r\n",
    "Create a second variable named child and give it the value 2007.\r\n",
    "Print a message formatted as: \"The father is <difference> years older than the child.\".\r\n",
    "Hint:\r\n",
    "It is most convenient to use the fstring construct or the format method."
   ]
  },
  {
   "cell_type": "code",
   "execution_count": 6,
   "id": "f68f2849-779d-40b5-b41d-025989af0654",
   "metadata": {},
   "outputs": [
    {
     "name": "stdout",
     "output_type": "stream",
     "text": [
      "The father is 33  years older than the child.\n"
     ]
    }
   ],
   "source": [
    "father = 1974\n",
    "child = 2007\n",
    "difference = child-father  # spočítá věkový rozdíl.\n",
    "print(f\"The father is {difference}  years older than the child.\")\n"
   ]
  },
  {
   "cell_type": "code",
   "execution_count": 8,
   "id": "e12890e1-f66c-4728-859a-32a4670372b4",
   "metadata": {},
   "outputs": [
    {
     "name": "stdout",
     "output_type": "stream",
     "text": [
      "My name is Lucian and I am 44 years old.\n"
     ]
    }
   ],
   "source": [
    "name = \"Lucian\"\n",
    "age = 44\n",
    "print(f\"My name is {name} and I am {age} years old.\")"
   ]
  },
  {
   "cell_type": "markdown",
   "id": "c34f51e0-3ae7-4c3c-9064-286474151973",
   "metadata": {},
   "source": [
    "# já asi nechápu, proč se tam musí napsat to f', nejde prostě napsat print(\"my name is\", name, \"and I am\", age..."
   ]
  },
  {
   "cell_type": "markdown",
   "id": "d02eed50-9127-4949-9600-b7d71bea3b62",
   "metadata": {},
   "source": [
    "Ano, jde to napsat i bez toho f, přesně jak říkáš:\n"
   ]
  },
  {
   "cell_type": "code",
   "execution_count": 9,
   "id": "d9a7e487-fdbe-4ec2-a43c-fdb2b7909200",
   "metadata": {},
   "outputs": [
    {
     "name": "stdout",
     "output_type": "stream",
     "text": [
      "My name is Lucian and I am 25 years old.\n"
     ]
    }
   ],
   "source": [
    "name = \"Lucian\"\n",
    "age = 25\n",
    "print(\"My name is\", name, \"and I am\", age, \"years old.\")"
   ]
  },
  {
   "cell_type": "markdown",
   "id": "04f951de-8933-4e72-8f95-34f3b15e1877",
   "metadata": {},
   "source": [
    "# Tak proč se vůbec používá f-string?\r\n",
    "To f před uvozovkami je zkratka pro \"formatted string\" — a je to způsob, jak psát texty s proměnnými pohodlněji a elegantněji, hlavně když je těch proměnných víc nebo když chceš dělat výpočty přímo v textu.\r\n"
   ]
  },
  {
   "cell_type": "markdown",
   "id": "212c15a3-7c8e-4e4f-99fc-472a24cec05d",
   "metadata": {},
   "source": [
    "print(\"The result is\", a + b, \"and the average is\", (a + b) / 2) # bez f stringu\n",
    "print(f\"The result is {a + b} and the average is {(a + b) / 2}\") # s f stringem"
   ]
  },
  {
   "cell_type": "markdown",
   "id": "3731315c-b760-4d03-a45f-2251001a6906",
   "metadata": {},
   "source": [
    "# F-string ti dovolí:\r\n",
    "- psát text jako jednu větu bez čárek mezi částmi\r\n",
    "- vkládat výrazy přímo do složených závorek {}\r\n",
    "Je to jako když si skládáš větu a Python ti automaticky doplní hodnoty.\r\n"
   ]
  }
 ],
 "metadata": {
  "kernelspec": {
   "display_name": "anaconda-2024.02-py310",
   "language": "python",
   "name": "conda-env-anaconda-2024.02-py310-py"
  },
  "language_info": {
   "codemirror_mode": {
    "name": "ipython",
    "version": 3
   },
   "file_extension": ".py",
   "mimetype": "text/x-python",
   "name": "python",
   "nbconvert_exporter": "python",
   "pygments_lexer": "ipython3",
   "version": "3.10.14"
  }
 },
 "nbformat": 4,
 "nbformat_minor": 5
}
