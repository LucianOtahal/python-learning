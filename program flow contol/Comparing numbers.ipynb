{
 "cells": [
  {
   "cell_type": "markdown",
   "id": "cc644e59-563e-4822-bec3-864fa847ffa9",
   "metadata": {},
   "source": [
    "# Comparing numbers\n",
    "Write a program, that will:\n",
    "\n",
    "take two numerical variables from the user (call them a and b).\n",
    "cast the variables to float.\n",
    "write out information about the result of the comparison, for example:"
   ]
  },
  {
   "cell_type": "code",
   "execution_count": null,
   "id": "ac2c2e53-8350-4ebf-b240-adb29f26934a",
   "metadata": {},
   "outputs": [],
   "source": [
    "a is greater!\n"
   ]
  },
  {
   "cell_type": "code",
   "execution_count": 10,
   "id": "3cc3770f-d1e6-46f7-a16c-db798c630d12",
   "metadata": {},
   "outputs": [
    {
     "name": "stdin",
     "output_type": "stream",
     "text": [
      "Enter value for a:  334455\n",
      "Enter value for b:  8765\n"
     ]
    },
    {
     "name": "stdout",
     "output_type": "stream",
     "text": [
      "a is greater!\n"
     ]
    }
   ],
   "source": [
    "a= float (input(\"Enter value for a: \"))\n",
    "b = float (input(\"Enter value for b: \"))\n",
    "if a>b:\n",
    "       print (\"a is greater!\")\n",
    "else:\n",
    "    print (\"b is greater!\")\n",
    "\n",
    "\n",
    "\n"
   ]
  },
  {
   "cell_type": "markdown",
   "id": "fe1a66a2-4554-45eb-9258-95e940a34fdb",
   "metadata": {},
   "source": [
    "What needed to be fixed:\n",
    "- The input(...) function must include a string prompt, not a variable like a or b.\n",
    "- Python does not use then — conditions are written without it.\n",
    "- Indentation is crucial: the if and else blocks must be properly aligned, or the code won’t run correctly.\n"
   ]
  }
 ],
 "metadata": {
  "kernelspec": {
   "display_name": "anaconda-2024.02-py310",
   "language": "python",
   "name": "conda-env-anaconda-2024.02-py310-py"
  },
  "language_info": {
   "codemirror_mode": {
    "name": "ipython",
    "version": 3
   },
   "file_extension": ".py",
   "mimetype": "text/x-python",
   "name": "python",
   "nbconvert_exporter": "python",
   "pygments_lexer": "ipython3",
   "version": "3.10.14"
  }
 },
 "nbformat": 4,
 "nbformat_minor": 5
}
