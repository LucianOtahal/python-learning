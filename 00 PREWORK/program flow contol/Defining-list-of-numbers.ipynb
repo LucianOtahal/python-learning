{
 "cells": [
  {
   "cell_type": "markdown",
   "id": "2b0b8771-d82f-41e8-936c-93dcf7219ec8",
   "metadata": {},
   "source": [
    "# Defining list of numbers\n",
    "Define a list consisting of even numbers from 2 to 98,\n",
    "List each of these numbers on a separate line using the template below:\n",
    "Number: <number>\n",
    "\n",
    "Hint:\n",
    "Try not to define the list manually; uste the range function instead.\n",
    "\n",
    "Result draft:\n",
    "\n",
    "Number: 2\n",
    "Number: 4\n",
    "...\n",
    "Number: 98"
   ]
  },
  {
   "cell_type": "code",
   "execution_count": 3,
   "id": "36f54989-9bfb-44dc-8c05-90070c848b58",
   "metadata": {},
   "outputs": [
    {
     "name": "stdout",
     "output_type": "stream",
     "text": [
      "2\n",
      "4\n",
      "6\n",
      "8\n",
      "10\n",
      "12\n",
      "14\n",
      "16\n",
      "18\n",
      "20\n",
      "22\n",
      "24\n",
      "26\n",
      "28\n",
      "30\n",
      "32\n",
      "34\n",
      "36\n",
      "38\n",
      "40\n",
      "42\n",
      "44\n",
      "46\n",
      "48\n",
      "50\n",
      "52\n",
      "54\n",
      "56\n",
      "58\n",
      "60\n",
      "62\n",
      "64\n",
      "66\n",
      "68\n",
      "70\n",
      "72\n",
      "74\n",
      "76\n",
      "78\n",
      "80\n",
      "82\n",
      "84\n",
      "86\n",
      "88\n",
      "90\n",
      "92\n",
      "94\n",
      "96\n",
      "98\n"
     ]
    }
   ],
   "source": [
    "for i in range (2,100,2):\n",
    "    print (i)"
   ]
  }
 ],
 "metadata": {
  "kernelspec": {
   "display_name": "anaconda-2024.02-py310",
   "language": "python",
   "name": "conda-env-anaconda-2024.02-py310-py"
  },
  "language_info": {
   "codemirror_mode": {
    "name": "ipython",
    "version": 3
   },
   "file_extension": ".py",
   "mimetype": "text/x-python",
   "name": "python",
   "nbconvert_exporter": "python",
   "pygments_lexer": "ipython3",
   "version": "3.10.14"
  }
 },
 "nbformat": 4,
 "nbformat_minor": 5
}
