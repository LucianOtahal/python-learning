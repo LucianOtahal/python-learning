{
 "cells": [
  {
   "cell_type": "markdown",
   "metadata": {},
   "source": [
    "# Loading data\n",
    "\n",
    "In the file create a database connection object. Next call the SQL queries below and use Python to display their results in the Jupyter notebook.\n",
    "1. Display all products from the `Motorcycles` product line.\n",
    "1. Display all products with warehouse stock above `1000` and the cost below `20`pln.\n",
    "1. Display all orders (`orders` table) made in 2003.\n",
    "1. Display all orders (`orders` table) made in 2003 and canceled.\n",
    "\n",
    "The queries are identical as those from Exercise 1 in the previous section.\n",
    "\n"
   ]
  },
  {
   "cell_type": "code",
   "execution_count": 34,
   "metadata": {},
   "outputs": [],
   "source": [
    "import psycopg2\n",
    "\n",
    "connection = psycopg2.connect(\n",
    "    host='localhost',\n",
    "    user='postgres',  # correct this if necessary\n",
    "    password='Coderslab123',  # correct this if necessary\n",
    "    dbname='-*****',  # correct this if necessary\n",
    ")\n",
    "\n",
    "cursor = connection.cursor()"
   ]
  },
  {
   "cell_type": "markdown",
   "metadata": {},
   "source": [
    "Display all products from the `Motorcycles` product line."
   ]
  },
  {
   "cell_type": "code",
   "execution_count": 35,
   "metadata": {},
   "outputs": [
    {
     "name": "stdout",
     "output_type": "stream",
     "text": [
      "\n"
     ]
    }
   ],
   "source": [
    "cursor.execute(\"SELECT productline FROM products where productline = 'Motorcycles'\") #můj pokus\n",
    "\n",
    "print ()"
   ]
  },
  {
   "cell_type": "code",
   "execution_count": 15,
   "metadata": {},
   "outputs": [
    {
     "name": "stdout",
     "output_type": "stream",
     "text": [
      "('S10_1678', '1969 Harley Davidson Ultimate Chopper', 'Motorcycles', '1:10', 'Min Lin Diecast', 'This replica features working kickstand, front suspension, gear-shift lever, footbrake lever, drive chain, wheels and steering. All parts are particularly delicate due to their precise scale and require special care and attention.', 7933, 48.81, 95.7)\n",
      "('S10_2016', '1996 Moto Guzzi 1100i', 'Motorcycles', '1:10', 'Highway 66 Mini Classics', 'Official Moto Guzzi logos and insignias, saddle bags located on side of motorcycle, detailed engine, working steering, working suspension, two leather seats, luggage rack, dual exhaust pipes, small saddle bag located on handle bars, two-tone paint with chrome accents, superior die-cast detail , rotating wheels , working kick stand, diecast metal with plastic parts and baked enamel finish.', 6625, 68.99, 118.94)\n",
      "('S10_4698', '2003 Harley-Davidson Eagle Drag Bike', 'Motorcycles', '1:10', 'Red Start Diecast', 'Model features, official Harley Davidson logos and insignias, detachable rear wheelie bar, heavy diecast metal with resin parts, authentic multi-color tampo-printed graphics, separate engine drive belts, free-turning front fork, rotating tires and rear racing slick, certificate of authenticity, detailed engine, display stand\\n, precision diecast replica, baked enamel finish, 1:10 scale model, removable fender, seat and tank cover piece for displaying the superior detail of the v-twin engine', 5582, 91.02, 193.66)\n",
      "('S12_2823', '2002 Suzuki XREO', 'Motorcycles', '1:12', 'Unimax Art Galleries', 'Official logos and insignias, saddle bags located on side of motorcycle, detailed engine, working steering, working suspension, two leather seats, luggage rack, dual exhaust pipes, small saddle bag located on handle bars, two-tone paint with chrome accents, superior die-cast detail , rotating wheels , working kick stand, diecast metal with plastic parts and baked enamel finish.', 9997, 66.27, 150.62)\n",
      "('S18_2625', '1936 Harley Davidson El Knucklehead', 'Motorcycles', '1:18', 'Welly Diecast Productions', 'Intricately detailed with chrome accents and trim, official die-struck logos and baked enamel finish.', 4357, 24.23, 60.57)\n",
      "('S18_3782', '1957 Vespa GS150', 'Motorcycles', '1:18', 'Studio M Art Models', 'Features rotating wheels , working kick stand. Comes with stand.', 7689, 32.95, 62.17)\n",
      "('S24_1578', '1997 BMW R 1100 S', 'Motorcycles', '1:24', 'Autoart Studio Design', 'Detailed scale replica with working suspension and constructed from over 70 parts', 7003, 60.86, 112.7)\n",
      "('S24_2000', '1960 BSA Gold Star DBD34', 'Motorcycles', '1:24', 'Highway 66 Mini Classics', 'Detailed scale replica with working suspension and constructed from over 70 parts', 15, 37.32, 76.17)\n",
      "('S24_2360', '1982 Ducati 900 Monster', 'Motorcycles', '1:24', 'Highway 66 Mini Classics', 'Features two-tone paint with chrome accents, superior die-cast detail , rotating wheels , working kick stand', 6840, 47.1, 69.26)\n",
      "('S32_1374', '1997 BMW F650 ST', 'Motorcycles', '1:32', 'Exoto Designs', 'Features official die-struck logos and baked enamel finish. Comes with stand.', 178, 66.92, 99.89)\n",
      "('S32_2206', '1982 Ducati 996 R', 'Motorcycles', '1:32', 'Gearbox Collectibles', 'Features rotating wheels , working kick stand. Comes with stand.', 9241, 24.14, 40.23)\n",
      "('S32_4485', '1974 Ducati 350 Mk3 Desmo', 'Motorcycles', '1:32', 'Second Gear Diecast', 'This model features two-tone paint with chrome accents, superior die-cast detail , rotating wheels , working kick stand', 3341, 56.13, 102.05)\n",
      "('S50_4713', '2002 Yamaha YZR M1', 'Motorcycles', '1:50', 'Autoart Studio Design', 'Features rotating wheels , working kick stand. Comes with stand.', 600, 34.17, 81.36)\n"
     ]
    }
   ],
   "source": [
    "sql = \"select * from products WHERE productline = 'Motorcycles'\"\n",
    "cursor.execute(sql)\n",
    "for row in cursor: #to je definiční věta, která začíná cyklus, za ním následuje odsazení\n",
    "    # specifikum cursoru a psychopg2 je, že dostáváme na výstupu seznam, tj. výstup je v kulatých závorkách\n",
    "    print (row) #každý prvek seznamu je obalený v kulaté závorce jako tuple\n",
    "    \n",
    "    "
   ]
  },
  {
   "cell_type": "markdown",
   "metadata": {},
   "source": [
    ". Display all products with warehouse stock above `1000` and the cost below `20`pln."
   ]
  },
  {
   "cell_type": "code",
   "execution_count": 16,
   "metadata": {},
   "outputs": [
    {
     "name": "stdout",
     "output_type": "stream",
     "text": [
      "('S24_2840', '1958 Chevy Corvette Limited Edition', 'Classic Cars', '1:24', 'Carousel DieCast Legends', 'The operating parts of this 1958 Chevy Corvette Limited Edition are particularly delicate due to their precise scale and require special care and attention. Features rotating wheels, working streering, opening doors and trunk. Color dark green.', 2542, 15.91, 35.36)\n",
      "('S24_2972', '1982 Lamborghini Diablo', 'Classic Cars', '1:24', 'Second Gear Diecast', 'This replica features opening doors, superb detail and craftsmanship, working steering system, opening forward compartment, opening rear trunk with removable spare, 4 wheel independent spring suspension as well as factory baked enamel finish.', 7723, 16.24, 37.76)\n"
     ]
    }
   ],
   "source": [
    "cursor.execute(\"SELECT * FROM products where quantityinstock >1000 and buyprice < 20;\")\n",
    "for row in cursor: \n",
    "    print (row) # dostávám dva řádky, což poznám podle obalení kulatou závorkou, dva tuples\n",
    "    "
   ]
  },
  {
   "cell_type": "markdown",
   "metadata": {},
   "source": [
    ". Display all orders (`orders` table) made in 2003."
   ]
  },
  {
   "cell_type": "code",
   "execution_count": 28,
   "metadata": {},
   "outputs": [
    {
     "name": "stdout",
     "output_type": "stream",
     "text": [
      "(10100, datetime.date(2003, 1, 6), datetime.date(2003, 1, 13), datetime.date(2003, 1, 10), 'Shipped', None, 363)\n",
      "(10101, datetime.date(2003, 1, 9), datetime.date(2003, 1, 18), datetime.date(2003, 1, 11), 'Shipped', 'Check on availability.', 128)\n",
      "(10102, datetime.date(2003, 1, 10), datetime.date(2003, 1, 18), datetime.date(2003, 1, 14), 'Shipped', None, 181)\n",
      "(10103, datetime.date(2003, 1, 29), datetime.date(2003, 2, 7), datetime.date(2003, 2, 2), 'Shipped', None, 121)\n",
      "(10104, datetime.date(2003, 1, 31), datetime.date(2003, 2, 9), datetime.date(2003, 2, 1), 'Shipped', None, 141)\n",
      "(10105, datetime.date(2003, 2, 11), datetime.date(2003, 2, 21), datetime.date(2003, 2, 12), 'Shipped', None, 145)\n",
      "(10106, datetime.date(2003, 2, 17), datetime.date(2003, 2, 24), datetime.date(2003, 2, 21), 'Shipped', None, 278)\n",
      "(10107, datetime.date(2003, 2, 24), datetime.date(2003, 3, 3), datetime.date(2003, 2, 26), 'Shipped', 'Difficult to negotiate with customer. We need more marketing materials', 131)\n",
      "(10108, datetime.date(2003, 3, 3), datetime.date(2003, 3, 12), datetime.date(2003, 3, 8), 'Shipped', None, 385)\n",
      "(10109, datetime.date(2003, 3, 10), datetime.date(2003, 3, 19), datetime.date(2003, 3, 11), 'Shipped', 'Customer requested that FedEx Ground is used for this shipping', 486)\n",
      "(10110, datetime.date(2003, 3, 18), datetime.date(2003, 3, 24), datetime.date(2003, 3, 20), 'Shipped', None, 187)\n",
      "(10111, datetime.date(2003, 3, 25), datetime.date(2003, 3, 31), datetime.date(2003, 3, 30), 'Shipped', None, 129)\n",
      "(10112, datetime.date(2003, 3, 24), datetime.date(2003, 4, 3), datetime.date(2003, 3, 29), 'Shipped', 'Customer requested that ad materials (such as posters, pamphlets) be included in the shippment', 144)\n",
      "(10113, datetime.date(2003, 3, 26), datetime.date(2003, 4, 2), datetime.date(2003, 3, 27), 'Shipped', None, 124)\n",
      "(10114, datetime.date(2003, 4, 1), datetime.date(2003, 4, 7), datetime.date(2003, 4, 2), 'Shipped', None, 172)\n",
      "(10115, datetime.date(2003, 4, 4), datetime.date(2003, 4, 12), datetime.date(2003, 4, 7), 'Shipped', None, 424)\n",
      "(10116, datetime.date(2003, 4, 11), datetime.date(2003, 4, 19), datetime.date(2003, 4, 13), 'Shipped', None, 381)\n",
      "(10117, datetime.date(2003, 4, 16), datetime.date(2003, 4, 24), datetime.date(2003, 4, 17), 'Shipped', None, 148)\n",
      "(10118, datetime.date(2003, 4, 21), datetime.date(2003, 4, 29), datetime.date(2003, 4, 26), 'Shipped', 'Customer has worked with some of our vendors in the past and is aware of their MSRP', 216)\n",
      "(10119, datetime.date(2003, 4, 28), datetime.date(2003, 5, 5), datetime.date(2003, 5, 2), 'Shipped', None, 382)\n",
      "(10120, datetime.date(2003, 4, 29), datetime.date(2003, 5, 8), datetime.date(2003, 5, 1), 'Shipped', None, 114)\n",
      "(10121, datetime.date(2003, 5, 7), datetime.date(2003, 5, 13), datetime.date(2003, 5, 13), 'Shipped', None, 353)\n",
      "(10122, datetime.date(2003, 5, 8), datetime.date(2003, 5, 16), datetime.date(2003, 5, 13), 'Shipped', None, 350)\n",
      "(10123, datetime.date(2003, 5, 20), datetime.date(2003, 5, 29), datetime.date(2003, 5, 22), 'Shipped', None, 103)\n",
      "(10124, datetime.date(2003, 5, 21), datetime.date(2003, 5, 29), datetime.date(2003, 5, 25), 'Shipped', 'Customer very concerned about the exact color of the models. There is high risk that he may dispute the order because there is a slight color mismatch', 112)\n",
      "(10125, datetime.date(2003, 5, 21), datetime.date(2003, 5, 27), datetime.date(2003, 5, 24), 'Shipped', None, 114)\n",
      "(10126, datetime.date(2003, 5, 28), datetime.date(2003, 6, 7), datetime.date(2003, 6, 2), 'Shipped', None, 458)\n",
      "(10127, datetime.date(2003, 6, 3), datetime.date(2003, 6, 9), datetime.date(2003, 6, 6), 'Shipped', 'Customer requested special shippment. The instructions were passed along to the warehouse', 151)\n",
      "(10128, datetime.date(2003, 6, 6), datetime.date(2003, 6, 12), datetime.date(2003, 6, 11), 'Shipped', None, 141)\n",
      "(10129, datetime.date(2003, 6, 12), datetime.date(2003, 6, 18), datetime.date(2003, 6, 14), 'Shipped', None, 324)\n",
      "(10130, datetime.date(2003, 6, 16), datetime.date(2003, 6, 24), datetime.date(2003, 6, 21), 'Shipped', None, 198)\n",
      "(10131, datetime.date(2003, 6, 16), datetime.date(2003, 6, 25), datetime.date(2003, 6, 21), 'Shipped', None, 447)\n",
      "(10132, datetime.date(2003, 6, 25), datetime.date(2003, 7, 1), datetime.date(2003, 6, 28), 'Shipped', None, 323)\n",
      "(10133, datetime.date(2003, 6, 27), datetime.date(2003, 7, 4), datetime.date(2003, 7, 3), 'Shipped', None, 141)\n",
      "(10134, datetime.date(2003, 7, 1), datetime.date(2003, 7, 10), datetime.date(2003, 7, 5), 'Shipped', None, 250)\n",
      "(10135, datetime.date(2003, 7, 2), datetime.date(2003, 7, 12), datetime.date(2003, 7, 3), 'Shipped', None, 124)\n",
      "(10136, datetime.date(2003, 7, 4), datetime.date(2003, 7, 14), datetime.date(2003, 7, 6), 'Shipped', 'Customer is interested in buying more Ferrari models', 242)\n",
      "(10137, datetime.date(2003, 7, 10), datetime.date(2003, 7, 20), datetime.date(2003, 7, 14), 'Shipped', None, 353)\n",
      "(10138, datetime.date(2003, 7, 7), datetime.date(2003, 7, 16), datetime.date(2003, 7, 13), 'Shipped', None, 496)\n",
      "(10139, datetime.date(2003, 7, 16), datetime.date(2003, 7, 23), datetime.date(2003, 7, 21), 'Shipped', None, 282)\n",
      "(10140, datetime.date(2003, 7, 24), datetime.date(2003, 8, 2), datetime.date(2003, 7, 30), 'Shipped', None, 161)\n",
      "(10141, datetime.date(2003, 8, 1), datetime.date(2003, 8, 9), datetime.date(2003, 8, 4), 'Shipped', None, 334)\n",
      "(10142, datetime.date(2003, 8, 8), datetime.date(2003, 8, 16), datetime.date(2003, 8, 13), 'Shipped', None, 124)\n",
      "(10143, datetime.date(2003, 8, 10), datetime.date(2003, 8, 18), datetime.date(2003, 8, 12), 'Shipped', 'Can we deliver the new Ford Mustang models by end-of-quarter?', 320)\n",
      "(10144, datetime.date(2003, 8, 13), datetime.date(2003, 8, 21), datetime.date(2003, 8, 14), 'Shipped', None, 381)\n",
      "(10145, datetime.date(2003, 8, 25), datetime.date(2003, 9, 2), datetime.date(2003, 8, 31), 'Shipped', None, 205)\n",
      "(10146, datetime.date(2003, 9, 3), datetime.date(2003, 9, 13), datetime.date(2003, 9, 6), 'Shipped', None, 447)\n",
      "(10147, datetime.date(2003, 9, 5), datetime.date(2003, 9, 12), datetime.date(2003, 9, 9), 'Shipped', None, 379)\n",
      "(10148, datetime.date(2003, 9, 11), datetime.date(2003, 9, 21), datetime.date(2003, 9, 15), 'Shipped', 'They want to reevaluate their terms agreement with Finance.', 276)\n",
      "(10149, datetime.date(2003, 9, 12), datetime.date(2003, 9, 18), datetime.date(2003, 9, 17), 'Shipped', None, 487)\n",
      "(10150, datetime.date(2003, 9, 19), datetime.date(2003, 9, 27), datetime.date(2003, 9, 21), 'Shipped', 'They want to reevaluate their terms agreement with Finance.', 148)\n",
      "(10151, datetime.date(2003, 9, 21), datetime.date(2003, 9, 30), datetime.date(2003, 9, 24), 'Shipped', None, 311)\n",
      "(10152, datetime.date(2003, 9, 25), datetime.date(2003, 10, 3), datetime.date(2003, 10, 1), 'Shipped', None, 333)\n",
      "(10153, datetime.date(2003, 9, 28), datetime.date(2003, 10, 5), datetime.date(2003, 10, 3), 'Shipped', None, 141)\n",
      "(10154, datetime.date(2003, 10, 2), datetime.date(2003, 10, 12), datetime.date(2003, 10, 8), 'Shipped', None, 219)\n",
      "(10155, datetime.date(2003, 10, 6), datetime.date(2003, 10, 13), datetime.date(2003, 10, 7), 'Shipped', None, 186)\n",
      "(10156, datetime.date(2003, 10, 8), datetime.date(2003, 10, 17), datetime.date(2003, 10, 11), 'Shipped', None, 141)\n",
      "(10157, datetime.date(2003, 10, 9), datetime.date(2003, 10, 15), datetime.date(2003, 10, 14), 'Shipped', None, 473)\n",
      "(10158, datetime.date(2003, 10, 10), datetime.date(2003, 10, 18), datetime.date(2003, 10, 15), 'Shipped', None, 121)\n",
      "(10159, datetime.date(2003, 10, 10), datetime.date(2003, 10, 19), datetime.date(2003, 10, 16), 'Shipped', None, 321)\n",
      "(10160, datetime.date(2003, 10, 11), datetime.date(2003, 10, 17), datetime.date(2003, 10, 17), 'Shipped', None, 347)\n",
      "(10161, datetime.date(2003, 10, 17), datetime.date(2003, 10, 25), datetime.date(2003, 10, 20), 'Shipped', None, 227)\n",
      "(10162, datetime.date(2003, 10, 18), datetime.date(2003, 10, 26), datetime.date(2003, 10, 19), 'Shipped', None, 321)\n",
      "(10163, datetime.date(2003, 10, 20), datetime.date(2003, 10, 27), datetime.date(2003, 10, 24), 'Shipped', None, 424)\n",
      "(10164, datetime.date(2003, 10, 21), datetime.date(2003, 10, 30), datetime.date(2003, 10, 23), 'Resolved', \"This order was disputed, but resolved on 11/1/2003; Customer doesn't like the colors and precision of the models.\", 452)\n",
      "(10165, datetime.date(2003, 10, 22), datetime.date(2003, 10, 31), datetime.date(2003, 12, 26), 'Shipped', \"This order was on hold because customers's credit limit had been exceeded. Order will ship when payment is received\", 148)\n",
      "(10166, datetime.date(2003, 10, 21), datetime.date(2003, 10, 30), datetime.date(2003, 10, 27), 'Shipped', None, 462)\n",
      "(10167, datetime.date(2003, 10, 23), datetime.date(2003, 10, 30), None, 'Cancelled', \"Customer called to cancel. The warehouse was notified in time and the order didn't ship. They have a new VP of Sales and are shifting their sales model. Our VP of Sales should contact them.\", 448)\n",
      "(10168, datetime.date(2003, 10, 28), datetime.date(2003, 11, 3), datetime.date(2003, 11, 1), 'Shipped', None, 161)\n",
      "(10169, datetime.date(2003, 11, 4), datetime.date(2003, 11, 14), datetime.date(2003, 11, 9), 'Shipped', None, 276)\n",
      "(10170, datetime.date(2003, 11, 4), datetime.date(2003, 11, 12), datetime.date(2003, 11, 7), 'Shipped', None, 452)\n",
      "(10171, datetime.date(2003, 11, 5), datetime.date(2003, 11, 13), datetime.date(2003, 11, 7), 'Shipped', None, 233)\n",
      "(10172, datetime.date(2003, 11, 5), datetime.date(2003, 11, 14), datetime.date(2003, 11, 11), 'Shipped', None, 175)\n",
      "(10173, datetime.date(2003, 11, 5), datetime.date(2003, 11, 15), datetime.date(2003, 11, 9), 'Shipped', 'Cautious optimism. We have happy customers here, if we can keep them well stocked.  I need all the information I can get on the planned shippments of Porches', 278)\n",
      "(10174, datetime.date(2003, 11, 6), datetime.date(2003, 11, 15), datetime.date(2003, 11, 10), 'Shipped', None, 333)\n",
      "(10175, datetime.date(2003, 11, 6), datetime.date(2003, 11, 14), datetime.date(2003, 11, 9), 'Shipped', None, 324)\n",
      "(10176, datetime.date(2003, 11, 6), datetime.date(2003, 11, 15), datetime.date(2003, 11, 12), 'Shipped', None, 386)\n",
      "(10177, datetime.date(2003, 11, 7), datetime.date(2003, 11, 17), datetime.date(2003, 11, 12), 'Shipped', None, 344)\n",
      "(10178, datetime.date(2003, 11, 8), datetime.date(2003, 11, 16), datetime.date(2003, 11, 10), 'Shipped', 'Custom shipping instructions sent to warehouse', 242)\n",
      "(10179, datetime.date(2003, 11, 11), datetime.date(2003, 11, 17), datetime.date(2003, 11, 13), 'Cancelled', 'Customer cancelled due to urgent budgeting issues. Must be cautious when dealing with them in the future. Since order shipped already we must discuss who would cover the shipping charges.', 496)\n",
      "(10180, datetime.date(2003, 11, 11), datetime.date(2003, 11, 19), datetime.date(2003, 11, 14), 'Shipped', None, 171)\n",
      "(10181, datetime.date(2003, 11, 12), datetime.date(2003, 11, 19), datetime.date(2003, 11, 15), 'Shipped', None, 167)\n",
      "(10182, datetime.date(2003, 11, 12), datetime.date(2003, 11, 21), datetime.date(2003, 11, 18), 'Shipped', None, 124)\n",
      "(10183, datetime.date(2003, 11, 13), datetime.date(2003, 11, 22), datetime.date(2003, 11, 15), 'Shipped', 'We need to keep in close contact with their Marketing VP. He is the decision maker for all their purchases.', 339)\n",
      "(10184, datetime.date(2003, 11, 14), datetime.date(2003, 11, 22), datetime.date(2003, 11, 20), 'Shipped', None, 484)\n",
      "(10185, datetime.date(2003, 11, 14), datetime.date(2003, 11, 21), datetime.date(2003, 11, 20), 'Shipped', None, 320)\n",
      "(10186, datetime.date(2003, 11, 14), datetime.date(2003, 11, 20), datetime.date(2003, 11, 18), 'Shipped', 'They want to reevaluate their terms agreement with the VP of Sales', 489)\n",
      "(10187, datetime.date(2003, 11, 15), datetime.date(2003, 11, 24), datetime.date(2003, 11, 16), 'Shipped', None, 211)\n",
      "(10188, datetime.date(2003, 11, 18), datetime.date(2003, 11, 26), datetime.date(2003, 11, 24), 'Shipped', None, 167)\n",
      "(10189, datetime.date(2003, 11, 18), datetime.date(2003, 11, 25), datetime.date(2003, 11, 24), 'Shipped', 'They want to reevaluate their terms agreement with Finance.', 205)\n",
      "(10190, datetime.date(2003, 11, 19), datetime.date(2003, 11, 29), datetime.date(2003, 11, 20), 'Shipped', None, 141)\n",
      "(10191, datetime.date(2003, 11, 20), datetime.date(2003, 11, 30), datetime.date(2003, 11, 24), 'Shipped', 'We must be cautions with this customer. Their VP of Sales resigned. Company may be heading down.', 259)\n",
      "(10192, datetime.date(2003, 11, 20), datetime.date(2003, 11, 29), datetime.date(2003, 11, 25), 'Shipped', None, 363)\n",
      "(10193, datetime.date(2003, 11, 21), datetime.date(2003, 11, 28), datetime.date(2003, 11, 27), 'Shipped', None, 471)\n",
      "(10194, datetime.date(2003, 11, 25), datetime.date(2003, 12, 2), datetime.date(2003, 11, 26), 'Shipped', None, 146)\n",
      "(10195, datetime.date(2003, 11, 25), datetime.date(2003, 12, 1), datetime.date(2003, 11, 28), 'Shipped', None, 319)\n",
      "(10196, datetime.date(2003, 11, 26), datetime.date(2003, 12, 3), datetime.date(2003, 12, 1), 'Shipped', None, 455)\n",
      "(10197, datetime.date(2003, 11, 26), datetime.date(2003, 12, 2), datetime.date(2003, 12, 1), 'Shipped', 'Customer inquired about remote controlled models and gold models.', 216)\n",
      "(10198, datetime.date(2003, 11, 27), datetime.date(2003, 12, 6), datetime.date(2003, 12, 3), 'Shipped', None, 385)\n",
      "(10199, datetime.date(2003, 12, 1), datetime.date(2003, 12, 10), datetime.date(2003, 12, 6), 'Shipped', None, 475)\n",
      "(10200, datetime.date(2003, 12, 1), datetime.date(2003, 12, 9), datetime.date(2003, 12, 6), 'Shipped', None, 211)\n",
      "(10201, datetime.date(2003, 12, 1), datetime.date(2003, 12, 11), datetime.date(2003, 12, 2), 'Shipped', None, 129)\n",
      "(10202, datetime.date(2003, 12, 2), datetime.date(2003, 12, 9), datetime.date(2003, 12, 6), 'Shipped', None, 357)\n",
      "(10203, datetime.date(2003, 12, 2), datetime.date(2003, 12, 11), datetime.date(2003, 12, 7), 'Shipped', None, 141)\n",
      "(10204, datetime.date(2003, 12, 2), datetime.date(2003, 12, 10), datetime.date(2003, 12, 4), 'Shipped', None, 151)\n",
      "(10205, datetime.date(2003, 12, 3), datetime.date(2003, 12, 9), datetime.date(2003, 12, 7), 'Shipped', ' I need all the information I can get on our competitors.', 141)\n",
      "(10206, datetime.date(2003, 12, 5), datetime.date(2003, 12, 13), datetime.date(2003, 12, 8), 'Shipped', 'Can we renegotiate this one?', 202)\n",
      "(10207, datetime.date(2003, 12, 9), datetime.date(2003, 12, 17), datetime.date(2003, 12, 11), 'Shipped', 'Check on availability.', 495)\n",
      "(10300, datetime.date(2003, 10, 4), datetime.date(2003, 10, 13), datetime.date(2003, 10, 9), 'Shipped', None, 128)\n",
      "(10301, datetime.date(2003, 10, 5), datetime.date(2003, 10, 15), datetime.date(2003, 10, 8), 'Shipped', None, 299)\n",
      "(10302, datetime.date(2003, 10, 6), datetime.date(2003, 10, 16), datetime.date(2003, 10, 7), 'Shipped', None, 201)\n"
     ]
    }
   ],
   "source": [
    "cursor.execute (\"SELECT * FROM orders where orderdate >= date '2003-01-01' and orderdate < date '2004-01-01'\")\n",
    "for x in cursor: \n",
    "    print (x)"
   ]
  },
  {
   "cell_type": "code",
   "execution_count": 29,
   "metadata": {},
   "outputs": [
    {
     "name": "stdout",
     "output_type": "stream",
     "text": [
      "('S24_2840', '1958 Chevy Corvette Limited Edition', 'Classic Cars', '1:24', 'Carousel DieCast Legends', 'The operating parts of this 1958 Chevy Corvette Limited Edition are particularly delicate due to their precise scale and require special care and attention. Features rotating wheels, working streering, opening doors and trunk. Color dark green.', 2542, 15.91, 35.36)\n",
      "('S24_2972', '1982 Lamborghini Diablo', 'Classic Cars', '1:24', 'Second Gear Diecast', 'This replica features opening doors, superb detail and craftsmanship, working steering system, opening forward compartment, opening rear trunk with removable spare, 4 wheel independent spring suspension as well as factory baked enamel finish.', 7723, 16.24, 37.76)\n"
     ]
    }
   ],
   "source": [
    "cursor.execute(\"select * from products where quantityinstock > 1000 and buyprice <20;\")\n",
    "\n",
    "for row in cursor:\n",
    "    print(row)"
   ]
  },
  {
   "cell_type": "markdown",
   "metadata": {},
   "source": [
    " Display all orders (`orders` table) made in 2003 and canceled."
   ]
  },
  {
   "cell_type": "code",
   "execution_count": 38,
   "metadata": {},
   "outputs": [
    {
     "name": "stdout",
     "output_type": "stream",
     "text": [
      "(10167, datetime.date(2003, 10, 23), datetime.date(2003, 10, 30), None, 'Cancelled', \"Customer called to cancel. The warehouse was notified in time and the order didn't ship. They have a new VP of Sales and are shifting their sales model. Our VP of Sales should contact them.\", 448)\n",
      "(10179, datetime.date(2003, 11, 11), datetime.date(2003, 11, 17), datetime.date(2003, 11, 13), 'Cancelled', 'Customer cancelled due to urgent budgeting issues. Must be cautious when dealing with them in the future. Since order shipped already we must discuss who would cover the shipping charges.', 496)\n"
     ]
    }
   ],
   "source": [
    "cursor.execute(\"select * from orders where orderdate >= date '2003-01-01' and orderdate < date '2004-01-01' and status = 'Cancelled'\")\n",
    "\n",
    "for x in cursor:\n",
    "    print(x)"
   ]
  },
  {
   "cell_type": "markdown",
   "metadata": {},
   "source": [
    "CALCULTATING AVERAGE"
   ]
  },
  {
   "cell_type": "code",
   "execution_count": 51,
   "metadata": {},
   "outputs": [
    {
     "name": "stdout",
     "output_type": "stream",
     "text": [
      "Average buyprice 54.40\n"
     ]
    }
   ],
   "source": [
    "sql = \"select buyprice from products\" # můj pokus\n",
    "cursor.execute (sql)\n",
    "total = 0 #vytvořím si proměnnou\n",
    "count = cursor.rowcount #vrátí počet řádků na výstupu\n",
    "for row in cursor: \n",
    "    total += row[0]\n",
    "\n",
    "average_price=total/count if count>0 else 0\n",
    "print (f\"Average buyprice {average_price:.2f}\")\n",
    "    \n"
   ]
  },
  {
   "cell_type": "code",
   "execution_count": 43,
   "metadata": {},
   "outputs": [
    {
     "name": "stdout",
     "output_type": "stream",
     "text": [
      "Average buyprice: 54.40\n"
     ]
    }
   ],
   "source": [
    "from psycopg2 import connect #Monika\n",
    "\n",
    "connection = psycopg2.connect(\n",
    "    host='localhost', \n",
    "    user='postgres', \n",
    "    port='5432', \n",
    "    password='Coderslab123', \n",
    "    dbname='*******',\n",
    ")\n",
    "\n",
    "cursor = connection.cursor()\n",
    "\n",
    "sql = \"select buyprice from products;\"\n",
    "cursor.execute(sql)\n",
    "\n",
    "total = 0\n",
    "count = cursor.rowcount # počet vrácených řádků\n",
    "\n",
    "for row in cursor:\n",
    "    total += row[0] \n",
    "\n",
    "average_price =  total / count if count > 0 else 0\n",
    "\n",
    "print(f\"Average buyprice: {average_price:.2f}\")\n"
   ]
  }
 ],
 "metadata": {
  "kernelspec": {
   "display_name": "Python [conda env:base] *",
   "language": "python",
   "name": "conda-base-py"
  },
  "language_info": {
   "codemirror_mode": {
    "name": "ipython",
    "version": 3
   },
   "file_extension": ".py",
   "mimetype": "text/x-python",
   "name": "python",
   "nbconvert_exporter": "python",
   "pygments_lexer": "ipython3",
   "version": "3.13.5"
  }
 },
 "nbformat": 4,
 "nbformat_minor": 4
}
