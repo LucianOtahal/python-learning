{
 "cells": [
  {
   "cell_type": "markdown",
   "id": "9632fc53-83d8-4ce2-9650-db8067ec35af",
   "metadata": {},
   "source": [
    "# Multiplication table\n",
    "Write a program, that:\n",
    "\n",
    "Takes an n number in the range from 1 to 10 from the user.\n",
    "Generates a multiplication table for the given number.\n",
    "Example:\n",
    "\n",
    "Give a number: `3`\n",
    "\n",
    "Result:\n",
    "\n",
    "1 * 3 = 3\n",
    "2 * 3 = 6\n",
    "3 * 3 = 9\n",
    "4 * 3 = 12\n",
    "5 * 3 = 15\n",
    "6 * 3 = 18\n",
    "7 * 3 = 21\n",
    "8 * 3 = 24\n",
    "9 * 3 = 27\n",
    "10 * 3 = 30\n",
    "\n",
    "Hint:\n",
    "Remember to convert n."
   ]
  },
  {
   "cell_type": "code",
   "execution_count": 8,
   "id": "8c8a3a5d-b60c-4e98-b1a2-88bb885e0ae0",
   "metadata": {},
   "outputs": [
    {
     "name": "stdout",
     "output_type": "stream",
     "text": [
      "1 * 3 = 3\n",
      "2 * 3 = 6\n",
      "3 * 3 = 9\n",
      "4 * 3 = 12\n",
      "5 * 3 = 15\n",
      "6 * 3 = 18\n",
      "7 * 3 = 21\n",
      "8 * 3 = 24\n",
      "9 * 3 = 27\n",
      "10 * 3 = 30\n"
     ]
    }
   ],
   "source": [
    "result = []\n",
    "for i in range (1,11): \n",
    "    result.append (i*3) #- result.append(...) znamená: přidej výsledek do seznamu result\n",
    "    #Takže celý řádek říká:\n",
    "# ➡️ „Vypočítej i * 3 a ulož ho jako další položku do seznamu result..\n",
    "    print (f\"{i} * 3 = {i * 3}\") \n",
    " \n",
    "  \n"
   ]
  },
  {
   "cell_type": "markdown",
   "id": "8b180182-fa68-4878-a482-9d21ec3f1fcb",
   "metadata": {},
   "source": [
    ".\r\n"
   ]
  }
 ],
 "metadata": {
  "kernelspec": {
   "display_name": "anaconda-2024.02-py310",
   "language": "python",
   "name": "conda-env-anaconda-2024.02-py310-py"
  },
  "language_info": {
   "codemirror_mode": {
    "name": "ipython",
    "version": 3
   },
   "file_extension": ".py",
   "mimetype": "text/x-python",
   "name": "python",
   "nbconvert_exporter": "python",
   "pygments_lexer": "ipython3",
   "version": "3.10.14"
  }
 },
 "nbformat": 4,
 "nbformat_minor": 5
}
