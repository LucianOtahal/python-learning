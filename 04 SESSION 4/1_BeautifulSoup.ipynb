{
 "cells": [
  {
   "cell_type": "markdown",
   "id": "expected-bottom",
   "metadata": {},
   "source": [
    "# Exercise 1 - BeautifulSoup\n",
    "\n",
    "The aim of this exercise is to test if all the necessary libraries and drivers are installed correctly. Before classes make sure that everything works correctly and in case of any problems and ask your mentor for help.\n",
    "\n",
    "If everything works as it should eventually you will see the rates for five currencies read from the Bankier.pl website."
   ]
  },
  {
   "cell_type": "code",
   "execution_count": null,
   "id": "regulated-truth",
   "metadata": {},
   "outputs": [],
   "source": [
    "# Install the `requests` and 'beautifulsoup4' libraries here\n",
    "\n"
   ]
  },
  {
   "cell_type": "code",
   "execution_count": 3,
   "id": "enclosed-controversy",
   "metadata": {},
   "outputs": [
    {
     "name": "stdout",
     "output_type": "stream",
     "text": [
      "ERROR!!! We expected to get five exchange rates - something went wrong!\n"
     ]
    }
   ],
   "source": [
    "import requests\n",
    "from bs4 import BeautifulSoup\n",
    "\n",
    "website = requests.get('https://www.bankier.pl/waluty')\n",
    "content = BeautifulSoup(website.text, 'html.parser')\n",
    "\n",
    "div_rates = content.find('div', id = 'boxKursyNbpTab1')\n",
    "counter = 0\n",
    "\n",
    "if div_rates:\n",
    "    rows = div_rates.find_all('tr')\n",
    "    for row in rows:\n",
    "        span_name = row.find('span', class_ = 'name')\n",
    "        span_value = row.find('span', class_ = 'value')\n",
    "        \n",
    "        if span_name and span_value:\n",
    "            currency = span_name.text\n",
    "            exchange = span_value.text\n",
    "            print(f'{currency} is now worth {exchange} PLN')\n",
    "            counter += 1\n",
    "\n",
    "if counter == 5:\n",
    "    print('Five currency rates checked - everything works!')\n",
    "else:\n",
    "    print('ERROR!!! We expected to get five exchange rates - something went wrong!')"
   ]
  },
  {
   "cell_type": "code",
   "execution_count": 4,
   "id": "1442f49e-7c80-46ac-be78-171c1be206ff",
   "metadata": {},
   "outputs": [
    {
     "name": "stdout",
     "output_type": "stream",
     "text": [
      "                Kraj   Kurs   Zm. % Symbol             Waluta\n",
      "0        Strefa Euro  42347  -0,21%  1 EUR   euro Strefa Euro\n",
      "1  Stany Zjednoczone  36519  -0,20%  1 USD  dolar amerykański\n",
      "2    Wielka Brytania  48745   0,00%  1 GBP     funt brytyjski\n",
      "3         Szwajcaria  45790  -0,38%  1 CHF  frank szwajcarski\n",
      "4             Czechy   1740  -0,34%  1 CZK      korona czeska\n"
     ]
    }
   ],
   "source": [
    "import pandas as pd\n",
    "\n",
    "url = \"https://www.bankier.pl/waluty/kursy-walut/nbp\"\n",
    "tables = pd.read_html(url)\n",
    "\n",
    "# Zobraz první tabulku\n",
    "df = tables[0]\n",
    "print(df.head())"
   ]
  }
 ],
 "metadata": {
  "kernelspec": {
   "display_name": "Python [conda env:base] *",
   "language": "python",
   "name": "conda-base-py"
  },
  "language_info": {
   "codemirror_mode": {
    "name": "ipython",
    "version": 3
   },
   "file_extension": ".py",
   "mimetype": "text/x-python",
   "name": "python",
   "nbconvert_exporter": "python",
   "pygments_lexer": "ipython3",
   "version": "3.13.5"
  }
 },
 "nbformat": 4,
 "nbformat_minor": 5
}
