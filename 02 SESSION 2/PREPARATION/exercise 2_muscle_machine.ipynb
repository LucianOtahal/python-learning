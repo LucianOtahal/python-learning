{
 "cells": [
  {
   "cell_type": "markdown",
   "metadata": {},
   "source": [
    "# Exercise 2\n",
    "\n",
    "Fill out the PostgreSQL connection data in the code. Run a few queries and find out some information about the client **Muscle Machine Inc**.\n",
    "\n",
    "To do it, first you need to know the `customerNumber` of the **Muscle Machine Inc** customer - this part of code is ready.\n",
    "\n",
    "Then check (each point is a separate query and display of the results):\n",
    "- name and surname of the customer's contact person (edit the query that reads `customerNumber`)\n",
    "- what is the name of the salesperson taking care of this customer (again, edit the query to learn the employee ID - and with another query read the information about this employee)\n",
    "- ids, statuses and their orders comments\n",
    "- the check numbers and the amounts this customer paid.\n",
    "\n",
    "Remember that queries are simple strings - you can embed variables into them in several different ways, including the f-string syntax:\n",
    "```python\n",
    "cursor.execute(f\"SELECT orderNumber, status FROM orders WHERE customerNumber = {customerNumber}\")\n",
    "```\n",
    "\n",
    "This is enough for now - during classes you're going to learn how to pass the data to the request **in a secure way**.\n",
    "\n",
    "import psycopg2\n",
    "\n",
    "connection = psycopg2.connect( #- connection je objekt, který představuje spojení s databází.\n",
    "\n",
    "    host='localhost',\n",
    "    user='postgres',  # correct this if necessary\n",
    "    password='Coderslab123',  # correct this if necessary\n",
    "    dbname='Coderslab2',  # correct this if necessary\n",
    ")\n",
    "\n",
    "cursor = connection.cursor() \n",
    "#- cursor() je metoda, která ti vytvoří kurzor – nástroj, přes který můžeš:\n",
    "#- posílat SQL dotazy (SELECT, INSERT, UPDATE, atd.)\n",
    "#- získávat výsledky z databáze\n",
    "#- iterovat přes řádky výsledků"
   ]
  },
  {
   "cell_type": "code",
   "execution_count": 70,
   "metadata": {},
   "outputs": [],
   "source": [
    "import psycopg2\n",
    "\n",
    "connection = psycopg2.connect( #- connection je objekt, který představuje spojení s databází.\n",
    "\n",
    "    host='localhost',\n",
    "    user='postgres',  # correct this if necessary\n",
    "    password='Coderslab123',  # correct this if necessary\n",
    "    dbname='Coderslab2',  # correct this if necessary\n",
    ")\n",
    "\n",
    "cursor = connection.cursor() \n",
    "#- cursor() je metoda, která ti vytvoří kurzor – nástroj, přes který můžeš:\n",
    "#- posílat SQL dotazy (SELECT, INSERT, UPDATE, atd.)\n",
    "#- získávat výsledky z databáze\n",
    "#- iterovat přes řádky výsledků"
   ]
  },
  {
   "cell_type": "code",
   "execution_count": 71,
   "metadata": {},
   "outputs": [
    {
     "name": "stdout",
     "output_type": "stream",
     "text": [
      "(151,)\n",
      "<class 'tuple'>\n"
     ]
    }
   ],
   "source": [
    "\n",
    "cursor.execute(\"SELECT customerNumber FROM customers WHERE customerName = 'Muscle Machine Inc'\")\n",
    "row = cursor.fetchone() #„Z kurzoru vezmi první řádek výsledku SQL dotazu.“\n",
    "print(row)\n",
    "print(type(row))  # each row is a tuple even if it only contains a single value!"
   ]
  },
  {
   "cell_type": "code",
   "execution_count": 72,
   "metadata": {},
   "outputs": [
    {
     "name": "stdout",
     "output_type": "stream",
     "text": [
      "151\n",
      "<class 'int'>\n"
     ]
    }
   ],
   "source": [
    "customerNumber = row[0]\n",
    "print(customerNumber)\n",
    "print(type(customerNumber))"
   ]
  },
  {
   "cell_type": "code",
   "execution_count": 73,
   "metadata": {},
   "outputs": [
    {
     "name": "stdout",
     "output_type": "stream",
     "text": [
      "\"Muscle Machine Inc\" customer has customerNumber = 151\n"
     ]
    }
   ],
   "source": [
    "print('\"Muscle Machine Inc\" customer has customerNumber =', customerNumber)"
   ]
  },
  {
   "cell_type": "code",
   "execution_count": 74,
   "metadata": {},
   "outputs": [
    {
     "name": "stdout",
     "output_type": "stream",
     "text": [
      "Jeff Young\n"
     ]
    }
   ],
   "source": [
    "#name and surname of the customer's contact person (edit the query that reads customerNumber)\n",
    "cursor.execute(\"SELECT contactFirstName, contactLastName FROM customers WHERE customerName = 'Muscle Machine Inc'\")\n",
    "row = cursor.fetchone() # cursor.execute(...) provede dotaz, ale výsledek musíš nejdřív načíst pomocí fetchone() nebo fetchall().\n",
    "\n",
    "# PROČ TADY VŮBEC MUSÍ BÝT IF....ELSE??? JÁ PROSTĚ CHCI TU KONTAKTNÍ OSOBU.....?????\n",
    "if row:\n",
    "    contactFirstName, contactLastName = row  # rozbalení hodnot #tak to nechápu\n",
    "    print(contactFirstName, contactLastName)\n",
    "else:\n",
    "    print(\"Zákazník nebyl nalezen.\")\n"
   ]
  },
  {
   "cell_type": "markdown",
   "metadata": {},
   "source": [
    "what is the name of the salesperson taking care of this customer \n",
    "(again, edit the query to learn the employee ID - and with another query read the information about this employee)"
   ]
  },
  {
   "cell_type": "code",
   "execution_count": 75,
   "metadata": {
    "scrolled": true
   },
   "outputs": [
    {
     "name": "stdout",
     "output_type": "stream",
     "text": [
      "(1286,)\n"
     ]
    }
   ],
   "source": [
    "cursor.execute(\"SELECT SalesRepEmployeeNumber FROM customers WHERE CustomerNumber  = 151\")\n",
    "\n",
    "row = cursor.fetchone() # cursor.execute(...) provede dotaz, ale výsledek musíš nejdřív načíst pomocí fetchone() nebo fetchall().\n",
    "\n",
    "if row:\n",
    "    SalesRepEmployeeNumber = row  # rozbalení hodnot\n",
    "    print(SalesRepEmployeeNumber)\n",
    "else:\n",
    "    print(\"nebyl nalezen.\")"
   ]
  },
  {
   "cell_type": "code",
   "execution_count": 76,
   "metadata": {},
   "outputs": [
    {
     "name": "stdout",
     "output_type": "stream",
     "text": [
      "Foon Yue Tseng\n"
     ]
    }
   ],
   "source": [
    "cursor.execute(\"SELECT firstName, lastName FROM Employees WHERE employeeNumber = 1286\")\n",
    "row = cursor.fetchone()\n",
    "\n",
    "if row:\n",
    "    firstName, lastName  = row\n",
    "    print(firstName, lastName )\n",
    "else:\n",
    "    print(\" nebyl nalezen.\")"
   ]
  },
  {
   "cell_type": "code",
   "execution_count": 77,
   "metadata": {},
   "outputs": [
    {
     "name": "stdout",
     "output_type": "stream",
     "text": [
      "[(1002,), (1056,), (1076,), (1088,), (1102,), (1143,), (1165,), (1166,), (1188,), (1216,), (1286,), (1323,), (1337,), (1370,), (1401,), (1501,), (1504,), (1611,), (1612,), (1619,), (1621,), (1625,), (1702,)]\n"
     ]
    }
   ],
   "source": [
    "cursor.execute(\"SELECT employeeNumber FROM employees\")\n",
    "print(cursor.fetchall()) #Tím zjistíš, jaká čísla tam opravdu jsou."
   ]
  },
  {
   "cell_type": "markdown",
   "metadata": {},
   "source": [
    "- ids, statuses and their orders comments"
   ]
  },
  {
   "cell_type": "code",
   "execution_count": 78,
   "metadata": {},
   "outputs": [
    {
     "name": "stdout",
     "output_type": "stream",
     "text": [
      "10127 Shipped Customer requested special shippment. The instructions were passed along to the warehouse\n"
     ]
    }
   ],
   "source": [
    "cursor.execute(\"SELECT orderNumber, status, comments FROM orders WHERE customerNumber = 151\")\n",
    "row = cursor.fetchone()\n",
    "\n",
    "if row:\n",
    "    orderNumber, status, comments  = row\n",
    "    print(orderNumber, status, comments )\n",
    "else:\n",
    "    print(\" nebyl nalezen.\")"
   ]
  },
  {
   "cell_type": "markdown",
   "metadata": {},
   "source": [
    " the check numbers and the amounts this customer paid."
   ]
  },
  {
   "cell_type": "code",
   "execution_count": 79,
   "metadata": {},
   "outputs": [
    {
     "name": "stdout",
     "output_type": "stream",
     "text": [
      "BF686658 58793.53\n"
     ]
    }
   ],
   "source": [
    "cursor.execute(\"SELECT checkNumber, amount FROM payments WHERE customerNumber = 151\")\n",
    "row = cursor.fetchone()\n",
    "\n",
    "if row:\n",
    "    checkNumber, amount  = row\n",
    "    print(checkNumber, amount )\n",
    "else:\n",
    "    print(\" nebyl nalezen.\")"
   ]
  }
 ],
 "metadata": {
  "kernelspec": {
   "display_name": "Python [conda env:base] *",
   "language": "python",
   "name": "conda-base-py"
  },
  "language_info": {
   "codemirror_mode": {
    "name": "ipython",
    "version": 3
   },
   "file_extension": ".py",
   "mimetype": "text/x-python",
   "name": "python",
   "nbconvert_exporter": "python",
   "pygments_lexer": "ipython3",
   "version": "3.13.5"
  }
 },
 "nbformat": 4,
 "nbformat_minor": 4
}
