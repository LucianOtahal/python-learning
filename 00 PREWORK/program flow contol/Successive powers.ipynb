{
 "cells": [
  {
   "cell_type": "markdown",
   "id": "55ade368-f84e-473a-b236-4350e34e7f04",
   "metadata": {},
   "source": [
    "# Successive powers\r\n",
    "Using a for loop, write a program that shows successive powers of the number 2 for an exponent between 0 and 10 inclusive, as:"
   ]
  },
  {
   "cell_type": "markdown",
   "id": "570ce017-4d59-4af7-ab1a-44c47d72120e",
   "metadata": {},
   "source": [
    "2^<exponent> = <result>\n"
   ]
  },
  {
   "cell_type": "code",
   "execution_count": 2,
   "id": "396018c4-0734-4a3a-9556-68f30add4c6d",
   "metadata": {},
   "outputs": [
    {
     "name": "stdout",
     "output_type": "stream",
     "text": [
      "2^0 = 1\n",
      "2^1 = 2\n",
      "2^2 = 4\n",
      "2^3 = 8\n",
      "2^4 = 16\n",
      "2^5 = 32\n",
      "2^6 = 64\n",
      "2^7 = 128\n",
      "2^8 = 256\n",
      "2^9 = 512\n",
      "2^10 = 1024\n"
     ]
    }
   ],
   "source": [
    "for exponent in range(11):  # 0 až 10 včetně\n",
    "    result = 2 ** exponent # namená „2 na exponent“ (např. 2⁴ = 16).\n",
    "    print(f\"2^{exponent} = {result}\") # - f\"...\" je tzv. f-string, který umožňuje elegantně vkládat proměnné do textu.\n"
   ]
  },
  {
   "cell_type": "markdown",
   "id": "501bc201-0524-4bea-b646-7e42a6b1de7c",
   "metadata": {},
   "source": [
    " ✅ Správný způsob, jak udělat mocninu v Pythonu:\n",
    "Používá se dvojitá hvězdička **:\n"
   ]
  },
  {
   "cell_type": "markdown",
   "id": "310de677-e091-4fa7-b01c-65d1be4fb2f3",
   "metadata": {},
   "source": [
    "Note: In Python ^ does not signify exponentiation"
   ]
  },
  {
   "cell_type": "code",
   "execution_count": null,
   "id": "3b078191-f0c5-4a47-960e-6b34e999af9f",
   "metadata": {},
   "outputs": [],
   "source": []
  },
  {
   "cell_type": "code",
   "execution_count": null,
   "id": "d0e2b48d-0832-4302-be87-e977dd484e93",
   "metadata": {},
   "outputs": [],
   "source": []
  }
 ],
 "metadata": {
  "kernelspec": {
   "display_name": "anaconda-2024.02-py310",
   "language": "python",
   "name": "conda-env-anaconda-2024.02-py310-py"
  },
  "language_info": {
   "codemirror_mode": {
    "name": "ipython",
    "version": 3
   },
   "file_extension": ".py",
   "mimetype": "text/x-python",
   "name": "python",
   "nbconvert_exporter": "python",
   "pygments_lexer": "ipython3",
   "version": "3.10.14"
  }
 },
 "nbformat": 4,
 "nbformat_minor": 5
}
