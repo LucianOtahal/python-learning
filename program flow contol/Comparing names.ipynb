{
 "cells": [
  {
   "cell_type": "markdown",
   "id": "ac203cc5-9c39-4046-9c76-a06d4257ca70",
   "metadata": {},
   "source": [
    "# Comparing names\r\n",
    "Using the if conditional, write a program, that will:\r\n",
    "\r\n",
    "get the first name from the user and into the first_name variable,\r\n",
    "get the second name from the user and into the second_name variable,\r\n",
    "display The same on the screen, if the names are the \n",
    "same or Different, if they are not."
   ]
  },
  {
   "cell_type": "code",
   "execution_count": 16,
   "id": "acd60fbf-c200-464b-9752-be7d363b8cfd",
   "metadata": {},
   "outputs": [
    {
     "name": "stdin",
     "output_type": "stream",
     "text": [
      "What's your name?:  lucian\n",
      "What's your surname?:  otahal\n"
     ]
    },
    {
     "name": "stdout",
     "output_type": "stream",
     "text": [
      "Different.\n"
     ]
    }
   ],
   "source": [
    "first_name = input(\"What's your name?: \")\n",
    "surname = input(\"What's your surname?: \")\n",
    "if  first_name == surname:\n",
    "    print(\"The same!\")\n",
    "else:\n",
    "        print (\"Different.\")\n"
   ]
  }
 ],
 "metadata": {
  "kernelspec": {
   "display_name": "anaconda-2024.02-py310",
   "language": "python",
   "name": "conda-env-anaconda-2024.02-py310-py"
  },
  "language_info": {
   "codemirror_mode": {
    "name": "ipython",
    "version": 3
   },
   "file_extension": ".py",
   "mimetype": "text/x-python",
   "name": "python",
   "nbconvert_exporter": "python",
   "pygments_lexer": "ipython3",
   "version": "3.10.14"
  }
 },
 "nbformat": 4,
 "nbformat_minor": 5
}
