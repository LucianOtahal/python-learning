{
 "cells": [
  {
   "cell_type": "markdown",
   "id": "44ba95ec-c5d4-46aa-809c-3468bbcd0514",
   "metadata": {},
   "source": [
    "# Average\n",
    "Write a program, that:\n",
    "\n",
    "writes any numbers to a list stored in the numbers variable,\n",
    "counts their sum and average,\n",
    "writes these numbers out on the screen,\n",
    "compares the average and the sum with each other and displays the result of the comparison."
   ]
  },
  {
   "cell_type": "code",
   "execution_count": 2,
   "id": "5f468869-4847-445e-a274-c78c9a459b5e",
   "metadata": {},
   "outputs": [
    {
     "name": "stdin",
     "output_type": "stream",
     "text": [
      "Zadej číslo:  5\n",
      "Zadej číslo:  5\n",
      "Zadej číslo:  5\n",
      "Zadej číslo:  5\n",
      "Zadej číslo:  5\n"
     ]
    },
    {
     "name": "stdout",
     "output_type": "stream",
     "text": [
      "sum:  25\n",
      "average:  5.0\n"
     ]
    }
   ],
   "source": [
    "result =  []\n",
    "for i in range (5):\n",
    "    num = int(input(\"Zadej číslo: \"))\n",
    "    result.append(num)\n",
    "total  = sum(result) ## spočítá součet všech čísel\n",
    "average = total / len(result)  # počítá průměr\n",
    "print(\"sum: \", total)\n",
    "print(\"average: \", average)\n"
   ]
  },
  {
   "cell_type": "code",
   "execution_count": null,
   "id": "b6a01ece-08eb-4a06-9f23-5d33396fa006",
   "metadata": {},
   "outputs": [],
   "source": []
  }
 ],
 "metadata": {
  "kernelspec": {
   "display_name": "anaconda-2024.02-py310",
   "language": "python",
   "name": "conda-env-anaconda-2024.02-py310-py"
  },
  "language_info": {
   "codemirror_mode": {
    "name": "ipython",
    "version": 3
   },
   "file_extension": ".py",
   "mimetype": "text/x-python",
   "name": "python",
   "nbconvert_exporter": "python",
   "pygments_lexer": "ipython3",
   "version": "3.10.14"
  }
 },
 "nbformat": 4,
 "nbformat_minor": 5
}
