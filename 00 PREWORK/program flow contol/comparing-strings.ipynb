{
 "cells": [
  {
   "cell_type": "markdown",
   "id": "be327307-8f9d-414d-b304-6a77966952a2",
   "metadata": {},
   "source": [
    "# Comparing strings\n",
    "Assign the strings: cat and dog to variables.\n",
    "Display the result of comparing them with the < operator on the screen.\n",
    "Think about why the result is like this, try with other strings of characters, and write down the result in the comments.\n",
    "\n",
    "Hint:\n",
    "How are, for example, encyclopedia entries organized?"
   ]
  },
  {
   "cell_type": "code",
   "execution_count": 3,
   "id": "3fe8aa9e-9deb-4701-98b9-903e47a01c1c",
   "metadata": {},
   "outputs": [
    {
     "name": "stdout",
     "output_type": "stream",
     "text": [
      "True\n"
     ]
    }
   ],
   "source": [
    "animal1 = 'cat'\n",
    "animal2 = 'dog'\n",
    "result= animal1<animal2\n",
    "print (result)\n"
   ]
  },
  {
   "cell_type": "code",
   "execution_count": 4,
   "id": "fc144352-4d4a-4d40-8698-a1b144dfd8eb",
   "metadata": {},
   "outputs": [
    {
     "name": "stdout",
     "output_type": "stream",
     "text": [
      "True\n"
     ]
    }
   ],
   "source": [
    "animal1 = 'cat'\n",
    "animal2 = 'dog'\n",
    "result= 'cat'<'dog'\n",
    "print (result)\n"
   ]
  }
 ],
 "metadata": {
  "kernelspec": {
   "display_name": "anaconda-2024.02-py310",
   "language": "python",
   "name": "conda-env-anaconda-2024.02-py310-py"
  },
  "language_info": {
   "codemirror_mode": {
    "name": "ipython",
    "version": 3
   },
   "file_extension": ".py",
   "mimetype": "text/x-python",
   "name": "python",
   "nbconvert_exporter": "python",
   "pygments_lexer": "ipython3",
   "version": "3.10.14"
  }
 },
 "nbformat": 4,
 "nbformat_minor": 5
}
