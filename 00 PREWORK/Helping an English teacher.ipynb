{
 "cells": [
  {
   "cell_type": "code",
   "execution_count": 3,
   "id": "76c9195e-c570-44c5-8153-e33ae14d1ebb",
   "metadata": {},
   "outputs": [
    {
     "name": "stdout",
     "output_type": "stream",
     "text": [
      "Checked 9 questions\n",
      "Student got 7 answers right out of 9 questions\n"
     ]
    }
   ],
   "source": [
    "# Variables initialization with data\n",
    "key_answers = ['a', 'b', 'a', 'c', 'd', 'a', 'c', 'a', 'b']\n",
    "student_answers = ['a', 'b', 'a', 'a', 'd', 'a', 'd', 'a', 'b']\n",
    "\n",
    "# Variables needed for program logic\n",
    "good_answers = 0;\n",
    "answers_length = len(key_answers)\n",
    "\n",
    "# for loop iterating through both lists\n",
    "for i in range(answers_length):\n",
    "    # We check if elements on i-th position are the same\n",
    "    if(key_answers[i] == student_answers[i]):\n",
    "        # If they are the same we increment good_answers\n",
    "        good_answers = good_answers + 1\n",
    "\n",
    "# We add 1 here because computer indexes from 0.\n",
    "print(f\"Checked {i+1} questions\")\n",
    "\n",
    "print(f\"Student got {good_answers} answers right out of {answers_length} questions\")\n"
   ]
  },
  {
   "cell_type": "code",
   "execution_count": null,
   "id": "4fe7299e-335f-4799-ab18-da74bb98f30e",
   "metadata": {},
   "outputs": [],
   "source": []
  }
 ],
 "metadata": {
  "kernelspec": {
   "display_name": "anaconda-2024.02-py310",
   "language": "python",
   "name": "conda-env-anaconda-2024.02-py310-py"
  },
  "language_info": {
   "codemirror_mode": {
    "name": "ipython",
    "version": 3
   },
   "file_extension": ".py",
   "mimetype": "text/x-python",
   "name": "python",
   "nbconvert_exporter": "python",
   "pygments_lexer": "ipython3",
   "version": "3.10.14"
  }
 },
 "nbformat": 4,
 "nbformat_minor": 5
}
